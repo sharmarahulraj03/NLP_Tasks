{
  "nbformat": 4,
  "nbformat_minor": 0,
  "metadata": {
    "colab": {
      "name": "Assignment_3(B)_DTI5125_Rahul_Raj_Sharma.ipynb",
      "provenance": [],
      "collapsed_sections": [],
      "authorship_tag": "ABX9TyMCP3/Mwu2pauhAV1aQvkQh",
      "include_colab_link": true
    },
    "kernelspec": {
      "name": "python3",
      "display_name": "Python 3"
    },
    "accelerator": "GPU"
  },
  "cells": [
    {
      "cell_type": "markdown",
      "metadata": {
        "id": "view-in-github",
        "colab_type": "text"
      },
      "source": [
        "<a href=\"https://colab.research.google.com/github/sharmarahulraj03/NLP_Tasks/blob/main/Assignment_3(B)_DTI5125_Rahul_Raj_Sharma.ipynb\" target=\"_parent\"><img src=\"https://colab.research.google.com/assets/colab-badge.svg\" alt=\"Open In Colab\"/></a>"
      ]
    },
    {
      "cell_type": "markdown",
      "metadata": {
        "id": "tJ86VgAAzy85"
      },
      "source": [
        "<H1 align=\"center\"><b>Data Science Applications</b></H1>\r\n",
        "<H3 align=\"center\"><b>Assignment 3</b></H3>\r\n",
        "<H5 align=\"left\"><b><u> Introduction:</u></b></H5>\r\n",
        "<p align=\"justify\">This assignment should be completed individually using either Python or R. Upon completion, present your result in one submission, including the report, answers generated and plots. Also, submit the source\r\n",
        "codes used to generate your results as a separate attachment.\r\n",
        "</p>\r\n",
        "<H5 align=\"left\"><b><u>Task 2: (50 points)</u></b></H5>\r\n",
        "<p align=\"justify\">2) Based on the result of your classifier from assignment 2A, complete the following:\r\n",
        "<ol>\r\n",
        "<li>Represent the words from the Covid-19 tweets sample data in vector space using the Word2Vec\r\n",
        "approach, and compare the accuracy of your assignment 2A model (which used the tf-idf\r\n",
        "approach) with the new model (10 points)\r\n",
        "</li>\r\n",
        "<li>Using the best model from (a), perform a k-fold (k=10) cross-validation in combination with\r\n",
        "Gridsearch or Randomsearch to fine-tune the performance of your model by varying its\r\n",
        "hyperparameter values (10 points)\r\n",
        "</li>\r\n",
        "<li>Select another classifier and compare the results of your model based on the following criteria:\r\n",
        "Accuracy, Sensitivity and Specificity (10 points)\r\n",
        "</li>\r\n",
        "<li>Carry out a ROC analysis to compare the performance of your model with the selected classifier.\r\n",
        "Plot the ROC graph of the models (10 points)\r\n",
        "</li>\r\n",
        "<li>After tuning your final model, persist using Pickle or Joblib (10 points)</li>\r\n",
        "</ol></p>"
      ]
    },
    {
      "cell_type": "markdown",
      "metadata": {
        "id": "AiJ-fcst0oKj"
      },
      "source": [
        "**Importing required Libraries.**"
      ]
    },
    {
      "cell_type": "code",
      "metadata": {
        "colab": {
          "base_uri": "https://localhost:8080/"
        },
        "id": "J0Uz2Qz4MKpz",
        "outputId": "2f27e581-3c56-4d52-c274-a5b8918a27a6"
      },
      "source": [
        "pip install xgboost"
      ],
      "execution_count": null,
      "outputs": [
        {
          "output_type": "stream",
          "text": [
            "Requirement already satisfied: xgboost in /usr/local/lib/python3.7/dist-packages (0.90)\n",
            "Requirement already satisfied: numpy in /usr/local/lib/python3.7/dist-packages (from xgboost) (1.19.5)\n",
            "Requirement already satisfied: scipy in /usr/local/lib/python3.7/dist-packages (from xgboost) (1.4.1)\n"
          ],
          "name": "stdout"
        }
      ]
    },
    {
      "cell_type": "code",
      "metadata": {
        "colab": {
          "base_uri": "https://localhost:8080/"
        },
        "id": "HUcDRpRQOm2O",
        "outputId": "03727754-21c9-4477-dd91-16997391dccf"
      },
      "source": [
        "#Import all the important required libraries \r\n",
        "import nltk\r\n",
        "import pandas as pd\r\n",
        "import numpy as np\r\n",
        "import csv\r\n",
        "import re\r\n",
        "import string\r\n",
        "import matplotlib.pyplot as plt\r\n",
        "import pickle\r\n",
        "\r\n",
        "nltk.download('punkt')\r\n",
        "nltk.download('wordnet')\r\n",
        "nltk.download('stopwords')\r\n",
        "\r\n",
        "from nltk.probability import FreqDist\r\n",
        "from nltk.corpus import stopwords\r\n",
        "from nltk.tokenize import word_tokenize\r\n",
        "from nltk.stem import WordNetLemmatizer\r\n",
        "from nltk.classify.scikitlearn import SklearnClassifier\r\n",
        "from sklearn.feature_extraction.text import CountVectorizer\r\n",
        "from sklearn.feature_extraction.text import TfidfTransformer\r\n",
        "from sklearn.feature_extraction.text import TfidfVectorizer\r\n",
        "from sklearn.preprocessing import LabelEncoder\r\n",
        "from sklearn.naive_bayes import BernoulliNB\r\n",
        "from sklearn.model_selection import cross_val_score\r\n",
        "from sklearn.metrics import confusion_matrix\r\n",
        "from sklearn.metrics import classification_report\r\n",
        "from sklearn.metrics import accuracy_score\r\n",
        "from xgboost import XGBClassifier\r\n",
        "from xgboost import XGBRFClassifier\r\n",
        "from sklearn.decomposition import PCA\r\n",
        "from sklearn.cluster import KMeans\r\n",
        "from wordcloud import WordCloud\r\n",
        "from sklearn.model_selection import RandomizedSearchCV\r\n",
        "from sklearn.ensemble import RandomForestClassifier\r\n",
        "from functools import reduce\r\n",
        "from sklearn.datasets import load_iris\r\n",
        "from gensim.models import word2vec\r\n",
        "from sklearn.metrics import f1_score, accuracy_score, precision_score, recall_score, roc_auc_score, roc_curve,auc,plot_roc_curve\r\n",
        "from sklearn.model_selection import StratifiedKFold"
      ],
      "execution_count": null,
      "outputs": [
        {
          "output_type": "stream",
          "text": [
            "[nltk_data] Downloading package punkt to /root/nltk_data...\n",
            "[nltk_data]   Unzipping tokenizers/punkt.zip.\n",
            "[nltk_data] Downloading package wordnet to /root/nltk_data...\n",
            "[nltk_data]   Unzipping corpora/wordnet.zip.\n",
            "[nltk_data] Downloading package stopwords to /root/nltk_data...\n",
            "[nltk_data]   Unzipping corpora/stopwords.zip.\n"
          ],
          "name": "stdout"
        }
      ]
    },
    {
      "cell_type": "code",
      "metadata": {
        "id": "-ss_6IEvOqWv"
      },
      "source": [
        "# Import Train and Test data\r\n",
        "covid_test_data = pd.read_csv(\"Covid_test_data.csv\")\r\n",
        "covid_train_data = pd.read_csv(\"Covid_train_data.csv\" , encoding='latin-1')"
      ],
      "execution_count": null,
      "outputs": []
    },
    {
      "cell_type": "code",
      "metadata": {
        "colab": {
          "base_uri": "https://localhost:8080/",
          "height": 340
        },
        "id": "3Vaz_t55O7sQ",
        "outputId": "3f594360-5a39-4b8b-802c-b38be20b4066"
      },
      "source": [
        "#Display first 10 rows of test data\r\n",
        "covid_test_data.head(10)"
      ],
      "execution_count": null,
      "outputs": [
        {
          "output_type": "execute_result",
          "data": {
            "text/html": [
              "<div>\n",
              "<style scoped>\n",
              "    .dataframe tbody tr th:only-of-type {\n",
              "        vertical-align: middle;\n",
              "    }\n",
              "\n",
              "    .dataframe tbody tr th {\n",
              "        vertical-align: top;\n",
              "    }\n",
              "\n",
              "    .dataframe thead th {\n",
              "        text-align: right;\n",
              "    }\n",
              "</style>\n",
              "<table border=\"1\" class=\"dataframe\">\n",
              "  <thead>\n",
              "    <tr style=\"text-align: right;\">\n",
              "      <th></th>\n",
              "      <th>UserName</th>\n",
              "      <th>ScreenName</th>\n",
              "      <th>Location</th>\n",
              "      <th>TweetAt</th>\n",
              "      <th>OriginalTweet</th>\n",
              "      <th>Sentiment</th>\n",
              "    </tr>\n",
              "  </thead>\n",
              "  <tbody>\n",
              "    <tr>\n",
              "      <th>0</th>\n",
              "      <td>1</td>\n",
              "      <td>44953</td>\n",
              "      <td>NYC</td>\n",
              "      <td>02-03-2020</td>\n",
              "      <td>TRENDING: New Yorkers encounter empty supermar...</td>\n",
              "      <td>Extremely Negative</td>\n",
              "    </tr>\n",
              "    <tr>\n",
              "      <th>1</th>\n",
              "      <td>2</td>\n",
              "      <td>44954</td>\n",
              "      <td>Seattle, WA</td>\n",
              "      <td>02-03-2020</td>\n",
              "      <td>When I couldn't find hand sanitizer at Fred Me...</td>\n",
              "      <td>Positive</td>\n",
              "    </tr>\n",
              "    <tr>\n",
              "      <th>2</th>\n",
              "      <td>3</td>\n",
              "      <td>44955</td>\n",
              "      <td>NaN</td>\n",
              "      <td>02-03-2020</td>\n",
              "      <td>Find out how you can protect yourself and love...</td>\n",
              "      <td>Extremely Positive</td>\n",
              "    </tr>\n",
              "    <tr>\n",
              "      <th>3</th>\n",
              "      <td>4</td>\n",
              "      <td>44956</td>\n",
              "      <td>Chicagoland</td>\n",
              "      <td>02-03-2020</td>\n",
              "      <td>#Panic buying hits #NewYork City as anxious sh...</td>\n",
              "      <td>Negative</td>\n",
              "    </tr>\n",
              "    <tr>\n",
              "      <th>4</th>\n",
              "      <td>5</td>\n",
              "      <td>44957</td>\n",
              "      <td>Melbourne, Victoria</td>\n",
              "      <td>03-03-2020</td>\n",
              "      <td>#toiletpaper #dunnypaper #coronavirus #coronav...</td>\n",
              "      <td>Neutral</td>\n",
              "    </tr>\n",
              "    <tr>\n",
              "      <th>5</th>\n",
              "      <td>6</td>\n",
              "      <td>44958</td>\n",
              "      <td>Los Angeles</td>\n",
              "      <td>03-03-2020</td>\n",
              "      <td>Do you remember the last time you paid $2.99 a...</td>\n",
              "      <td>Neutral</td>\n",
              "    </tr>\n",
              "    <tr>\n",
              "      <th>6</th>\n",
              "      <td>7</td>\n",
              "      <td>44959</td>\n",
              "      <td>NaN</td>\n",
              "      <td>03-03-2020</td>\n",
              "      <td>Voting in the age of #coronavirus = hand sanit...</td>\n",
              "      <td>Positive</td>\n",
              "    </tr>\n",
              "    <tr>\n",
              "      <th>7</th>\n",
              "      <td>8</td>\n",
              "      <td>44960</td>\n",
              "      <td>Geneva, Switzerland</td>\n",
              "      <td>03-03-2020</td>\n",
              "      <td>@DrTedros \"We cant stop #COVID19 without prot...</td>\n",
              "      <td>Neutral</td>\n",
              "    </tr>\n",
              "    <tr>\n",
              "      <th>8</th>\n",
              "      <td>9</td>\n",
              "      <td>44961</td>\n",
              "      <td>NaN</td>\n",
              "      <td>04-03-2020</td>\n",
              "      <td>HI TWITTER! I am a pharmacist. I sell hand san...</td>\n",
              "      <td>Extremely Negative</td>\n",
              "    </tr>\n",
              "    <tr>\n",
              "      <th>9</th>\n",
              "      <td>10</td>\n",
              "      <td>44962</td>\n",
              "      <td>Dublin, Ireland</td>\n",
              "      <td>04-03-2020</td>\n",
              "      <td>Anyone been in a supermarket over the last few...</td>\n",
              "      <td>Extremely Positive</td>\n",
              "    </tr>\n",
              "  </tbody>\n",
              "</table>\n",
              "</div>"
            ],
            "text/plain": [
              "   UserName  ...           Sentiment\n",
              "0         1  ...  Extremely Negative\n",
              "1         2  ...            Positive\n",
              "2         3  ...  Extremely Positive\n",
              "3         4  ...            Negative\n",
              "4         5  ...             Neutral\n",
              "5         6  ...             Neutral\n",
              "6         7  ...            Positive\n",
              "7         8  ...             Neutral\n",
              "8         9  ...  Extremely Negative\n",
              "9        10  ...  Extremely Positive\n",
              "\n",
              "[10 rows x 6 columns]"
            ]
          },
          "metadata": {
            "tags": []
          },
          "execution_count": 6
        }
      ]
    },
    {
      "cell_type": "code",
      "metadata": {
        "colab": {
          "base_uri": "https://localhost:8080/",
          "height": 340
        },
        "id": "Hkz_R4V7O-Oy",
        "outputId": "1d6e392a-8c2b-4ea3-b48e-632d4217a116"
      },
      "source": [
        "#Display first 10 rows of train data \r\n",
        "covid_train_data.head(10)"
      ],
      "execution_count": null,
      "outputs": [
        {
          "output_type": "execute_result",
          "data": {
            "text/html": [
              "<div>\n",
              "<style scoped>\n",
              "    .dataframe tbody tr th:only-of-type {\n",
              "        vertical-align: middle;\n",
              "    }\n",
              "\n",
              "    .dataframe tbody tr th {\n",
              "        vertical-align: top;\n",
              "    }\n",
              "\n",
              "    .dataframe thead th {\n",
              "        text-align: right;\n",
              "    }\n",
              "</style>\n",
              "<table border=\"1\" class=\"dataframe\">\n",
              "  <thead>\n",
              "    <tr style=\"text-align: right;\">\n",
              "      <th></th>\n",
              "      <th>UserName</th>\n",
              "      <th>ScreenName</th>\n",
              "      <th>Location</th>\n",
              "      <th>TweetAt</th>\n",
              "      <th>OriginalTweet</th>\n",
              "      <th>Sentiment</th>\n",
              "    </tr>\n",
              "  </thead>\n",
              "  <tbody>\n",
              "    <tr>\n",
              "      <th>0</th>\n",
              "      <td>3799</td>\n",
              "      <td>48751</td>\n",
              "      <td>London</td>\n",
              "      <td>16-03-2020</td>\n",
              "      <td>@MeNyrbie @Phil_Gahan @Chrisitv https://t.co/i...</td>\n",
              "      <td>Neutral</td>\n",
              "    </tr>\n",
              "    <tr>\n",
              "      <th>1</th>\n",
              "      <td>3800</td>\n",
              "      <td>48752</td>\n",
              "      <td>UK</td>\n",
              "      <td>16-03-2020</td>\n",
              "      <td>advice Talk to your neighbours family to excha...</td>\n",
              "      <td>Positive</td>\n",
              "    </tr>\n",
              "    <tr>\n",
              "      <th>2</th>\n",
              "      <td>3801</td>\n",
              "      <td>48753</td>\n",
              "      <td>Vagabonds</td>\n",
              "      <td>16-03-2020</td>\n",
              "      <td>Coronavirus Australia: Woolworths to give elde...</td>\n",
              "      <td>Positive</td>\n",
              "    </tr>\n",
              "    <tr>\n",
              "      <th>3</th>\n",
              "      <td>3802</td>\n",
              "      <td>48754</td>\n",
              "      <td>NaN</td>\n",
              "      <td>16-03-2020</td>\n",
              "      <td>My food stock is not the only one which is emp...</td>\n",
              "      <td>Positive</td>\n",
              "    </tr>\n",
              "    <tr>\n",
              "      <th>4</th>\n",
              "      <td>3803</td>\n",
              "      <td>48755</td>\n",
              "      <td>NaN</td>\n",
              "      <td>16-03-2020</td>\n",
              "      <td>Me, ready to go at supermarket during the #COV...</td>\n",
              "      <td>Extremely Negative</td>\n",
              "    </tr>\n",
              "    <tr>\n",
              "      <th>5</th>\n",
              "      <td>3804</td>\n",
              "      <td>48756</td>\n",
              "      <td>ÃT: 36.319708,-82.363649</td>\n",
              "      <td>16-03-2020</td>\n",
              "      <td>As news of the regionÂs first confirmed COVID...</td>\n",
              "      <td>Positive</td>\n",
              "    </tr>\n",
              "    <tr>\n",
              "      <th>6</th>\n",
              "      <td>3805</td>\n",
              "      <td>48757</td>\n",
              "      <td>35.926541,-78.753267</td>\n",
              "      <td>16-03-2020</td>\n",
              "      <td>Cashier at grocery store was sharing his insig...</td>\n",
              "      <td>Positive</td>\n",
              "    </tr>\n",
              "    <tr>\n",
              "      <th>7</th>\n",
              "      <td>3806</td>\n",
              "      <td>48758</td>\n",
              "      <td>Austria</td>\n",
              "      <td>16-03-2020</td>\n",
              "      <td>Was at the supermarket today. Didn't buy toile...</td>\n",
              "      <td>Neutral</td>\n",
              "    </tr>\n",
              "    <tr>\n",
              "      <th>8</th>\n",
              "      <td>3807</td>\n",
              "      <td>48759</td>\n",
              "      <td>Atlanta, GA USA</td>\n",
              "      <td>16-03-2020</td>\n",
              "      <td>Due to COVID-19 our retail store and classroom...</td>\n",
              "      <td>Positive</td>\n",
              "    </tr>\n",
              "    <tr>\n",
              "      <th>9</th>\n",
              "      <td>3808</td>\n",
              "      <td>48760</td>\n",
              "      <td>BHAVNAGAR,GUJRAT</td>\n",
              "      <td>16-03-2020</td>\n",
              "      <td>For corona prevention,we should stop to buy th...</td>\n",
              "      <td>Negative</td>\n",
              "    </tr>\n",
              "  </tbody>\n",
              "</table>\n",
              "</div>"
            ],
            "text/plain": [
              "   UserName  ...           Sentiment\n",
              "0      3799  ...             Neutral\n",
              "1      3800  ...            Positive\n",
              "2      3801  ...            Positive\n",
              "3      3802  ...            Positive\n",
              "4      3803  ...  Extremely Negative\n",
              "5      3804  ...            Positive\n",
              "6      3805  ...            Positive\n",
              "7      3806  ...             Neutral\n",
              "8      3807  ...            Positive\n",
              "9      3808  ...            Negative\n",
              "\n",
              "[10 rows x 6 columns]"
            ]
          },
          "metadata": {
            "tags": []
          },
          "execution_count": 7
        }
      ]
    },
    {
      "cell_type": "code",
      "metadata": {
        "colab": {
          "base_uri": "https://localhost:8080/",
          "height": 603
        },
        "id": "uHCBMZ7bPAa-",
        "outputId": "afae55b8-ae4b-4119-9297-b42a26502df4"
      },
      "source": [
        "#Display data before Preprocessing \r\n",
        "#Display the first five rows of train data to get an idea \r\n",
        "display(covid_train_data.head())\r\n",
        "#Print the summary statistics for train data\r\n",
        "print(covid_train_data.describe())\r\n",
        "#information print about train data\r\n",
        "print(covid_train_data.info())"
      ],
      "execution_count": null,
      "outputs": [
        {
          "output_type": "display_data",
          "data": {
            "text/html": [
              "<div>\n",
              "<style scoped>\n",
              "    .dataframe tbody tr th:only-of-type {\n",
              "        vertical-align: middle;\n",
              "    }\n",
              "\n",
              "    .dataframe tbody tr th {\n",
              "        vertical-align: top;\n",
              "    }\n",
              "\n",
              "    .dataframe thead th {\n",
              "        text-align: right;\n",
              "    }\n",
              "</style>\n",
              "<table border=\"1\" class=\"dataframe\">\n",
              "  <thead>\n",
              "    <tr style=\"text-align: right;\">\n",
              "      <th></th>\n",
              "      <th>UserName</th>\n",
              "      <th>ScreenName</th>\n",
              "      <th>Location</th>\n",
              "      <th>TweetAt</th>\n",
              "      <th>OriginalTweet</th>\n",
              "      <th>Sentiment</th>\n",
              "    </tr>\n",
              "  </thead>\n",
              "  <tbody>\n",
              "    <tr>\n",
              "      <th>0</th>\n",
              "      <td>3799</td>\n",
              "      <td>48751</td>\n",
              "      <td>London</td>\n",
              "      <td>16-03-2020</td>\n",
              "      <td>@MeNyrbie @Phil_Gahan @Chrisitv https://t.co/i...</td>\n",
              "      <td>Neutral</td>\n",
              "    </tr>\n",
              "    <tr>\n",
              "      <th>1</th>\n",
              "      <td>3800</td>\n",
              "      <td>48752</td>\n",
              "      <td>UK</td>\n",
              "      <td>16-03-2020</td>\n",
              "      <td>advice Talk to your neighbours family to excha...</td>\n",
              "      <td>Positive</td>\n",
              "    </tr>\n",
              "    <tr>\n",
              "      <th>2</th>\n",
              "      <td>3801</td>\n",
              "      <td>48753</td>\n",
              "      <td>Vagabonds</td>\n",
              "      <td>16-03-2020</td>\n",
              "      <td>Coronavirus Australia: Woolworths to give elde...</td>\n",
              "      <td>Positive</td>\n",
              "    </tr>\n",
              "    <tr>\n",
              "      <th>3</th>\n",
              "      <td>3802</td>\n",
              "      <td>48754</td>\n",
              "      <td>NaN</td>\n",
              "      <td>16-03-2020</td>\n",
              "      <td>My food stock is not the only one which is emp...</td>\n",
              "      <td>Positive</td>\n",
              "    </tr>\n",
              "    <tr>\n",
              "      <th>4</th>\n",
              "      <td>3803</td>\n",
              "      <td>48755</td>\n",
              "      <td>NaN</td>\n",
              "      <td>16-03-2020</td>\n",
              "      <td>Me, ready to go at supermarket during the #COV...</td>\n",
              "      <td>Extremely Negative</td>\n",
              "    </tr>\n",
              "  </tbody>\n",
              "</table>\n",
              "</div>"
            ],
            "text/plain": [
              "   UserName  ...           Sentiment\n",
              "0      3799  ...             Neutral\n",
              "1      3800  ...            Positive\n",
              "2      3801  ...            Positive\n",
              "3      3802  ...            Positive\n",
              "4      3803  ...  Extremely Negative\n",
              "\n",
              "[5 rows x 6 columns]"
            ]
          },
          "metadata": {
            "tags": []
          }
        },
        {
          "output_type": "stream",
          "text": [
            "           UserName    ScreenName\n",
            "count  41157.000000  41157.000000\n",
            "mean   24377.000000  69329.000000\n",
            "std    11881.146851  11881.146851\n",
            "min     3799.000000  48751.000000\n",
            "25%    14088.000000  59040.000000\n",
            "50%    24377.000000  69329.000000\n",
            "75%    34666.000000  79618.000000\n",
            "max    44955.000000  89907.000000\n",
            "<class 'pandas.core.frame.DataFrame'>\n",
            "RangeIndex: 41157 entries, 0 to 41156\n",
            "Data columns (total 6 columns):\n",
            " #   Column         Non-Null Count  Dtype \n",
            "---  ------         --------------  ----- \n",
            " 0   UserName       41157 non-null  int64 \n",
            " 1   ScreenName     41157 non-null  int64 \n",
            " 2   Location       32567 non-null  object\n",
            " 3   TweetAt        41157 non-null  object\n",
            " 4   OriginalTweet  41157 non-null  object\n",
            " 5   Sentiment      41157 non-null  object\n",
            "dtypes: int64(2), object(4)\n",
            "memory usage: 1.9+ MB\n",
            "None\n"
          ],
          "name": "stdout"
        }
      ]
    },
    {
      "cell_type": "code",
      "metadata": {
        "colab": {
          "base_uri": "https://localhost:8080/"
        },
        "id": "2X4wSeOtPFc6",
        "outputId": "79c7b028-93ab-48e1-ec52-71c7ef0d4098"
      },
      "source": [
        "#Removing first 2 unnecessary columns\r\n",
        "covid_train_data.drop(columns=[\"UserName\", \"ScreenName\"], axis=1, inplace=True)\r\n",
        "#Removing duplicated rows\r\n",
        "covid_train_data.drop_duplicates(inplace=True)\r\n",
        "#Changing datatype\r\n",
        "covid_train_data[\"TweetAt\"] = pd.to_datetime(covid_train_data[\"TweetAt\"])\r\n",
        "# Print the information of Train data\r\n",
        "print(covid_train_data.info())"
      ],
      "execution_count": null,
      "outputs": [
        {
          "output_type": "stream",
          "text": [
            "<class 'pandas.core.frame.DataFrame'>\n",
            "Int64Index: 41157 entries, 0 to 41156\n",
            "Data columns (total 4 columns):\n",
            " #   Column         Non-Null Count  Dtype         \n",
            "---  ------         --------------  -----         \n",
            " 0   Location       32567 non-null  object        \n",
            " 1   TweetAt        41157 non-null  datetime64[ns]\n",
            " 2   OriginalTweet  41157 non-null  object        \n",
            " 3   Sentiment      41157 non-null  object        \n",
            "dtypes: datetime64[ns](1), object(3)\n",
            "memory usage: 1.6+ MB\n",
            "None\n"
          ],
          "name": "stdout"
        }
      ]
    },
    {
      "cell_type": "code",
      "metadata": {
        "colab": {
          "base_uri": "https://localhost:8080/",
          "height": 340
        },
        "id": "VucCWWk7PJW_",
        "outputId": "48f5878a-fd1a-49b7-fcd1-56a188fa6423"
      },
      "source": [
        "#Function for Preprocessing the Train data\r\n",
        "def process_tweets(tweet):\r\n",
        "    \r\n",
        "    # Remove links\r\n",
        "    tweet = re.sub(r\"http\\S+|www\\S+|https\\S+\", '', tweet, flags=re.MULTILINE)\r\n",
        "    \r\n",
        "    # Remove mentions and hashtag\r\n",
        "    tweet = re.sub(r'\\@\\w+|\\#','', tweet)\r\n",
        "    \r\n",
        "    # Tokenize the words\r\n",
        "    tokenized = word_tokenize(tweet)\r\n",
        "\r\n",
        "    # Remove the stop words\r\n",
        "    tokenized = [token for token in tokenized if token not in stopwords.words(\"english\")] \r\n",
        "\r\n",
        "    # Lemmatize the words\r\n",
        "    lemmatizer = WordNetLemmatizer()\r\n",
        "    tokenized = [lemmatizer.lemmatize(token, pos='a') for token in tokenized]\r\n",
        "\r\n",
        "    # Remove non-alphabetic characters and keep the words contains three or more letters\r\n",
        "    tokenized = [token for token in tokenized if token.isalpha() and len(token)>2]\r\n",
        "    \r\n",
        "    return tokenized\r\n",
        "    \r\n",
        "# Call the function and store the result into a new column\r\n",
        "covid_train_data[\"Processed\"] = covid_train_data[\"OriginalTweet\"].str.lower().apply(process_tweets)\r\n",
        "\r\n",
        "# Print the first ten rows of Processed\r\n",
        "covid_train_data.head(10)"
      ],
      "execution_count": null,
      "outputs": [
        {
          "output_type": "execute_result",
          "data": {
            "text/html": [
              "<div>\n",
              "<style scoped>\n",
              "    .dataframe tbody tr th:only-of-type {\n",
              "        vertical-align: middle;\n",
              "    }\n",
              "\n",
              "    .dataframe tbody tr th {\n",
              "        vertical-align: top;\n",
              "    }\n",
              "\n",
              "    .dataframe thead th {\n",
              "        text-align: right;\n",
              "    }\n",
              "</style>\n",
              "<table border=\"1\" class=\"dataframe\">\n",
              "  <thead>\n",
              "    <tr style=\"text-align: right;\">\n",
              "      <th></th>\n",
              "      <th>Location</th>\n",
              "      <th>TweetAt</th>\n",
              "      <th>OriginalTweet</th>\n",
              "      <th>Sentiment</th>\n",
              "      <th>Processed</th>\n",
              "    </tr>\n",
              "  </thead>\n",
              "  <tbody>\n",
              "    <tr>\n",
              "      <th>0</th>\n",
              "      <td>London</td>\n",
              "      <td>2020-03-16</td>\n",
              "      <td>@MeNyrbie @Phil_Gahan @Chrisitv https://t.co/i...</td>\n",
              "      <td>Neutral</td>\n",
              "      <td>[]</td>\n",
              "    </tr>\n",
              "    <tr>\n",
              "      <th>1</th>\n",
              "      <td>UK</td>\n",
              "      <td>2020-03-16</td>\n",
              "      <td>advice Talk to your neighbours family to excha...</td>\n",
              "      <td>Positive</td>\n",
              "      <td>[advice, talk, neighbours, family, exchange, p...</td>\n",
              "    </tr>\n",
              "    <tr>\n",
              "      <th>2</th>\n",
              "      <td>Vagabonds</td>\n",
              "      <td>2020-03-16</td>\n",
              "      <td>Coronavirus Australia: Woolworths to give elde...</td>\n",
              "      <td>Positive</td>\n",
              "      <td>[coronavirus, australia, woolworths, give, eld...</td>\n",
              "    </tr>\n",
              "    <tr>\n",
              "      <th>3</th>\n",
              "      <td>NaN</td>\n",
              "      <td>2020-03-16</td>\n",
              "      <td>My food stock is not the only one which is emp...</td>\n",
              "      <td>Positive</td>\n",
              "      <td>[food, stock, one, empty, please, panic, enoug...</td>\n",
              "    </tr>\n",
              "    <tr>\n",
              "      <th>4</th>\n",
              "      <td>NaN</td>\n",
              "      <td>2020-03-16</td>\n",
              "      <td>Me, ready to go at supermarket during the #COV...</td>\n",
              "      <td>Extremely Negative</td>\n",
              "      <td>[ready, supermarket, outbreak, paranoid, food,...</td>\n",
              "    </tr>\n",
              "    <tr>\n",
              "      <th>5</th>\n",
              "      <td>ÃT: 36.319708,-82.363649</td>\n",
              "      <td>2020-03-16</td>\n",
              "      <td>As news of the regionÂs first confirmed COVID...</td>\n",
              "      <td>Positive</td>\n",
              "      <td>[news, first, confirmed, case, came, sullivan,...</td>\n",
              "    </tr>\n",
              "    <tr>\n",
              "      <th>6</th>\n",
              "      <td>35.926541,-78.753267</td>\n",
              "      <td>2020-03-16</td>\n",
              "      <td>Cashier at grocery store was sharing his insig...</td>\n",
              "      <td>Positive</td>\n",
              "      <td>[cashier, grocery, store, sharing, insights, p...</td>\n",
              "    </tr>\n",
              "    <tr>\n",
              "      <th>7</th>\n",
              "      <td>Austria</td>\n",
              "      <td>2020-03-16</td>\n",
              "      <td>Was at the supermarket today. Didn't buy toile...</td>\n",
              "      <td>Neutral</td>\n",
              "      <td>[supermarket, today, buy, toilet, paper, rebel...</td>\n",
              "    </tr>\n",
              "    <tr>\n",
              "      <th>8</th>\n",
              "      <td>Atlanta, GA USA</td>\n",
              "      <td>2020-03-16</td>\n",
              "      <td>Due to COVID-19 our retail store and classroom...</td>\n",
              "      <td>Positive</td>\n",
              "      <td>[due, retail, store, classroom, atlanta, open,...</td>\n",
              "    </tr>\n",
              "    <tr>\n",
              "      <th>9</th>\n",
              "      <td>BHAVNAGAR,GUJRAT</td>\n",
              "      <td>2020-03-16</td>\n",
              "      <td>For corona prevention,we should stop to buy th...</td>\n",
              "      <td>Negative</td>\n",
              "      <td>[corona, prevention, stop, buy, things, cash, ...</td>\n",
              "    </tr>\n",
              "  </tbody>\n",
              "</table>\n",
              "</div>"
            ],
            "text/plain": [
              "                    Location  ...                                          Processed\n",
              "0                     London  ...                                                 []\n",
              "1                         UK  ...  [advice, talk, neighbours, family, exchange, p...\n",
              "2                  Vagabonds  ...  [coronavirus, australia, woolworths, give, eld...\n",
              "3                        NaN  ...  [food, stock, one, empty, please, panic, enoug...\n",
              "4                        NaN  ...  [ready, supermarket, outbreak, paranoid, food,...\n",
              "5  ÃT: 36.319708,-82.363649  ...  [news, first, confirmed, case, came, sullivan,...\n",
              "6       35.926541,-78.753267  ...  [cashier, grocery, store, sharing, insights, p...\n",
              "7                    Austria  ...  [supermarket, today, buy, toilet, paper, rebel...\n",
              "8            Atlanta, GA USA  ...  [due, retail, store, classroom, atlanta, open,...\n",
              "9           BHAVNAGAR,GUJRAT  ...  [corona, prevention, stop, buy, things, cash, ...\n",
              "\n",
              "[10 rows x 5 columns]"
            ]
          },
          "metadata": {
            "tags": []
          },
          "execution_count": 10
        }
      ]
    },
    {
      "cell_type": "code",
      "metadata": {
        "colab": {
          "base_uri": "https://localhost:8080/",
          "height": 399
        },
        "id": "BzwdULhUPNap",
        "outputId": "9c6d921b-e13b-4598-8cee-15ccd77e5aff"
      },
      "source": [
        "# Get the tweet lengths for train data\r\n",
        "covid_train_data[\"Length\"] = covid_train_data[\"OriginalTweet\"].str.len()\r\n",
        "# Get the number of words in tweets train data\r\n",
        "covid_train_data[\"Words\"] = covid_train_data[\"OriginalTweet\"].str.split().str.len()\r\n",
        "# Display the new columns of train data\r\n",
        "display(covid_train_data[[\"Length\", \"Words\"]])"
      ],
      "execution_count": null,
      "outputs": [
        {
          "output_type": "display_data",
          "data": {
            "text/html": [
              "<div>\n",
              "<style scoped>\n",
              "    .dataframe tbody tr th:only-of-type {\n",
              "        vertical-align: middle;\n",
              "    }\n",
              "\n",
              "    .dataframe tbody tr th {\n",
              "        vertical-align: top;\n",
              "    }\n",
              "\n",
              "    .dataframe thead th {\n",
              "        text-align: right;\n",
              "    }\n",
              "</style>\n",
              "<table border=\"1\" class=\"dataframe\">\n",
              "  <thead>\n",
              "    <tr style=\"text-align: right;\">\n",
              "      <th></th>\n",
              "      <th>Length</th>\n",
              "      <th>Words</th>\n",
              "    </tr>\n",
              "  </thead>\n",
              "  <tbody>\n",
              "    <tr>\n",
              "      <th>0</th>\n",
              "      <td>111</td>\n",
              "      <td>8</td>\n",
              "    </tr>\n",
              "    <tr>\n",
              "      <th>1</th>\n",
              "      <td>237</td>\n",
              "      <td>38</td>\n",
              "    </tr>\n",
              "    <tr>\n",
              "      <th>2</th>\n",
              "      <td>131</td>\n",
              "      <td>14</td>\n",
              "    </tr>\n",
              "    <tr>\n",
              "      <th>3</th>\n",
              "      <td>306</td>\n",
              "      <td>42</td>\n",
              "    </tr>\n",
              "    <tr>\n",
              "      <th>4</th>\n",
              "      <td>310</td>\n",
              "      <td>40</td>\n",
              "    </tr>\n",
              "    <tr>\n",
              "      <th>...</th>\n",
              "      <td>...</td>\n",
              "      <td>...</td>\n",
              "    </tr>\n",
              "    <tr>\n",
              "      <th>41152</th>\n",
              "      <td>102</td>\n",
              "      <td>12</td>\n",
              "    </tr>\n",
              "    <tr>\n",
              "      <th>41153</th>\n",
              "      <td>138</td>\n",
              "      <td>23</td>\n",
              "    </tr>\n",
              "    <tr>\n",
              "      <th>41154</th>\n",
              "      <td>136</td>\n",
              "      <td>18</td>\n",
              "    </tr>\n",
              "    <tr>\n",
              "      <th>41155</th>\n",
              "      <td>111</td>\n",
              "      <td>18</td>\n",
              "    </tr>\n",
              "    <tr>\n",
              "      <th>41156</th>\n",
              "      <td>255</td>\n",
              "      <td>46</td>\n",
              "    </tr>\n",
              "  </tbody>\n",
              "</table>\n",
              "<p>41157 rows × 2 columns</p>\n",
              "</div>"
            ],
            "text/plain": [
              "       Length  Words\n",
              "0         111      8\n",
              "1         237     38\n",
              "2         131     14\n",
              "3         306     42\n",
              "4         310     40\n",
              "...       ...    ...\n",
              "41152     102     12\n",
              "41153     138     23\n",
              "41154     136     18\n",
              "41155     111     18\n",
              "41156     255     46\n",
              "\n",
              "[41157 rows x 2 columns]"
            ]
          },
          "metadata": {
            "tags": []
          }
        }
      ]
    },
    {
      "cell_type": "code",
      "metadata": {
        "id": "rEm_8wS-PUjF"
      },
      "source": [
        "# Fill the missing values with unknown tag in train data\r\n",
        "covid_train_data[\"Location\"].fillna(\"unknown\", inplace=True)"
      ],
      "execution_count": null,
      "outputs": []
    },
    {
      "cell_type": "code",
      "metadata": {
        "colab": {
          "base_uri": "https://localhost:8080/",
          "height": 340
        },
        "id": "O1V2mePyPY07",
        "outputId": "59bf23e8-ec87-4639-f5a3-16eb6153ba26"
      },
      "source": [
        "#function for preprocessing Test data in order to use further in calculating accuracy\r\n",
        "def process_tweets(tweet):\r\n",
        "    \r\n",
        "    # Remove links\r\n",
        "    tweet = re.sub(r\"http\\S+|www\\S+|https\\S+\", '', tweet, flags=re.MULTILINE)\r\n",
        "    \r\n",
        "    # Remove mentions and hashtag\r\n",
        "    tweet = re.sub(r'\\@\\w+|\\#','', tweet)\r\n",
        "    \r\n",
        "    # Tokenize the words\r\n",
        "    tokenized = word_tokenize(tweet)\r\n",
        "\r\n",
        "    # Remove the stop words\r\n",
        "    tokenized = [token for token in tokenized if token not in stopwords.words(\"english\")] \r\n",
        "\r\n",
        "    # Lemmatize the words\r\n",
        "    lemmatizer = WordNetLemmatizer()\r\n",
        "    tokenized = [lemmatizer.lemmatize(token, pos='a') for token in tokenized]\r\n",
        "\r\n",
        "    # Remove non-alphabetic characters and keep the words contains three or more letters\r\n",
        "    tokenized = [token for token in tokenized if token.isalpha() and len(token)>2]\r\n",
        "    \r\n",
        "    return tokenized\r\n",
        "    \r\n",
        "# Call the function and store the result into a new column\r\n",
        "covid_test_data[\"Processed\"] = covid_test_data[\"OriginalTweet\"].str.lower().apply(process_tweets)\r\n",
        "\r\n",
        "# Print the first ten rows of Processed\r\n",
        "covid_test_data.head(10)"
      ],
      "execution_count": null,
      "outputs": [
        {
          "output_type": "execute_result",
          "data": {
            "text/html": [
              "<div>\n",
              "<style scoped>\n",
              "    .dataframe tbody tr th:only-of-type {\n",
              "        vertical-align: middle;\n",
              "    }\n",
              "\n",
              "    .dataframe tbody tr th {\n",
              "        vertical-align: top;\n",
              "    }\n",
              "\n",
              "    .dataframe thead th {\n",
              "        text-align: right;\n",
              "    }\n",
              "</style>\n",
              "<table border=\"1\" class=\"dataframe\">\n",
              "  <thead>\n",
              "    <tr style=\"text-align: right;\">\n",
              "      <th></th>\n",
              "      <th>UserName</th>\n",
              "      <th>ScreenName</th>\n",
              "      <th>Location</th>\n",
              "      <th>TweetAt</th>\n",
              "      <th>OriginalTweet</th>\n",
              "      <th>Sentiment</th>\n",
              "      <th>Processed</th>\n",
              "    </tr>\n",
              "  </thead>\n",
              "  <tbody>\n",
              "    <tr>\n",
              "      <th>0</th>\n",
              "      <td>1</td>\n",
              "      <td>44953</td>\n",
              "      <td>NYC</td>\n",
              "      <td>02-03-2020</td>\n",
              "      <td>TRENDING: New Yorkers encounter empty supermar...</td>\n",
              "      <td>Extremely Negative</td>\n",
              "      <td>[trending, new, yorkers, encounter, empty, sup...</td>\n",
              "    </tr>\n",
              "    <tr>\n",
              "      <th>1</th>\n",
              "      <td>2</td>\n",
              "      <td>44954</td>\n",
              "      <td>Seattle, WA</td>\n",
              "      <td>02-03-2020</td>\n",
              "      <td>When I couldn't find hand sanitizer at Fred Me...</td>\n",
              "      <td>Positive</td>\n",
              "      <td>[could, find, hand, sanitizer, fred, meyer, tu...</td>\n",
              "    </tr>\n",
              "    <tr>\n",
              "      <th>2</th>\n",
              "      <td>3</td>\n",
              "      <td>44955</td>\n",
              "      <td>NaN</td>\n",
              "      <td>02-03-2020</td>\n",
              "      <td>Find out how you can protect yourself and love...</td>\n",
              "      <td>Extremely Positive</td>\n",
              "      <td>[find, protect, loved, ones, coronavirus]</td>\n",
              "    </tr>\n",
              "    <tr>\n",
              "      <th>3</th>\n",
              "      <td>4</td>\n",
              "      <td>44956</td>\n",
              "      <td>Chicagoland</td>\n",
              "      <td>02-03-2020</td>\n",
              "      <td>#Panic buying hits #NewYork City as anxious sh...</td>\n",
              "      <td>Negative</td>\n",
              "      <td>[panic, buying, hits, newyork, city, anxious, ...</td>\n",
              "    </tr>\n",
              "    <tr>\n",
              "      <th>4</th>\n",
              "      <td>5</td>\n",
              "      <td>44957</td>\n",
              "      <td>Melbourne, Victoria</td>\n",
              "      <td>03-03-2020</td>\n",
              "      <td>#toiletpaper #dunnypaper #coronavirus #coronav...</td>\n",
              "      <td>Neutral</td>\n",
              "      <td>[toiletpaper, dunnypaper, coronavirus, coronav...</td>\n",
              "    </tr>\n",
              "    <tr>\n",
              "      <th>5</th>\n",
              "      <td>6</td>\n",
              "      <td>44958</td>\n",
              "      <td>Los Angeles</td>\n",
              "      <td>03-03-2020</td>\n",
              "      <td>Do you remember the last time you paid $2.99 a...</td>\n",
              "      <td>Neutral</td>\n",
              "      <td>[remember, last, time, paid, gallon, regular, ...</td>\n",
              "    </tr>\n",
              "    <tr>\n",
              "      <th>6</th>\n",
              "      <td>7</td>\n",
              "      <td>44959</td>\n",
              "      <td>NaN</td>\n",
              "      <td>03-03-2020</td>\n",
              "      <td>Voting in the age of #coronavirus = hand sanit...</td>\n",
              "      <td>Positive</td>\n",
              "      <td>[voting, age, coronavirus, hand, sanitizer, su...</td>\n",
              "    </tr>\n",
              "    <tr>\n",
              "      <th>7</th>\n",
              "      <td>8</td>\n",
              "      <td>44960</td>\n",
              "      <td>Geneva, Switzerland</td>\n",
              "      <td>03-03-2020</td>\n",
              "      <td>@DrTedros \"We cant stop #COVID19 without prot...</td>\n",
              "      <td>Neutral</td>\n",
              "      <td>[stop, without, protecting, healthworkers, pri...</td>\n",
              "    </tr>\n",
              "    <tr>\n",
              "      <th>8</th>\n",
              "      <td>9</td>\n",
              "      <td>44961</td>\n",
              "      <td>NaN</td>\n",
              "      <td>04-03-2020</td>\n",
              "      <td>HI TWITTER! I am a pharmacist. I sell hand san...</td>\n",
              "      <td>Extremely Negative</td>\n",
              "      <td>[twitter, pharmacist, sell, hand, sanitizer, l...</td>\n",
              "    </tr>\n",
              "    <tr>\n",
              "      <th>9</th>\n",
              "      <td>10</td>\n",
              "      <td>44962</td>\n",
              "      <td>Dublin, Ireland</td>\n",
              "      <td>04-03-2020</td>\n",
              "      <td>Anyone been in a supermarket over the last few...</td>\n",
              "      <td>Extremely Positive</td>\n",
              "      <td>[anyone, supermarket, last, days, went, normal...</td>\n",
              "    </tr>\n",
              "  </tbody>\n",
              "</table>\n",
              "</div>"
            ],
            "text/plain": [
              "   UserName  ...                                          Processed\n",
              "0         1  ...  [trending, new, yorkers, encounter, empty, sup...\n",
              "1         2  ...  [could, find, hand, sanitizer, fred, meyer, tu...\n",
              "2         3  ...          [find, protect, loved, ones, coronavirus]\n",
              "3         4  ...  [panic, buying, hits, newyork, city, anxious, ...\n",
              "4         5  ...  [toiletpaper, dunnypaper, coronavirus, coronav...\n",
              "5         6  ...  [remember, last, time, paid, gallon, regular, ...\n",
              "6         7  ...  [voting, age, coronavirus, hand, sanitizer, su...\n",
              "7         8  ...  [stop, without, protecting, healthworkers, pri...\n",
              "8         9  ...  [twitter, pharmacist, sell, hand, sanitizer, l...\n",
              "9        10  ...  [anyone, supermarket, last, days, went, normal...\n",
              "\n",
              "[10 rows x 7 columns]"
            ]
          },
          "metadata": {
            "tags": []
          },
          "execution_count": 13
        }
      ]
    },
    {
      "cell_type": "code",
      "metadata": {
        "colab": {
          "base_uri": "https://localhost:8080/",
          "height": 399
        },
        "id": "6lY2BS-tPcUd",
        "outputId": "6e7646f5-4c0a-43a9-cc63-2b5a6876e408"
      },
      "source": [
        "# Get the tweet lengths of test data\r\n",
        "covid_test_data[\"Length\"] = covid_test_data[\"OriginalTweet\"].str.len()\r\n",
        "# Get the number of words in tweets of test data\r\n",
        "covid_test_data[\"Words\"] = covid_test_data[\"OriginalTweet\"].str.split().str.len()\r\n",
        "# Display the new columns of test data\r\n",
        "display(covid_test_data[[\"Length\", \"Words\"]])"
      ],
      "execution_count": null,
      "outputs": [
        {
          "output_type": "display_data",
          "data": {
            "text/html": [
              "<div>\n",
              "<style scoped>\n",
              "    .dataframe tbody tr th:only-of-type {\n",
              "        vertical-align: middle;\n",
              "    }\n",
              "\n",
              "    .dataframe tbody tr th {\n",
              "        vertical-align: top;\n",
              "    }\n",
              "\n",
              "    .dataframe thead th {\n",
              "        text-align: right;\n",
              "    }\n",
              "</style>\n",
              "<table border=\"1\" class=\"dataframe\">\n",
              "  <thead>\n",
              "    <tr style=\"text-align: right;\">\n",
              "      <th></th>\n",
              "      <th>Length</th>\n",
              "      <th>Words</th>\n",
              "    </tr>\n",
              "  </thead>\n",
              "  <tbody>\n",
              "    <tr>\n",
              "      <th>0</th>\n",
              "      <td>228</td>\n",
              "      <td>23</td>\n",
              "    </tr>\n",
              "    <tr>\n",
              "      <th>1</th>\n",
              "      <td>193</td>\n",
              "      <td>30</td>\n",
              "    </tr>\n",
              "    <tr>\n",
              "      <th>2</th>\n",
              "      <td>73</td>\n",
              "      <td>13</td>\n",
              "    </tr>\n",
              "    <tr>\n",
              "      <th>3</th>\n",
              "      <td>318</td>\n",
              "      <td>37</td>\n",
              "    </tr>\n",
              "    <tr>\n",
              "      <th>4</th>\n",
              "      <td>252</td>\n",
              "      <td>26</td>\n",
              "    </tr>\n",
              "    <tr>\n",
              "      <th>...</th>\n",
              "      <td>...</td>\n",
              "      <td>...</td>\n",
              "    </tr>\n",
              "    <tr>\n",
              "      <th>3793</th>\n",
              "      <td>127</td>\n",
              "      <td>18</td>\n",
              "    </tr>\n",
              "    <tr>\n",
              "      <th>3794</th>\n",
              "      <td>213</td>\n",
              "      <td>34</td>\n",
              "    </tr>\n",
              "    <tr>\n",
              "      <th>3795</th>\n",
              "      <td>185</td>\n",
              "      <td>26</td>\n",
              "    </tr>\n",
              "    <tr>\n",
              "      <th>3796</th>\n",
              "      <td>174</td>\n",
              "      <td>29</td>\n",
              "    </tr>\n",
              "    <tr>\n",
              "      <th>3797</th>\n",
              "      <td>254</td>\n",
              "      <td>33</td>\n",
              "    </tr>\n",
              "  </tbody>\n",
              "</table>\n",
              "<p>3798 rows × 2 columns</p>\n",
              "</div>"
            ],
            "text/plain": [
              "      Length  Words\n",
              "0        228     23\n",
              "1        193     30\n",
              "2         73     13\n",
              "3        318     37\n",
              "4        252     26\n",
              "...      ...    ...\n",
              "3793     127     18\n",
              "3794     213     34\n",
              "3795     185     26\n",
              "3796     174     29\n",
              "3797     254     33\n",
              "\n",
              "[3798 rows x 2 columns]"
            ]
          },
          "metadata": {
            "tags": []
          }
        }
      ]
    },
    {
      "cell_type": "markdown",
      "metadata": {
        "id": "PkCxJP_o04QO"
      },
      "source": [
        "**TF-IDF for train data (Part of Assignment 2)**"
      ]
    },
    {
      "cell_type": "code",
      "metadata": {
        "colab": {
          "base_uri": "https://localhost:8080/",
          "height": 455
        },
        "id": "8znE3ZaUPfU2",
        "outputId": "1dd4f32a-2075-4deb-c791-d9abbe729f52"
      },
      "source": [
        "# Initialize a Tf-idf Vectorizer\r\n",
        "vectorizer = TfidfVectorizer(max_features=100)\r\n",
        "# Fit and transform the vectorizer\r\n",
        "tfidf_matrix = vectorizer.fit_transform([' '.join(l) for l in covid_train_data[\"Processed\"]])\r\n",
        "# Let's see what we have\r\n",
        "display(tfidf_matrix)\r\n",
        "# Create a DataFrame for tf-idf vectors and display the first rows\r\n",
        "tfidf_df = pd.DataFrame(tfidf_matrix.toarray(), columns= vectorizer.get_feature_names())\r\n",
        "display(tfidf_df)"
      ],
      "execution_count": null,
      "outputs": [
        {
          "output_type": "display_data",
          "data": {
            "text/plain": [
              "<41157x100 sparse matrix of type '<class 'numpy.float64'>'\n",
              "\twith 186001 stored elements in Compressed Sparse Row format>"
            ]
          },
          "metadata": {
            "tags": []
          }
        },
        {
          "output_type": "display_data",
          "data": {
            "text/html": [
              "<div>\n",
              "<style scoped>\n",
              "    .dataframe tbody tr th:only-of-type {\n",
              "        vertical-align: middle;\n",
              "    }\n",
              "\n",
              "    .dataframe tbody tr th {\n",
              "        vertical-align: top;\n",
              "    }\n",
              "\n",
              "    .dataframe thead th {\n",
              "        text-align: right;\n",
              "    }\n",
              "</style>\n",
              "<table border=\"1\" class=\"dataframe\">\n",
              "  <thead>\n",
              "    <tr style=\"text-align: right;\">\n",
              "      <th></th>\n",
              "      <th>also</th>\n",
              "      <th>amid</th>\n",
              "      <th>amp</th>\n",
              "      <th>back</th>\n",
              "      <th>business</th>\n",
              "      <th>buy</th>\n",
              "      <th>buying</th>\n",
              "      <th>consumer</th>\n",
              "      <th>coronavirus</th>\n",
              "      <th>could</th>\n",
              "      <th>covid</th>\n",
              "      <th>crisis</th>\n",
              "      <th>customers</th>\n",
              "      <th>day</th>\n",
              "      <th>delivery</th>\n",
              "      <th>demand</th>\n",
              "      <th>due</th>\n",
              "      <th>employees</th>\n",
              "      <th>essential</th>\n",
              "      <th>even</th>\n",
              "      <th>every</th>\n",
              "      <th>everyone</th>\n",
              "      <th>first</th>\n",
              "      <th>food</th>\n",
              "      <th>get</th>\n",
              "      <th>going</th>\n",
              "      <th>good</th>\n",
              "      <th>government</th>\n",
              "      <th>grocery</th>\n",
              "      <th>hand</th>\n",
              "      <th>health</th>\n",
              "      <th>help</th>\n",
              "      <th>high</th>\n",
              "      <th>home</th>\n",
              "      <th>impact</th>\n",
              "      <th>items</th>\n",
              "      <th>keep</th>\n",
              "      <th>know</th>\n",
              "      <th>like</th>\n",
              "      <th>local</th>\n",
              "      <th>...</th>\n",
              "      <th>prices</th>\n",
              "      <th>products</th>\n",
              "      <th>retail</th>\n",
              "      <th>right</th>\n",
              "      <th>safe</th>\n",
              "      <th>sanitizer</th>\n",
              "      <th>see</th>\n",
              "      <th>shelves</th>\n",
              "      <th>shop</th>\n",
              "      <th>shopping</th>\n",
              "      <th>social</th>\n",
              "      <th>socialdistancing</th>\n",
              "      <th>spread</th>\n",
              "      <th>staff</th>\n",
              "      <th>stay</th>\n",
              "      <th>still</th>\n",
              "      <th>stock</th>\n",
              "      <th>stop</th>\n",
              "      <th>store</th>\n",
              "      <th>stores</th>\n",
              "      <th>supermarket</th>\n",
              "      <th>supplies</th>\n",
              "      <th>supply</th>\n",
              "      <th>take</th>\n",
              "      <th>thank</th>\n",
              "      <th>think</th>\n",
              "      <th>time</th>\n",
              "      <th>today</th>\n",
              "      <th>toilet</th>\n",
              "      <th>toiletpaper</th>\n",
              "      <th>use</th>\n",
              "      <th>via</th>\n",
              "      <th>virus</th>\n",
              "      <th>way</th>\n",
              "      <th>week</th>\n",
              "      <th>work</th>\n",
              "      <th>workers</th>\n",
              "      <th>working</th>\n",
              "      <th>world</th>\n",
              "      <th>would</th>\n",
              "    </tr>\n",
              "  </thead>\n",
              "  <tbody>\n",
              "    <tr>\n",
              "      <th>0</th>\n",
              "      <td>0.0</td>\n",
              "      <td>0.000000</td>\n",
              "      <td>0.0</td>\n",
              "      <td>0.0</td>\n",
              "      <td>0.0</td>\n",
              "      <td>0.0</td>\n",
              "      <td>0.0</td>\n",
              "      <td>0.000000</td>\n",
              "      <td>0.000000</td>\n",
              "      <td>0.0</td>\n",
              "      <td>0.0</td>\n",
              "      <td>0.0</td>\n",
              "      <td>0.0</td>\n",
              "      <td>0.0</td>\n",
              "      <td>0.0</td>\n",
              "      <td>0.0</td>\n",
              "      <td>0.0</td>\n",
              "      <td>0.0</td>\n",
              "      <td>0.0</td>\n",
              "      <td>0.0</td>\n",
              "      <td>0.0</td>\n",
              "      <td>0.000000</td>\n",
              "      <td>0.0</td>\n",
              "      <td>0.000000</td>\n",
              "      <td>0.0</td>\n",
              "      <td>0.000000</td>\n",
              "      <td>0.0</td>\n",
              "      <td>0.0</td>\n",
              "      <td>0.0</td>\n",
              "      <td>0.000000</td>\n",
              "      <td>0.0</td>\n",
              "      <td>0.000000</td>\n",
              "      <td>0.0</td>\n",
              "      <td>0.0</td>\n",
              "      <td>0.0</td>\n",
              "      <td>0.0</td>\n",
              "      <td>0.0</td>\n",
              "      <td>0.000000</td>\n",
              "      <td>0.0</td>\n",
              "      <td>0.0</td>\n",
              "      <td>...</td>\n",
              "      <td>0.000000</td>\n",
              "      <td>0.0</td>\n",
              "      <td>0.0</td>\n",
              "      <td>0.000000</td>\n",
              "      <td>0.000000</td>\n",
              "      <td>0.000000</td>\n",
              "      <td>0.0</td>\n",
              "      <td>0.000000</td>\n",
              "      <td>0.0</td>\n",
              "      <td>0.000000</td>\n",
              "      <td>0.0</td>\n",
              "      <td>0.0</td>\n",
              "      <td>0.0</td>\n",
              "      <td>0.0</td>\n",
              "      <td>0.000000</td>\n",
              "      <td>0.0</td>\n",
              "      <td>0.000000</td>\n",
              "      <td>0.0</td>\n",
              "      <td>0.0</td>\n",
              "      <td>0.0</td>\n",
              "      <td>0.000000</td>\n",
              "      <td>0.000000</td>\n",
              "      <td>0.0</td>\n",
              "      <td>0.000000</td>\n",
              "      <td>0.0</td>\n",
              "      <td>0.0</td>\n",
              "      <td>0.0</td>\n",
              "      <td>0.0</td>\n",
              "      <td>0.000000</td>\n",
              "      <td>0.000000</td>\n",
              "      <td>0.0</td>\n",
              "      <td>0.0</td>\n",
              "      <td>0.0</td>\n",
              "      <td>0.000000</td>\n",
              "      <td>0.0</td>\n",
              "      <td>0.0</td>\n",
              "      <td>0.0</td>\n",
              "      <td>0.0</td>\n",
              "      <td>0.0</td>\n",
              "      <td>0.0</td>\n",
              "    </tr>\n",
              "    <tr>\n",
              "      <th>1</th>\n",
              "      <td>0.0</td>\n",
              "      <td>0.000000</td>\n",
              "      <td>0.0</td>\n",
              "      <td>0.0</td>\n",
              "      <td>0.0</td>\n",
              "      <td>0.0</td>\n",
              "      <td>0.0</td>\n",
              "      <td>0.000000</td>\n",
              "      <td>0.000000</td>\n",
              "      <td>0.0</td>\n",
              "      <td>0.0</td>\n",
              "      <td>0.0</td>\n",
              "      <td>0.0</td>\n",
              "      <td>0.0</td>\n",
              "      <td>0.0</td>\n",
              "      <td>0.0</td>\n",
              "      <td>0.0</td>\n",
              "      <td>0.0</td>\n",
              "      <td>0.0</td>\n",
              "      <td>0.0</td>\n",
              "      <td>0.0</td>\n",
              "      <td>0.000000</td>\n",
              "      <td>0.0</td>\n",
              "      <td>0.000000</td>\n",
              "      <td>0.0</td>\n",
              "      <td>0.000000</td>\n",
              "      <td>0.0</td>\n",
              "      <td>0.0</td>\n",
              "      <td>0.0</td>\n",
              "      <td>0.000000</td>\n",
              "      <td>0.0</td>\n",
              "      <td>0.000000</td>\n",
              "      <td>0.0</td>\n",
              "      <td>0.0</td>\n",
              "      <td>0.0</td>\n",
              "      <td>0.0</td>\n",
              "      <td>0.0</td>\n",
              "      <td>0.000000</td>\n",
              "      <td>0.0</td>\n",
              "      <td>0.0</td>\n",
              "      <td>...</td>\n",
              "      <td>0.000000</td>\n",
              "      <td>0.0</td>\n",
              "      <td>0.0</td>\n",
              "      <td>0.000000</td>\n",
              "      <td>0.000000</td>\n",
              "      <td>0.000000</td>\n",
              "      <td>0.0</td>\n",
              "      <td>0.000000</td>\n",
              "      <td>0.0</td>\n",
              "      <td>0.497447</td>\n",
              "      <td>0.0</td>\n",
              "      <td>0.0</td>\n",
              "      <td>0.0</td>\n",
              "      <td>0.0</td>\n",
              "      <td>0.000000</td>\n",
              "      <td>0.0</td>\n",
              "      <td>0.000000</td>\n",
              "      <td>0.0</td>\n",
              "      <td>0.0</td>\n",
              "      <td>0.0</td>\n",
              "      <td>0.000000</td>\n",
              "      <td>0.702164</td>\n",
              "      <td>0.0</td>\n",
              "      <td>0.000000</td>\n",
              "      <td>0.0</td>\n",
              "      <td>0.0</td>\n",
              "      <td>0.0</td>\n",
              "      <td>0.0</td>\n",
              "      <td>0.000000</td>\n",
              "      <td>0.000000</td>\n",
              "      <td>0.0</td>\n",
              "      <td>0.0</td>\n",
              "      <td>0.0</td>\n",
              "      <td>0.000000</td>\n",
              "      <td>0.0</td>\n",
              "      <td>0.0</td>\n",
              "      <td>0.0</td>\n",
              "      <td>0.0</td>\n",
              "      <td>0.0</td>\n",
              "      <td>0.0</td>\n",
              "    </tr>\n",
              "    <tr>\n",
              "      <th>2</th>\n",
              "      <td>0.0</td>\n",
              "      <td>0.617436</td>\n",
              "      <td>0.0</td>\n",
              "      <td>0.0</td>\n",
              "      <td>0.0</td>\n",
              "      <td>0.0</td>\n",
              "      <td>0.0</td>\n",
              "      <td>0.000000</td>\n",
              "      <td>0.243451</td>\n",
              "      <td>0.0</td>\n",
              "      <td>0.0</td>\n",
              "      <td>0.0</td>\n",
              "      <td>0.0</td>\n",
              "      <td>0.0</td>\n",
              "      <td>0.0</td>\n",
              "      <td>0.0</td>\n",
              "      <td>0.0</td>\n",
              "      <td>0.0</td>\n",
              "      <td>0.0</td>\n",
              "      <td>0.0</td>\n",
              "      <td>0.0</td>\n",
              "      <td>0.000000</td>\n",
              "      <td>0.0</td>\n",
              "      <td>0.000000</td>\n",
              "      <td>0.0</td>\n",
              "      <td>0.000000</td>\n",
              "      <td>0.0</td>\n",
              "      <td>0.0</td>\n",
              "      <td>0.0</td>\n",
              "      <td>0.000000</td>\n",
              "      <td>0.0</td>\n",
              "      <td>0.000000</td>\n",
              "      <td>0.0</td>\n",
              "      <td>0.0</td>\n",
              "      <td>0.0</td>\n",
              "      <td>0.0</td>\n",
              "      <td>0.0</td>\n",
              "      <td>0.000000</td>\n",
              "      <td>0.0</td>\n",
              "      <td>0.0</td>\n",
              "      <td>...</td>\n",
              "      <td>0.000000</td>\n",
              "      <td>0.0</td>\n",
              "      <td>0.0</td>\n",
              "      <td>0.000000</td>\n",
              "      <td>0.000000</td>\n",
              "      <td>0.000000</td>\n",
              "      <td>0.0</td>\n",
              "      <td>0.000000</td>\n",
              "      <td>0.0</td>\n",
              "      <td>0.453185</td>\n",
              "      <td>0.0</td>\n",
              "      <td>0.0</td>\n",
              "      <td>0.0</td>\n",
              "      <td>0.0</td>\n",
              "      <td>0.000000</td>\n",
              "      <td>0.0</td>\n",
              "      <td>0.000000</td>\n",
              "      <td>0.0</td>\n",
              "      <td>0.0</td>\n",
              "      <td>0.0</td>\n",
              "      <td>0.000000</td>\n",
              "      <td>0.000000</td>\n",
              "      <td>0.0</td>\n",
              "      <td>0.000000</td>\n",
              "      <td>0.0</td>\n",
              "      <td>0.0</td>\n",
              "      <td>0.0</td>\n",
              "      <td>0.0</td>\n",
              "      <td>0.000000</td>\n",
              "      <td>0.000000</td>\n",
              "      <td>0.0</td>\n",
              "      <td>0.0</td>\n",
              "      <td>0.0</td>\n",
              "      <td>0.000000</td>\n",
              "      <td>0.0</td>\n",
              "      <td>0.0</td>\n",
              "      <td>0.0</td>\n",
              "      <td>0.0</td>\n",
              "      <td>0.0</td>\n",
              "      <td>0.0</td>\n",
              "    </tr>\n",
              "    <tr>\n",
              "      <th>3</th>\n",
              "      <td>0.0</td>\n",
              "      <td>0.000000</td>\n",
              "      <td>0.0</td>\n",
              "      <td>0.0</td>\n",
              "      <td>0.0</td>\n",
              "      <td>0.0</td>\n",
              "      <td>0.0</td>\n",
              "      <td>0.000000</td>\n",
              "      <td>0.115334</td>\n",
              "      <td>0.0</td>\n",
              "      <td>0.0</td>\n",
              "      <td>0.0</td>\n",
              "      <td>0.0</td>\n",
              "      <td>0.0</td>\n",
              "      <td>0.0</td>\n",
              "      <td>0.0</td>\n",
              "      <td>0.0</td>\n",
              "      <td>0.0</td>\n",
              "      <td>0.0</td>\n",
              "      <td>0.0</td>\n",
              "      <td>0.0</td>\n",
              "      <td>0.287786</td>\n",
              "      <td>0.0</td>\n",
              "      <td>0.358077</td>\n",
              "      <td>0.0</td>\n",
              "      <td>0.000000</td>\n",
              "      <td>0.0</td>\n",
              "      <td>0.0</td>\n",
              "      <td>0.0</td>\n",
              "      <td>0.000000</td>\n",
              "      <td>0.0</td>\n",
              "      <td>0.000000</td>\n",
              "      <td>0.0</td>\n",
              "      <td>0.0</td>\n",
              "      <td>0.0</td>\n",
              "      <td>0.0</td>\n",
              "      <td>0.0</td>\n",
              "      <td>0.000000</td>\n",
              "      <td>0.0</td>\n",
              "      <td>0.0</td>\n",
              "      <td>...</td>\n",
              "      <td>0.000000</td>\n",
              "      <td>0.0</td>\n",
              "      <td>0.0</td>\n",
              "      <td>0.000000</td>\n",
              "      <td>0.291483</td>\n",
              "      <td>0.000000</td>\n",
              "      <td>0.0</td>\n",
              "      <td>0.000000</td>\n",
              "      <td>0.0</td>\n",
              "      <td>0.000000</td>\n",
              "      <td>0.0</td>\n",
              "      <td>0.0</td>\n",
              "      <td>0.0</td>\n",
              "      <td>0.0</td>\n",
              "      <td>0.551151</td>\n",
              "      <td>0.0</td>\n",
              "      <td>0.250835</td>\n",
              "      <td>0.0</td>\n",
              "      <td>0.0</td>\n",
              "      <td>0.0</td>\n",
              "      <td>0.000000</td>\n",
              "      <td>0.000000</td>\n",
              "      <td>0.0</td>\n",
              "      <td>0.282739</td>\n",
              "      <td>0.0</td>\n",
              "      <td>0.0</td>\n",
              "      <td>0.0</td>\n",
              "      <td>0.0</td>\n",
              "      <td>0.000000</td>\n",
              "      <td>0.000000</td>\n",
              "      <td>0.0</td>\n",
              "      <td>0.0</td>\n",
              "      <td>0.0</td>\n",
              "      <td>0.000000</td>\n",
              "      <td>0.0</td>\n",
              "      <td>0.0</td>\n",
              "      <td>0.0</td>\n",
              "      <td>0.0</td>\n",
              "      <td>0.0</td>\n",
              "      <td>0.0</td>\n",
              "    </tr>\n",
              "    <tr>\n",
              "      <th>4</th>\n",
              "      <td>0.0</td>\n",
              "      <td>0.000000</td>\n",
              "      <td>0.0</td>\n",
              "      <td>0.0</td>\n",
              "      <td>0.0</td>\n",
              "      <td>0.0</td>\n",
              "      <td>0.0</td>\n",
              "      <td>0.000000</td>\n",
              "      <td>0.197031</td>\n",
              "      <td>0.0</td>\n",
              "      <td>0.0</td>\n",
              "      <td>0.0</td>\n",
              "      <td>0.0</td>\n",
              "      <td>0.0</td>\n",
              "      <td>0.0</td>\n",
              "      <td>0.0</td>\n",
              "      <td>0.0</td>\n",
              "      <td>0.0</td>\n",
              "      <td>0.0</td>\n",
              "      <td>0.0</td>\n",
              "      <td>0.0</td>\n",
              "      <td>0.000000</td>\n",
              "      <td>0.0</td>\n",
              "      <td>0.305863</td>\n",
              "      <td>0.0</td>\n",
              "      <td>0.000000</td>\n",
              "      <td>0.0</td>\n",
              "      <td>0.0</td>\n",
              "      <td>0.0</td>\n",
              "      <td>0.000000</td>\n",
              "      <td>0.0</td>\n",
              "      <td>0.000000</td>\n",
              "      <td>0.0</td>\n",
              "      <td>0.0</td>\n",
              "      <td>0.0</td>\n",
              "      <td>0.0</td>\n",
              "      <td>0.0</td>\n",
              "      <td>0.000000</td>\n",
              "      <td>0.0</td>\n",
              "      <td>0.0</td>\n",
              "      <td>...</td>\n",
              "      <td>0.000000</td>\n",
              "      <td>0.0</td>\n",
              "      <td>0.0</td>\n",
              "      <td>0.000000</td>\n",
              "      <td>0.000000</td>\n",
              "      <td>0.000000</td>\n",
              "      <td>0.0</td>\n",
              "      <td>0.000000</td>\n",
              "      <td>0.0</td>\n",
              "      <td>0.000000</td>\n",
              "      <td>0.0</td>\n",
              "      <td>0.0</td>\n",
              "      <td>0.0</td>\n",
              "      <td>0.0</td>\n",
              "      <td>0.000000</td>\n",
              "      <td>0.0</td>\n",
              "      <td>0.428518</td>\n",
              "      <td>0.0</td>\n",
              "      <td>0.0</td>\n",
              "      <td>0.0</td>\n",
              "      <td>0.292708</td>\n",
              "      <td>0.000000</td>\n",
              "      <td>0.0</td>\n",
              "      <td>0.000000</td>\n",
              "      <td>0.0</td>\n",
              "      <td>0.0</td>\n",
              "      <td>0.0</td>\n",
              "      <td>0.0</td>\n",
              "      <td>0.000000</td>\n",
              "      <td>0.000000</td>\n",
              "      <td>0.0</td>\n",
              "      <td>0.0</td>\n",
              "      <td>0.0</td>\n",
              "      <td>0.000000</td>\n",
              "      <td>0.0</td>\n",
              "      <td>0.0</td>\n",
              "      <td>0.0</td>\n",
              "      <td>0.0</td>\n",
              "      <td>0.0</td>\n",
              "      <td>0.0</td>\n",
              "    </tr>\n",
              "    <tr>\n",
              "      <th>...</th>\n",
              "      <td>...</td>\n",
              "      <td>...</td>\n",
              "      <td>...</td>\n",
              "      <td>...</td>\n",
              "      <td>...</td>\n",
              "      <td>...</td>\n",
              "      <td>...</td>\n",
              "      <td>...</td>\n",
              "      <td>...</td>\n",
              "      <td>...</td>\n",
              "      <td>...</td>\n",
              "      <td>...</td>\n",
              "      <td>...</td>\n",
              "      <td>...</td>\n",
              "      <td>...</td>\n",
              "      <td>...</td>\n",
              "      <td>...</td>\n",
              "      <td>...</td>\n",
              "      <td>...</td>\n",
              "      <td>...</td>\n",
              "      <td>...</td>\n",
              "      <td>...</td>\n",
              "      <td>...</td>\n",
              "      <td>...</td>\n",
              "      <td>...</td>\n",
              "      <td>...</td>\n",
              "      <td>...</td>\n",
              "      <td>...</td>\n",
              "      <td>...</td>\n",
              "      <td>...</td>\n",
              "      <td>...</td>\n",
              "      <td>...</td>\n",
              "      <td>...</td>\n",
              "      <td>...</td>\n",
              "      <td>...</td>\n",
              "      <td>...</td>\n",
              "      <td>...</td>\n",
              "      <td>...</td>\n",
              "      <td>...</td>\n",
              "      <td>...</td>\n",
              "      <td>...</td>\n",
              "      <td>...</td>\n",
              "      <td>...</td>\n",
              "      <td>...</td>\n",
              "      <td>...</td>\n",
              "      <td>...</td>\n",
              "      <td>...</td>\n",
              "      <td>...</td>\n",
              "      <td>...</td>\n",
              "      <td>...</td>\n",
              "      <td>...</td>\n",
              "      <td>...</td>\n",
              "      <td>...</td>\n",
              "      <td>...</td>\n",
              "      <td>...</td>\n",
              "      <td>...</td>\n",
              "      <td>...</td>\n",
              "      <td>...</td>\n",
              "      <td>...</td>\n",
              "      <td>...</td>\n",
              "      <td>...</td>\n",
              "      <td>...</td>\n",
              "      <td>...</td>\n",
              "      <td>...</td>\n",
              "      <td>...</td>\n",
              "      <td>...</td>\n",
              "      <td>...</td>\n",
              "      <td>...</td>\n",
              "      <td>...</td>\n",
              "      <td>...</td>\n",
              "      <td>...</td>\n",
              "      <td>...</td>\n",
              "      <td>...</td>\n",
              "      <td>...</td>\n",
              "      <td>...</td>\n",
              "      <td>...</td>\n",
              "      <td>...</td>\n",
              "      <td>...</td>\n",
              "      <td>...</td>\n",
              "      <td>...</td>\n",
              "      <td>...</td>\n",
              "    </tr>\n",
              "    <tr>\n",
              "      <th>41152</th>\n",
              "      <td>0.0</td>\n",
              "      <td>0.000000</td>\n",
              "      <td>0.0</td>\n",
              "      <td>0.0</td>\n",
              "      <td>0.0</td>\n",
              "      <td>0.0</td>\n",
              "      <td>0.0</td>\n",
              "      <td>0.000000</td>\n",
              "      <td>0.000000</td>\n",
              "      <td>0.0</td>\n",
              "      <td>0.0</td>\n",
              "      <td>0.0</td>\n",
              "      <td>0.0</td>\n",
              "      <td>0.0</td>\n",
              "      <td>0.0</td>\n",
              "      <td>0.0</td>\n",
              "      <td>0.0</td>\n",
              "      <td>0.0</td>\n",
              "      <td>0.0</td>\n",
              "      <td>0.0</td>\n",
              "      <td>0.0</td>\n",
              "      <td>0.000000</td>\n",
              "      <td>0.0</td>\n",
              "      <td>0.000000</td>\n",
              "      <td>0.0</td>\n",
              "      <td>0.000000</td>\n",
              "      <td>0.0</td>\n",
              "      <td>0.0</td>\n",
              "      <td>0.0</td>\n",
              "      <td>0.000000</td>\n",
              "      <td>0.0</td>\n",
              "      <td>0.000000</td>\n",
              "      <td>0.0</td>\n",
              "      <td>0.0</td>\n",
              "      <td>0.0</td>\n",
              "      <td>0.0</td>\n",
              "      <td>0.0</td>\n",
              "      <td>0.000000</td>\n",
              "      <td>0.0</td>\n",
              "      <td>0.0</td>\n",
              "      <td>...</td>\n",
              "      <td>0.000000</td>\n",
              "      <td>0.0</td>\n",
              "      <td>0.0</td>\n",
              "      <td>0.000000</td>\n",
              "      <td>0.000000</td>\n",
              "      <td>0.000000</td>\n",
              "      <td>0.0</td>\n",
              "      <td>0.549792</td>\n",
              "      <td>0.0</td>\n",
              "      <td>0.000000</td>\n",
              "      <td>0.0</td>\n",
              "      <td>0.0</td>\n",
              "      <td>0.0</td>\n",
              "      <td>0.0</td>\n",
              "      <td>0.000000</td>\n",
              "      <td>0.0</td>\n",
              "      <td>0.503874</td>\n",
              "      <td>0.0</td>\n",
              "      <td>0.0</td>\n",
              "      <td>0.0</td>\n",
              "      <td>0.344182</td>\n",
              "      <td>0.000000</td>\n",
              "      <td>0.0</td>\n",
              "      <td>0.000000</td>\n",
              "      <td>0.0</td>\n",
              "      <td>0.0</td>\n",
              "      <td>0.0</td>\n",
              "      <td>0.0</td>\n",
              "      <td>0.000000</td>\n",
              "      <td>0.000000</td>\n",
              "      <td>0.0</td>\n",
              "      <td>0.0</td>\n",
              "      <td>0.0</td>\n",
              "      <td>0.000000</td>\n",
              "      <td>0.0</td>\n",
              "      <td>0.0</td>\n",
              "      <td>0.0</td>\n",
              "      <td>0.0</td>\n",
              "      <td>0.0</td>\n",
              "      <td>0.0</td>\n",
              "    </tr>\n",
              "    <tr>\n",
              "      <th>41153</th>\n",
              "      <td>0.0</td>\n",
              "      <td>0.000000</td>\n",
              "      <td>0.0</td>\n",
              "      <td>0.0</td>\n",
              "      <td>0.0</td>\n",
              "      <td>0.0</td>\n",
              "      <td>0.0</td>\n",
              "      <td>0.558534</td>\n",
              "      <td>0.000000</td>\n",
              "      <td>0.0</td>\n",
              "      <td>0.0</td>\n",
              "      <td>0.0</td>\n",
              "      <td>0.0</td>\n",
              "      <td>0.0</td>\n",
              "      <td>0.0</td>\n",
              "      <td>0.0</td>\n",
              "      <td>0.0</td>\n",
              "      <td>0.0</td>\n",
              "      <td>0.0</td>\n",
              "      <td>0.0</td>\n",
              "      <td>0.0</td>\n",
              "      <td>0.000000</td>\n",
              "      <td>0.0</td>\n",
              "      <td>0.000000</td>\n",
              "      <td>0.0</td>\n",
              "      <td>0.000000</td>\n",
              "      <td>0.0</td>\n",
              "      <td>0.0</td>\n",
              "      <td>0.0</td>\n",
              "      <td>0.000000</td>\n",
              "      <td>0.0</td>\n",
              "      <td>0.000000</td>\n",
              "      <td>0.0</td>\n",
              "      <td>0.0</td>\n",
              "      <td>0.0</td>\n",
              "      <td>0.0</td>\n",
              "      <td>0.0</td>\n",
              "      <td>0.000000</td>\n",
              "      <td>0.0</td>\n",
              "      <td>0.0</td>\n",
              "      <td>...</td>\n",
              "      <td>0.000000</td>\n",
              "      <td>0.0</td>\n",
              "      <td>0.0</td>\n",
              "      <td>0.000000</td>\n",
              "      <td>0.000000</td>\n",
              "      <td>0.000000</td>\n",
              "      <td>0.0</td>\n",
              "      <td>0.000000</td>\n",
              "      <td>0.0</td>\n",
              "      <td>0.000000</td>\n",
              "      <td>0.0</td>\n",
              "      <td>0.0</td>\n",
              "      <td>0.0</td>\n",
              "      <td>0.0</td>\n",
              "      <td>0.000000</td>\n",
              "      <td>0.0</td>\n",
              "      <td>0.000000</td>\n",
              "      <td>0.0</td>\n",
              "      <td>0.0</td>\n",
              "      <td>0.0</td>\n",
              "      <td>0.000000</td>\n",
              "      <td>0.000000</td>\n",
              "      <td>0.0</td>\n",
              "      <td>0.000000</td>\n",
              "      <td>0.0</td>\n",
              "      <td>0.0</td>\n",
              "      <td>0.0</td>\n",
              "      <td>0.0</td>\n",
              "      <td>0.000000</td>\n",
              "      <td>0.000000</td>\n",
              "      <td>0.0</td>\n",
              "      <td>0.0</td>\n",
              "      <td>0.0</td>\n",
              "      <td>0.829481</td>\n",
              "      <td>0.0</td>\n",
              "      <td>0.0</td>\n",
              "      <td>0.0</td>\n",
              "      <td>0.0</td>\n",
              "      <td>0.0</td>\n",
              "      <td>0.0</td>\n",
              "    </tr>\n",
              "    <tr>\n",
              "      <th>41154</th>\n",
              "      <td>0.0</td>\n",
              "      <td>0.000000</td>\n",
              "      <td>0.0</td>\n",
              "      <td>0.0</td>\n",
              "      <td>0.0</td>\n",
              "      <td>0.0</td>\n",
              "      <td>0.0</td>\n",
              "      <td>0.000000</td>\n",
              "      <td>0.190497</td>\n",
              "      <td>0.0</td>\n",
              "      <td>0.0</td>\n",
              "      <td>0.0</td>\n",
              "      <td>0.0</td>\n",
              "      <td>0.0</td>\n",
              "      <td>0.0</td>\n",
              "      <td>0.0</td>\n",
              "      <td>0.0</td>\n",
              "      <td>0.0</td>\n",
              "      <td>0.0</td>\n",
              "      <td>0.0</td>\n",
              "      <td>0.0</td>\n",
              "      <td>0.000000</td>\n",
              "      <td>0.0</td>\n",
              "      <td>0.000000</td>\n",
              "      <td>0.0</td>\n",
              "      <td>0.000000</td>\n",
              "      <td>0.0</td>\n",
              "      <td>0.0</td>\n",
              "      <td>0.0</td>\n",
              "      <td>0.000000</td>\n",
              "      <td>0.0</td>\n",
              "      <td>0.409194</td>\n",
              "      <td>0.0</td>\n",
              "      <td>0.0</td>\n",
              "      <td>0.0</td>\n",
              "      <td>0.0</td>\n",
              "      <td>0.0</td>\n",
              "      <td>0.463867</td>\n",
              "      <td>0.0</td>\n",
              "      <td>0.0</td>\n",
              "      <td>...</td>\n",
              "      <td>0.000000</td>\n",
              "      <td>0.0</td>\n",
              "      <td>0.0</td>\n",
              "      <td>0.000000</td>\n",
              "      <td>0.000000</td>\n",
              "      <td>0.000000</td>\n",
              "      <td>0.0</td>\n",
              "      <td>0.000000</td>\n",
              "      <td>0.0</td>\n",
              "      <td>0.000000</td>\n",
              "      <td>0.0</td>\n",
              "      <td>0.0</td>\n",
              "      <td>0.0</td>\n",
              "      <td>0.0</td>\n",
              "      <td>0.000000</td>\n",
              "      <td>0.0</td>\n",
              "      <td>0.000000</td>\n",
              "      <td>0.0</td>\n",
              "      <td>0.0</td>\n",
              "      <td>0.0</td>\n",
              "      <td>0.000000</td>\n",
              "      <td>0.000000</td>\n",
              "      <td>0.0</td>\n",
              "      <td>0.000000</td>\n",
              "      <td>0.0</td>\n",
              "      <td>0.0</td>\n",
              "      <td>0.0</td>\n",
              "      <td>0.0</td>\n",
              "      <td>0.442128</td>\n",
              "      <td>0.428688</td>\n",
              "      <td>0.0</td>\n",
              "      <td>0.0</td>\n",
              "      <td>0.0</td>\n",
              "      <td>0.000000</td>\n",
              "      <td>0.0</td>\n",
              "      <td>0.0</td>\n",
              "      <td>0.0</td>\n",
              "      <td>0.0</td>\n",
              "      <td>0.0</td>\n",
              "      <td>0.0</td>\n",
              "    </tr>\n",
              "    <tr>\n",
              "      <th>41155</th>\n",
              "      <td>0.0</td>\n",
              "      <td>0.000000</td>\n",
              "      <td>0.0</td>\n",
              "      <td>0.0</td>\n",
              "      <td>0.0</td>\n",
              "      <td>0.0</td>\n",
              "      <td>0.0</td>\n",
              "      <td>0.000000</td>\n",
              "      <td>0.554381</td>\n",
              "      <td>0.0</td>\n",
              "      <td>0.0</td>\n",
              "      <td>0.0</td>\n",
              "      <td>0.0</td>\n",
              "      <td>0.0</td>\n",
              "      <td>0.0</td>\n",
              "      <td>0.0</td>\n",
              "      <td>0.0</td>\n",
              "      <td>0.0</td>\n",
              "      <td>0.0</td>\n",
              "      <td>0.0</td>\n",
              "      <td>0.0</td>\n",
              "      <td>0.000000</td>\n",
              "      <td>0.0</td>\n",
              "      <td>0.000000</td>\n",
              "      <td>0.0</td>\n",
              "      <td>0.000000</td>\n",
              "      <td>0.0</td>\n",
              "      <td>0.0</td>\n",
              "      <td>0.0</td>\n",
              "      <td>0.598742</td>\n",
              "      <td>0.0</td>\n",
              "      <td>0.000000</td>\n",
              "      <td>0.0</td>\n",
              "      <td>0.0</td>\n",
              "      <td>0.0</td>\n",
              "      <td>0.0</td>\n",
              "      <td>0.0</td>\n",
              "      <td>0.000000</td>\n",
              "      <td>0.0</td>\n",
              "      <td>0.0</td>\n",
              "      <td>...</td>\n",
              "      <td>0.000000</td>\n",
              "      <td>0.0</td>\n",
              "      <td>0.0</td>\n",
              "      <td>0.000000</td>\n",
              "      <td>0.000000</td>\n",
              "      <td>0.578075</td>\n",
              "      <td>0.0</td>\n",
              "      <td>0.000000</td>\n",
              "      <td>0.0</td>\n",
              "      <td>0.000000</td>\n",
              "      <td>0.0</td>\n",
              "      <td>0.0</td>\n",
              "      <td>0.0</td>\n",
              "      <td>0.0</td>\n",
              "      <td>0.000000</td>\n",
              "      <td>0.0</td>\n",
              "      <td>0.000000</td>\n",
              "      <td>0.0</td>\n",
              "      <td>0.0</td>\n",
              "      <td>0.0</td>\n",
              "      <td>0.000000</td>\n",
              "      <td>0.000000</td>\n",
              "      <td>0.0</td>\n",
              "      <td>0.000000</td>\n",
              "      <td>0.0</td>\n",
              "      <td>0.0</td>\n",
              "      <td>0.0</td>\n",
              "      <td>0.0</td>\n",
              "      <td>0.000000</td>\n",
              "      <td>0.000000</td>\n",
              "      <td>0.0</td>\n",
              "      <td>0.0</td>\n",
              "      <td>0.0</td>\n",
              "      <td>0.000000</td>\n",
              "      <td>0.0</td>\n",
              "      <td>0.0</td>\n",
              "      <td>0.0</td>\n",
              "      <td>0.0</td>\n",
              "      <td>0.0</td>\n",
              "      <td>0.0</td>\n",
              "    </tr>\n",
              "    <tr>\n",
              "      <th>41156</th>\n",
              "      <td>0.0</td>\n",
              "      <td>0.000000</td>\n",
              "      <td>0.0</td>\n",
              "      <td>0.0</td>\n",
              "      <td>0.0</td>\n",
              "      <td>0.0</td>\n",
              "      <td>0.0</td>\n",
              "      <td>0.000000</td>\n",
              "      <td>0.000000</td>\n",
              "      <td>0.0</td>\n",
              "      <td>0.0</td>\n",
              "      <td>0.0</td>\n",
              "      <td>0.0</td>\n",
              "      <td>0.0</td>\n",
              "      <td>0.0</td>\n",
              "      <td>0.0</td>\n",
              "      <td>0.0</td>\n",
              "      <td>0.0</td>\n",
              "      <td>0.0</td>\n",
              "      <td>0.0</td>\n",
              "      <td>0.0</td>\n",
              "      <td>0.000000</td>\n",
              "      <td>0.0</td>\n",
              "      <td>0.000000</td>\n",
              "      <td>0.0</td>\n",
              "      <td>0.423872</td>\n",
              "      <td>0.0</td>\n",
              "      <td>0.0</td>\n",
              "      <td>0.0</td>\n",
              "      <td>0.000000</td>\n",
              "      <td>0.0</td>\n",
              "      <td>0.000000</td>\n",
              "      <td>0.0</td>\n",
              "      <td>0.0</td>\n",
              "      <td>0.0</td>\n",
              "      <td>0.0</td>\n",
              "      <td>0.0</td>\n",
              "      <td>0.000000</td>\n",
              "      <td>0.0</td>\n",
              "      <td>0.0</td>\n",
              "      <td>...</td>\n",
              "      <td>0.279045</td>\n",
              "      <td>0.0</td>\n",
              "      <td>0.0</td>\n",
              "      <td>0.502163</td>\n",
              "      <td>0.000000</td>\n",
              "      <td>0.000000</td>\n",
              "      <td>0.0</td>\n",
              "      <td>0.000000</td>\n",
              "      <td>0.0</td>\n",
              "      <td>0.000000</td>\n",
              "      <td>0.0</td>\n",
              "      <td>0.0</td>\n",
              "      <td>0.0</td>\n",
              "      <td>0.0</td>\n",
              "      <td>0.000000</td>\n",
              "      <td>0.0</td>\n",
              "      <td>0.000000</td>\n",
              "      <td>0.0</td>\n",
              "      <td>0.0</td>\n",
              "      <td>0.0</td>\n",
              "      <td>0.000000</td>\n",
              "      <td>0.000000</td>\n",
              "      <td>0.0</td>\n",
              "      <td>0.000000</td>\n",
              "      <td>0.0</td>\n",
              "      <td>0.0</td>\n",
              "      <td>0.0</td>\n",
              "      <td>0.0</td>\n",
              "      <td>0.000000</td>\n",
              "      <td>0.000000</td>\n",
              "      <td>0.0</td>\n",
              "      <td>0.0</td>\n",
              "      <td>0.0</td>\n",
              "      <td>0.000000</td>\n",
              "      <td>0.0</td>\n",
              "      <td>0.0</td>\n",
              "      <td>0.0</td>\n",
              "      <td>0.0</td>\n",
              "      <td>0.0</td>\n",
              "      <td>0.0</td>\n",
              "    </tr>\n",
              "  </tbody>\n",
              "</table>\n",
              "<p>41157 rows × 100 columns</p>\n",
              "</div>"
            ],
            "text/plain": [
              "       also      amid  amp  back  ...  workers  working  world  would\n",
              "0       0.0  0.000000  0.0   0.0  ...      0.0      0.0    0.0    0.0\n",
              "1       0.0  0.000000  0.0   0.0  ...      0.0      0.0    0.0    0.0\n",
              "2       0.0  0.617436  0.0   0.0  ...      0.0      0.0    0.0    0.0\n",
              "3       0.0  0.000000  0.0   0.0  ...      0.0      0.0    0.0    0.0\n",
              "4       0.0  0.000000  0.0   0.0  ...      0.0      0.0    0.0    0.0\n",
              "...     ...       ...  ...   ...  ...      ...      ...    ...    ...\n",
              "41152   0.0  0.000000  0.0   0.0  ...      0.0      0.0    0.0    0.0\n",
              "41153   0.0  0.000000  0.0   0.0  ...      0.0      0.0    0.0    0.0\n",
              "41154   0.0  0.000000  0.0   0.0  ...      0.0      0.0    0.0    0.0\n",
              "41155   0.0  0.000000  0.0   0.0  ...      0.0      0.0    0.0    0.0\n",
              "41156   0.0  0.000000  0.0   0.0  ...      0.0      0.0    0.0    0.0\n",
              "\n",
              "[41157 rows x 100 columns]"
            ]
          },
          "metadata": {
            "tags": []
          }
        }
      ]
    },
    {
      "cell_type": "code",
      "metadata": {
        "colab": {
          "base_uri": "https://localhost:8080/",
          "height": 194
        },
        "id": "-preHHhwPpbs",
        "outputId": "3fb160b3-f48c-4658-9792-fbb2a71d0c4d"
      },
      "source": [
        "# Encode the labels for train data\r\n",
        "le = LabelEncoder()\r\n",
        "covid_train_data[\"Label_enc\"] = le.fit_transform(covid_train_data[\"Sentiment\"])\r\n",
        "# Display the encoded labels of train data\r\n",
        "display(covid_train_data[[\"Label_enc\"]].head())"
      ],
      "execution_count": null,
      "outputs": [
        {
          "output_type": "display_data",
          "data": {
            "text/html": [
              "<div>\n",
              "<style scoped>\n",
              "    .dataframe tbody tr th:only-of-type {\n",
              "        vertical-align: middle;\n",
              "    }\n",
              "\n",
              "    .dataframe tbody tr th {\n",
              "        vertical-align: top;\n",
              "    }\n",
              "\n",
              "    .dataframe thead th {\n",
              "        text-align: right;\n",
              "    }\n",
              "</style>\n",
              "<table border=\"1\" class=\"dataframe\">\n",
              "  <thead>\n",
              "    <tr style=\"text-align: right;\">\n",
              "      <th></th>\n",
              "      <th>Label_enc</th>\n",
              "    </tr>\n",
              "  </thead>\n",
              "  <tbody>\n",
              "    <tr>\n",
              "      <th>0</th>\n",
              "      <td>3</td>\n",
              "    </tr>\n",
              "    <tr>\n",
              "      <th>1</th>\n",
              "      <td>4</td>\n",
              "    </tr>\n",
              "    <tr>\n",
              "      <th>2</th>\n",
              "      <td>4</td>\n",
              "    </tr>\n",
              "    <tr>\n",
              "      <th>3</th>\n",
              "      <td>4</td>\n",
              "    </tr>\n",
              "    <tr>\n",
              "      <th>4</th>\n",
              "      <td>0</td>\n",
              "    </tr>\n",
              "  </tbody>\n",
              "</table>\n",
              "</div>"
            ],
            "text/plain": [
              "   Label_enc\n",
              "0          3\n",
              "1          4\n",
              "2          4\n",
              "3          4\n",
              "4          0"
            ]
          },
          "metadata": {
            "tags": []
          }
        }
      ]
    },
    {
      "cell_type": "code",
      "metadata": {
        "colab": {
          "base_uri": "https://localhost:8080/",
          "height": 194
        },
        "id": "PGafDon4PsNu",
        "outputId": "af2b8aa5-82d2-4e0b-adf2-3da96e109fbe"
      },
      "source": [
        "# Encode the labels for test data \r\n",
        "le = LabelEncoder()\r\n",
        "covid_test_data[\"Label_enc\"] = le.fit_transform(covid_test_data[\"Sentiment\"])\r\n",
        "# Display the encoded labels of test data\r\n",
        "display(covid_test_data[[\"Label_enc\"]].head())"
      ],
      "execution_count": null,
      "outputs": [
        {
          "output_type": "display_data",
          "data": {
            "text/html": [
              "<div>\n",
              "<style scoped>\n",
              "    .dataframe tbody tr th:only-of-type {\n",
              "        vertical-align: middle;\n",
              "    }\n",
              "\n",
              "    .dataframe tbody tr th {\n",
              "        vertical-align: top;\n",
              "    }\n",
              "\n",
              "    .dataframe thead th {\n",
              "        text-align: right;\n",
              "    }\n",
              "</style>\n",
              "<table border=\"1\" class=\"dataframe\">\n",
              "  <thead>\n",
              "    <tr style=\"text-align: right;\">\n",
              "      <th></th>\n",
              "      <th>Label_enc</th>\n",
              "    </tr>\n",
              "  </thead>\n",
              "  <tbody>\n",
              "    <tr>\n",
              "      <th>0</th>\n",
              "      <td>0</td>\n",
              "    </tr>\n",
              "    <tr>\n",
              "      <th>1</th>\n",
              "      <td>4</td>\n",
              "    </tr>\n",
              "    <tr>\n",
              "      <th>2</th>\n",
              "      <td>1</td>\n",
              "    </tr>\n",
              "    <tr>\n",
              "      <th>3</th>\n",
              "      <td>2</td>\n",
              "    </tr>\n",
              "    <tr>\n",
              "      <th>4</th>\n",
              "      <td>3</td>\n",
              "    </tr>\n",
              "  </tbody>\n",
              "</table>\n",
              "</div>"
            ],
            "text/plain": [
              "   Label_enc\n",
              "0          0\n",
              "1          4\n",
              "2          1\n",
              "3          2\n",
              "4          3"
            ]
          },
          "metadata": {
            "tags": []
          }
        }
      ]
    },
    {
      "cell_type": "code",
      "metadata": {
        "id": "m41qDqbkP01r"
      },
      "source": [
        "# Select the features and the target and split train and test\r\n",
        "X_train = covid_train_data['Processed']\r\n",
        "Y_train = covid_train_data[\"Label_enc\"]\r\n",
        "X_test = covid_test_data['Processed']\r\n",
        "Y_test = covid_test_data[\"Label_enc\"]"
      ],
      "execution_count": null,
      "outputs": []
    },
    {
      "cell_type": "code",
      "metadata": {
        "id": "P2Izk0NvP5QA"
      },
      "source": [
        "# Create the tf-idf vectorizer\r\n",
        "model_vectorizer = TfidfVectorizer()\r\n",
        "# First fit the vectorizer with our training set\r\n",
        "tfidf_train = vectorizer.fit_transform([' '.join(l) for l in X_train])\r\n",
        "# Now we can fit our test data with the same vectorizer\r\n",
        "tfidf_test = vectorizer.transform([' '.join(l) for l in X_test])"
      ],
      "execution_count": null,
      "outputs": []
    },
    {
      "cell_type": "code",
      "metadata": {
        "colab": {
          "base_uri": "https://localhost:8080/"
        },
        "id": "RJYghLCu8z1M",
        "outputId": "1ac32098-2792-4b94-945f-f5bb34e3d858"
      },
      "source": [
        "def generate_rf(X_train, y_train, X_test, y_test):\r\n",
        "    rf = RandomForestClassifier(n_estimators=5, min_samples_leaf=3)\r\n",
        "    rf.fit(X_train, y_train)\r\n",
        "    print (\"rf score \", rf.score(X_test, y_test))\r\n",
        "    return rf\r\n",
        "\r\n",
        "def combine_rfs(rf_a, rf_b):\r\n",
        "    rf_a.estimators_ += rf_b.estimators_\r\n",
        "    rf_a.n_estimators = len(rf_a.estimators_)\r\n",
        "    return rf_a\r\n",
        "\r\n",
        "\r\n",
        "# in the line below, we create 10 random forest classifier models\r\n",
        "rfs_tfidf = [generate_rf(tfidf_train, Y_train, tfidf_test, Y_test)]\r\n",
        "# in this step below, we combine the list of random forest models into one giant model\r\n",
        "rf_tfidf_combined = reduce(combine_rfs, rfs_tfidf)\r\n",
        "# the combined model scores better than most of the component models\r\n",
        "print (\"rf combined score\", rf_tfidf_combined.score(tfidf_test, Y_test))\r\n",
        "# Print the accuracy score\r\n",
        "best_accuracy = cross_val_score(rf_tfidf_combined, tfidf_test, Y_test, cv=10, scoring='accuracy').max()\r\n",
        "print(\"Accuracy:\",best_accuracy)"
      ],
      "execution_count": null,
      "outputs": [
        {
          "output_type": "stream",
          "text": [
            "rf score  0.35624012638230645\n",
            "rf combined score 0.35624012638230645\n",
            "Accuracy: 0.3562005277044855\n"
          ],
          "name": "stdout"
        }
      ]
    },
    {
      "cell_type": "markdown",
      "metadata": {
        "id": "q_R1pYRB1O2N"
      },
      "source": [
        "**1. Represent the words from the Covid-19 tweets sample data in vector space using the Word2Vec approach, and compare the accuracy of your assignment 2A model (which used the tf-idf approach) with the new model (10 points)**"
      ]
    },
    {
      "cell_type": "code",
      "metadata": {
        "id": "3QgG-tflQGpQ"
      },
      "source": [
        "# Word Embeddings\r\n",
        "wpt = nltk.WordPunctTokenizer()\r\n",
        "tokenized_corpus = [wpt.tokenize(document) for document in  X_train.str.join(' ')]\r\n",
        "\r\n",
        "# Set values for various parameters\r\n",
        "feature_size = 100    # Word vector dimensionality, i.e., number of dimension we wish to represent the word \r\n",
        "window_context = 10  # Context window size                                                                                    \r\n",
        "min_word_count = 1   # Minimum word count, i.e., words > this are going to be included in the model                        \r\n",
        "sample = 1e-3        # Downsample setting for frequent words\r\n",
        "\r\n",
        "w2v_model = word2vec.Word2Vec(tokenized_corpus, size=feature_size, \r\n",
        "                              window=window_context, min_count = min_word_count,\r\n",
        "                              sample=sample)"
      ],
      "execution_count": null,
      "outputs": []
    },
    {
      "cell_type": "code",
      "metadata": {
        "colab": {
          "base_uri": "https://localhost:8080/"
        },
        "id": "7VqFU5F1QmDT",
        "outputId": "b13483aa-81fe-4fca-bc57-37b21f5b7495"
      },
      "source": [
        "def average_word_vectors(words, model, vocabulary, num_features):\r\n",
        "    \r\n",
        "    feature_vector = np.zeros((num_features,),dtype=\"float64\")\r\n",
        "    nwords = 0.\r\n",
        "    \r\n",
        "    for word in words:\r\n",
        "        if word in vocabulary: \r\n",
        "            nwords = nwords + 1.\r\n",
        "            feature_vector = np.add(feature_vector, model[word])\r\n",
        "    \r\n",
        "    if nwords:\r\n",
        "        feature_vector = np.divide(feature_vector, nwords)\r\n",
        "        \r\n",
        "    return feature_vector\r\n",
        "   \r\n",
        "def averaged_word_vectorizer(corpus, model, num_features):\r\n",
        "    vocabulary = set(model.wv.index2word)\r\n",
        "    features = [average_word_vectors(tokenized_sentence, model, vocabulary, num_features)\r\n",
        "                    for tokenized_sentence in corpus]\r\n",
        "    return np.array(features)\r\n",
        "\r\n",
        "\r\n",
        "w2v_feature_array = averaged_word_vectorizer(corpus=tokenized_corpus, model=w2v_model,\r\n",
        "                                             num_features=feature_size)\r\n",
        "w2v_train = pd.DataFrame(w2v_feature_array)"
      ],
      "execution_count": null,
      "outputs": [
        {
          "output_type": "stream",
          "text": [
            "/usr/local/lib/python3.7/dist-packages/ipykernel_launcher.py:9: DeprecationWarning: Call to deprecated `__getitem__` (Method will be removed in 4.0.0, use self.wv.__getitem__() instead).\n",
            "  if __name__ == '__main__':\n"
          ],
          "name": "stderr"
        }
      ]
    },
    {
      "cell_type": "code",
      "metadata": {
        "id": "eIJlpUaWuwJ8"
      },
      "source": [
        "# Word Embeddings\r\n",
        "wpt = nltk.WordPunctTokenizer()\r\n",
        "tokenized_corpus = [wpt.tokenize(document) for document in  X_test.str.join(' ')]\r\n",
        "\r\n",
        "# Set values for various parameters\r\n",
        "feature_size = 100    # Word vector dimensionality, i.e., number of dimension we wish to represent the word \r\n",
        "window_context = 10  # Context window size                                                                                    \r\n",
        "min_word_count = 1   # Minimum word count, i.e., words > this are going to be included in the model                        \r\n",
        "sample = 1e-3        # Downsample setting for frequent words\r\n",
        "\r\n",
        "w2v_model = word2vec.Word2Vec(tokenized_corpus, size=feature_size, \r\n",
        "                              window=window_context, min_count = min_word_count,\r\n",
        "                              sample=sample)"
      ],
      "execution_count": null,
      "outputs": []
    },
    {
      "cell_type": "code",
      "metadata": {
        "colab": {
          "base_uri": "https://localhost:8080/"
        },
        "id": "PgT95sRyuyuP",
        "outputId": "14394d0f-a954-4e90-f385-6b49f5b35bfa"
      },
      "source": [
        "def average_word_vectors(words, model, vocabulary, num_features):\r\n",
        "    \r\n",
        "    feature_vector = np.zeros((num_features,),dtype=\"float64\")\r\n",
        "    nwords = 0.\r\n",
        "    \r\n",
        "    for word in words:\r\n",
        "        if word in vocabulary: \r\n",
        "            nwords = nwords + 1.\r\n",
        "            feature_vector = np.add(feature_vector, model[word])\r\n",
        "    \r\n",
        "    if nwords:\r\n",
        "        feature_vector = np.divide(feature_vector, nwords)\r\n",
        "        \r\n",
        "    return feature_vector\r\n",
        "   \r\n",
        "def averaged_word_vectorizer(corpus, model, num_features):\r\n",
        "    vocabulary = set(model.wv.index2word)\r\n",
        "    features = [average_word_vectors(tokenized_sentence, model, vocabulary, num_features)\r\n",
        "                    for tokenized_sentence in corpus]\r\n",
        "    return np.array(features)\r\n",
        "\r\n",
        "\r\n",
        "w2v_feature_array = averaged_word_vectorizer(corpus=tokenized_corpus, model=w2v_model,\r\n",
        "                                             num_features=feature_size)\r\n",
        "w2v_test = pd.DataFrame(w2v_feature_array)"
      ],
      "execution_count": null,
      "outputs": [
        {
          "output_type": "stream",
          "text": [
            "/usr/local/lib/python3.7/dist-packages/ipykernel_launcher.py:9: DeprecationWarning: Call to deprecated `__getitem__` (Method will be removed in 4.0.0, use self.wv.__getitem__() instead).\n",
            "  if __name__ == '__main__':\n"
          ],
          "name": "stderr"
        }
      ]
    },
    {
      "cell_type": "code",
      "metadata": {
        "colab": {
          "base_uri": "https://localhost:8080/"
        },
        "id": "dkoAmc3f9771",
        "outputId": "f9c2ae57-8e9b-40f0-8c55-5bbb6d8c838c"
      },
      "source": [
        "def generate_rf(X_train, y_train, X_test, y_test):\r\n",
        "    rf = RandomForestClassifier(n_estimators=5, min_samples_leaf=3)\r\n",
        "    rf.fit(X_train, y_train)\r\n",
        "    print (\"rf score \", rf.score(X_test, y_test))\r\n",
        "    return rf\r\n",
        "\r\n",
        "def combine_rfs(rf_a, rf_b):\r\n",
        "    rf_a.estimators_ += rf_b.estimators_\r\n",
        "    rf_a.n_estimators = len(rf_a.estimators_)\r\n",
        "    return rf_a\r\n",
        "\r\n",
        "\r\n",
        "# in the line below, we create 10 random forest classifier models\r\n",
        "rfs_w2v = [generate_rf(w2v_train, Y_train, w2v_test, Y_test)]\r\n",
        "# in this step below, we combine the list of random forest models into one giant model\r\n",
        "rf_w2v_combined = reduce(combine_rfs, rfs_w2v)\r\n",
        "# the combined model scores better than most of the component models\r\n",
        "print (\"rf combined score\", rf_w2v_combined.score(w2v_test, Y_test))\r\n",
        "# Print the accuracy score\r\n",
        "best_accuracy = cross_val_score(rf_w2v_combined, w2v_test, Y_test, cv=10, scoring='accuracy').max()\r\n",
        "print(\"Accuracy:\",best_accuracy)"
      ],
      "execution_count": null,
      "outputs": [
        {
          "output_type": "stream",
          "text": [
            "rf score  0.27593470247498686\n",
            "rf combined score 0.27593470247498686\n",
            "Accuracy: 0.3034300791556728\n"
          ],
          "name": "stdout"
        }
      ]
    },
    {
      "cell_type": "markdown",
      "metadata": {
        "id": "wlOjdqx_1eOb"
      },
      "source": [
        "**2. Using the best model from (a), perform a k-fold (k=10) cross-validation in combination with Gridsearch or Randomsearch to fine-tune the performance of your model by varying its hyperparameter values (10 points)**"
      ]
    },
    {
      "cell_type": "markdown",
      "metadata": {
        "id": "nLZrdmxO1qfB"
      },
      "source": [
        "As we clearly see that the accuracy for TF-IDF using random forest classifier is better than the accuracy for Word2Vec using random forest classifer."
      ]
    },
    {
      "cell_type": "code",
      "metadata": {
        "id": "oXcutH4WzEhx"
      },
      "source": [
        "def performance(ypred, yactl):\r\n",
        "    print(f'F1-score  : {f1_score(yactl, ypred, average=\"macro\")}')\r\n",
        "    print(f'Accuracy  : {accuracy_score(yactl, ypred)}')\r\n",
        "    print(f'Precision : {precision_score(yactl, ypred, average=\"macro\")}')\r\n",
        "    print(f'Recall    : {recall_score(yactl, ypred, average=\"macro\")}')"
      ],
      "execution_count": null,
      "outputs": []
    },
    {
      "cell_type": "code",
      "metadata": {
        "colab": {
          "base_uri": "https://localhost:8080/"
        },
        "id": "cVlkhpNyzEdd",
        "outputId": "66b9d78c-71f9-4ae3-9761-30385e90dc45"
      },
      "source": [
        "rfc = RandomForestClassifier(n_jobs=-1)\r\n",
        "n_estimators = [150,200,300]\r\n",
        "# Number of features to consider at every split\r\n",
        "max_features = ['auto', 'sqrt']\r\n",
        "# Maximum number of levels in tree\r\n",
        "max_depth = [10,20,40]\r\n",
        "max_depth.append(None)\r\n",
        "# Minimum number of samples required to split a node\r\n",
        "min_samples_split = [2, 5, 10]\r\n",
        "# Minimum number of samples required at each leaf node\r\n",
        "min_samples_leaf = [1, 2, 4]\r\n",
        "# Method of selecting samples for training each tree\r\n",
        "bootstrap = [True, False]# Create the random grid\r\n",
        "random_grid = {'n_estimators': n_estimators,\r\n",
        "               'max_features': max_features,\r\n",
        "               'max_depth': max_depth,\r\n",
        "               'min_samples_split': min_samples_split,\r\n",
        "               'min_samples_leaf': min_samples_leaf,\r\n",
        "               'bootstrap': bootstrap}\r\n",
        "print(random_grid)"
      ],
      "execution_count": null,
      "outputs": [
        {
          "output_type": "stream",
          "text": [
            "{'n_estimators': [150, 200, 300], 'max_features': ['auto', 'sqrt'], 'max_depth': [10, 20, 40, None], 'min_samples_split': [2, 5, 10], 'min_samples_leaf': [1, 2, 4], 'bootstrap': [True, False]}\n"
          ],
          "name": "stdout"
        }
      ]
    },
    {
      "cell_type": "code",
      "metadata": {
        "colab": {
          "base_uri": "https://localhost:8080/"
        },
        "id": "URIGvVu_zEcA",
        "outputId": "239c9ad6-41ec-45ef-81fd-51262ae66072"
      },
      "source": [
        "rf_random = RandomizedSearchCV(estimator=rfc, param_distributions=random_grid, cv=10, verbose=2, random_state=42, n_jobs=-1)\r\n",
        "# Fit the random search model\r\n",
        "rf_random.fit(tfidf_df, Y_train)"
      ],
      "execution_count": null,
      "outputs": [
        {
          "output_type": "stream",
          "text": [
            "Fitting 10 folds for each of 10 candidates, totalling 100 fits\n"
          ],
          "name": "stdout"
        },
        {
          "output_type": "stream",
          "text": [
            "[Parallel(n_jobs=-1)]: Using backend LokyBackend with 2 concurrent workers.\n",
            "[Parallel(n_jobs=-1)]: Done  37 tasks      | elapsed:  7.2min\n",
            "/usr/local/lib/python3.7/dist-packages/joblib/externals/loky/process_executor.py:691: UserWarning: A worker stopped while some jobs were given to the executor. This can be caused by a too short worker timeout or by a memory leak.\n",
            "  \"timeout or by a memory leak.\", UserWarning\n",
            "[Parallel(n_jobs=-1)]: Done 100 out of 100 | elapsed: 27.3min finished\n"
          ],
          "name": "stderr"
        },
        {
          "output_type": "execute_result",
          "data": {
            "text/plain": [
              "RandomizedSearchCV(cv=10, error_score=nan,\n",
              "                   estimator=RandomForestClassifier(bootstrap=True,\n",
              "                                                    ccp_alpha=0.0,\n",
              "                                                    class_weight=None,\n",
              "                                                    criterion='gini',\n",
              "                                                    max_depth=None,\n",
              "                                                    max_features='auto',\n",
              "                                                    max_leaf_nodes=None,\n",
              "                                                    max_samples=None,\n",
              "                                                    min_impurity_decrease=0.0,\n",
              "                                                    min_impurity_split=None,\n",
              "                                                    min_samples_leaf=1,\n",
              "                                                    min_samples_split=2,\n",
              "                                                    min_weight_fraction_leaf=0.0,\n",
              "                                                    n_estimators=100, n_job...\n",
              "                                                    verbose=0,\n",
              "                                                    warm_start=False),\n",
              "                   iid='deprecated', n_iter=10, n_jobs=-1,\n",
              "                   param_distributions={'bootstrap': [True, False],\n",
              "                                        'max_depth': [10, 20, 40, None],\n",
              "                                        'max_features': ['auto', 'sqrt'],\n",
              "                                        'min_samples_leaf': [1, 2, 4],\n",
              "                                        'min_samples_split': [2, 5, 10],\n",
              "                                        'n_estimators': [150, 200, 300]},\n",
              "                   pre_dispatch='2*n_jobs', random_state=42, refit=True,\n",
              "                   return_train_score=False, scoring=None, verbose=2)"
            ]
          },
          "metadata": {
            "tags": []
          },
          "execution_count": 34
        }
      ]
    },
    {
      "cell_type": "code",
      "metadata": {
        "colab": {
          "base_uri": "https://localhost:8080/"
        },
        "id": "ZN8LWzF6zEXw",
        "outputId": "df94e3bb-16e4-41bf-eae8-e11f8edd0e64"
      },
      "source": [
        "#Finding best parameters \r\n",
        "rf_random.best_params_"
      ],
      "execution_count": null,
      "outputs": [
        {
          "output_type": "execute_result",
          "data": {
            "text/plain": [
              "{'bootstrap': True,\n",
              " 'max_depth': None,\n",
              " 'max_features': 'auto',\n",
              " 'min_samples_leaf': 4,\n",
              " 'min_samples_split': 2,\n",
              " 'n_estimators': 150}"
            ]
          },
          "metadata": {
            "tags": []
          },
          "execution_count": 35
        }
      ]
    },
    {
      "cell_type": "code",
      "metadata": {
        "id": "RBI5i2EhzEWf"
      },
      "source": [
        "#Initializing best parameters \r\n",
        "rfc = RandomForestClassifier(n_estimators=150,\r\n",
        "                             min_samples_split= 2,\r\n",
        "                             min_samples_leaf= 4,\r\n",
        "                             max_features= 'auto',\r\n",
        "                             max_depth= None,\r\n",
        "                             bootstrap= True)"
      ],
      "execution_count": null,
      "outputs": []
    },
    {
      "cell_type": "code",
      "metadata": {
        "colab": {
          "base_uri": "https://localhost:8080/"
        },
        "id": "f6OdPtq0zEOy",
        "outputId": "545c0522-faa0-46bf-fcf9-af2638be036f"
      },
      "source": [
        "rfc.fit(tfidf_train, Y_train)"
      ],
      "execution_count": null,
      "outputs": [
        {
          "output_type": "execute_result",
          "data": {
            "text/plain": [
              "RandomForestClassifier(bootstrap=True, ccp_alpha=0.0, class_weight=None,\n",
              "                       criterion='gini', max_depth=None, max_features='auto',\n",
              "                       max_leaf_nodes=None, max_samples=None,\n",
              "                       min_impurity_decrease=0.0, min_impurity_split=None,\n",
              "                       min_samples_leaf=4, min_samples_split=2,\n",
              "                       min_weight_fraction_leaf=0.0, n_estimators=150,\n",
              "                       n_jobs=None, oob_score=False, random_state=None,\n",
              "                       verbose=0, warm_start=False)"
            ]
          },
          "metadata": {
            "tags": []
          },
          "execution_count": 37
        }
      ]
    },
    {
      "cell_type": "code",
      "metadata": {
        "id": "ONtX_H_lcZLt"
      },
      "source": [
        "pred = rfc.predict(tfidf_test)"
      ],
      "execution_count": null,
      "outputs": []
    },
    {
      "cell_type": "code",
      "metadata": {
        "id": "J3O6oimLcZEo"
      },
      "source": [
        "pred_prob = rfc.predict_proba(tfidf_test)"
      ],
      "execution_count": null,
      "outputs": []
    },
    {
      "cell_type": "code",
      "metadata": {
        "colab": {
          "base_uri": "https://localhost:8080/"
        },
        "id": "UHBRV7Bai7HF",
        "outputId": "59c51f57-419b-4cd6-db59-849d0067ace3"
      },
      "source": [
        "performance(pred, Y_test)"
      ],
      "execution_count": null,
      "outputs": [
        {
          "output_type": "stream",
          "text": [
            "F1-score  : 0.37581781774847356\n",
            "Accuracy  : 0.37783043707214325\n",
            "Precision : 0.4094355001382114\n",
            "Recall    : 0.37043085589238967\n"
          ],
          "name": "stdout"
        }
      ]
    },
    {
      "cell_type": "code",
      "metadata": {
        "colab": {
          "base_uri": "https://localhost:8080/"
        },
        "id": "GSKOg6u2JxOI",
        "outputId": "e3872b3c-c2d6-4d1f-9f5e-52758f4ce664"
      },
      "source": [
        "# Print the Confusion Matrix\r\n",
        "cm = confusion_matrix(Y_test, pred)\r\n",
        "print(\"Confusion Matrix\\n\")\r\n",
        "print(cm)\r\n",
        "# Print the Classification Report\r\n",
        "cr = classification_report(Y_test, pred)\r\n",
        "print(\"\\n\\nClassification Report\\n\")\r\n",
        "print(cr)"
      ],
      "execution_count": null,
      "outputs": [
        {
          "output_type": "stream",
          "text": [
            "Confusion Matrix\n",
            "\n",
            "[[157  20 202  74 139]\n",
            " [ 25 184  89  71 230]\n",
            " [101  44 378 193 325]\n",
            " [ 14   9 135 287 174]\n",
            " [ 35 104 205 174 429]]\n",
            "\n",
            "\n",
            "Classification Report\n",
            "\n",
            "              precision    recall  f1-score   support\n",
            "\n",
            "           0       0.47      0.27      0.34       592\n",
            "           1       0.51      0.31      0.38       599\n",
            "           2       0.37      0.36      0.37      1041\n",
            "           3       0.36      0.46      0.40       619\n",
            "           4       0.33      0.45      0.38       947\n",
            "\n",
            "    accuracy                           0.38      3798\n",
            "   macro avg       0.41      0.37      0.38      3798\n",
            "weighted avg       0.40      0.38      0.38      3798\n",
            "\n"
          ],
          "name": "stdout"
        }
      ]
    },
    {
      "cell_type": "code",
      "metadata": {
        "id": "fbM3Qb1_Ks5S"
      },
      "source": [
        "def confusion_metrics (conf_matrix):\r\n",
        "# save confusion matrix and slice into four pieces\r\n",
        "    TP = conf_matrix[1][1]\r\n",
        "    TN = conf_matrix[0][0]\r\n",
        "    FP = conf_matrix[0][1]\r\n",
        "    FN = conf_matrix[1][0]\r\n",
        "    print('True Positives:', TP)\r\n",
        "    print('True Negatives:', TN)\r\n",
        "    print('False Positives:', FP)\r\n",
        "    print('False Negatives:', FN)\r\n",
        "    \r\n",
        "    # calculate the sensitivity\r\n",
        "    conf_sensitivity = (TP / float(TP + FN))\r\n",
        "    # calculate the specificity\r\n",
        "    conf_specificity = (TN / float(TN + FP))\r\n",
        "\r\n",
        "    print(f'Sensitivity: {round(conf_sensitivity,2)}') \r\n",
        "    print(f'Specificity: {round(conf_specificity,2)}') "
      ],
      "execution_count": null,
      "outputs": []
    },
    {
      "cell_type": "code",
      "metadata": {
        "colab": {
          "base_uri": "https://localhost:8080/"
        },
        "id": "3_MgocmNLRTZ",
        "outputId": "c93f3c1b-3432-4832-9a65-f87d221e6081"
      },
      "source": [
        "confusion_metrics(cm)"
      ],
      "execution_count": null,
      "outputs": [
        {
          "output_type": "stream",
          "text": [
            "True Positives: 184\n",
            "True Negatives: 157\n",
            "False Positives: 20\n",
            "False Negatives: 25\n",
            "Sensitivity: 0.88\n",
            "Specificity: 0.89\n"
          ],
          "name": "stdout"
        }
      ]
    },
    {
      "cell_type": "markdown",
      "metadata": {
        "id": "IqRg_p1w2car"
      },
      "source": [
        "**3. Select another classifier and compare the results of your model based on the following criteria: Accuracy, Sensitivity and Specificity (10 points)**"
      ]
    },
    {
      "cell_type": "code",
      "metadata": {
        "id": "kRh_GYy4zTQ6"
      },
      "source": [
        "silent = False,\r\n",
        "max_depth= 6, 10, 15, 20,\r\n",
        "learning_rate = 0.001, 0.01, 0.1, 0.2, 0,3,\r\n",
        "subsample= 0.5, 0.6, 0.7, 0.8, 0.9, 1.0,\r\n",
        "colsample_bytree= 0.4, 0.5, 0.6, 0.7, 0.8, 0.9, 1.0,\r\n",
        "colsample_bylevel= 0.4, 0.5, 0.6, 0.7, 0.8, 0.9, 1.0,\r\n",
        "min_child_weight= 0.5, 1.0, 3.0, 5.0, 7.0, 10.0,\r\n",
        "gamma = 0, 0.25, 0.5, 1.0,\r\n",
        "reg_lambda= 0.1, 1.0, 5.0, 10.0, 50.0, 100.0,\r\n",
        "n_estimators = [100]"
      ],
      "execution_count": null,
      "outputs": []
    },
    {
      "cell_type": "code",
      "metadata": {
        "id": "8jq58FihxeMh"
      },
      "source": [
        "model = XGBClassifier()\r\n",
        "param_grid = dict(\r\n",
        "        max_depth = max_depth,\r\n",
        "        learning_rate = learning_rate,\r\n",
        "        subsample = subsample,\r\n",
        "        colsample_bytree = colsample_bytree,\r\n",
        "        colsample_bylevel = colsample_bylevel,\r\n",
        "        min_child_weight = min_child_weight,\r\n",
        "        gamma = gamma,\r\n",
        "        reg_lambda = reg_lambda,\r\n",
        "         n_estimators = n_estimators)\r\n",
        "kfold = StratifiedKFold(n_splits=10, shuffle=True, random_state=7)"
      ],
      "execution_count": null,
      "outputs": []
    },
    {
      "cell_type": "code",
      "metadata": {
        "colab": {
          "base_uri": "https://localhost:8080/"
        },
        "id": "OLQSePuUyH8T",
        "outputId": "d3eab14c-770a-45c7-b59b-22130953b5de"
      },
      "source": [
        "xgb_random = RandomizedSearchCV(estimator=model, param_distributions=param_grid, cv=kfold, verbose=2, random_state=42, n_jobs=-1)\r\n",
        "# Fit the random search model\r\n",
        "xgb_random.fit(tfidf_df, Y_train)"
      ],
      "execution_count": null,
      "outputs": [
        {
          "output_type": "stream",
          "text": [
            "Fitting 10 folds for each of 10 candidates, totalling 100 fits\n"
          ],
          "name": "stdout"
        },
        {
          "output_type": "stream",
          "text": [
            "[Parallel(n_jobs=-1)]: Using backend LokyBackend with 2 concurrent workers.\n",
            "[Parallel(n_jobs=-1)]: Done  37 tasks      | elapsed: 52.3min\n",
            "[Parallel(n_jobs=-1)]: Done 100 out of 100 | elapsed: 124.3min finished\n"
          ],
          "name": "stderr"
        },
        {
          "output_type": "execute_result",
          "data": {
            "text/plain": [
              "RandomizedSearchCV(cv=StratifiedKFold(n_splits=10, random_state=7, shuffle=True),\n",
              "                   error_score=nan,\n",
              "                   estimator=XGBClassifier(base_score=0.5, booster='gbtree',\n",
              "                                           colsample_bylevel=1,\n",
              "                                           colsample_bynode=1,\n",
              "                                           colsample_bytree=1, gamma=0,\n",
              "                                           learning_rate=0.1, max_delta_step=0,\n",
              "                                           max_depth=3, min_child_weight=1,\n",
              "                                           missing=None, n_estimators=100,\n",
              "                                           n_jobs=1, nthread=None,\n",
              "                                           objective='bina...\n",
              "                                                             0.8, 0.9, 1.0),\n",
              "                                        'gamma': (0, 0.25, 0.5, 1.0),\n",
              "                                        'learning_rate': (0.001, 0.01, 0.1, 0.2,\n",
              "                                                          0, 3),\n",
              "                                        'max_depth': (6, 10, 15, 20),\n",
              "                                        'min_child_weight': (0.5, 1.0, 3.0, 5.0,\n",
              "                                                             7.0, 10.0),\n",
              "                                        'n_estimators': [100],\n",
              "                                        'reg_lambda': (0.1, 1.0, 5.0, 10.0,\n",
              "                                                       50.0, 100.0),\n",
              "                                        'subsample': (0.5, 0.6, 0.7, 0.8, 0.9,\n",
              "                                                      1.0)},\n",
              "                   pre_dispatch='2*n_jobs', random_state=42, refit=True,\n",
              "                   return_train_score=False, scoring=None, verbose=2)"
            ]
          },
          "metadata": {
            "tags": []
          },
          "execution_count": 66
        }
      ]
    },
    {
      "cell_type": "code",
      "metadata": {
        "colab": {
          "base_uri": "https://localhost:8080/"
        },
        "id": "Ynt80ECDCnFk",
        "outputId": "3a4ba44f-7a72-4bb5-8614-59d299666056"
      },
      "source": [
        "xgb_random.best_params_"
      ],
      "execution_count": null,
      "outputs": [
        {
          "output_type": "execute_result",
          "data": {
            "text/plain": [
              "{'colsample_bylevel': 0.4,\n",
              " 'colsample_bytree': 1.0,\n",
              " 'gamma': 0.5,\n",
              " 'learning_rate': 0.1,\n",
              " 'max_depth': 20,\n",
              " 'min_child_weight': 7.0,\n",
              " 'n_estimators': 100,\n",
              " 'reg_lambda': 100.0,\n",
              " 'subsample': 0.8}"
            ]
          },
          "metadata": {
            "tags": []
          },
          "execution_count": 67
        }
      ]
    },
    {
      "cell_type": "code",
      "metadata": {
        "id": "4AuKGUhXC49p"
      },
      "source": [
        "silent = False,\r\n",
        "max_depth= 20\r\n",
        "learning_rate = 0.1\r\n",
        "subsample= 0.8\r\n",
        "colsample_bytree= 1.0\r\n",
        "colsample_bylevel= 0.4\r\n",
        "min_child_weight= 7.0\r\n",
        "gamma = 0.5\r\n",
        "reg_lambda= 100.0\r\n",
        "n_estimators = [100]"
      ],
      "execution_count": null,
      "outputs": []
    },
    {
      "cell_type": "code",
      "metadata": {
        "id": "9sf7KZC4C7gK"
      },
      "source": [
        "model = XGBClassifier()\r\n",
        "param_grid = dict(\r\n",
        "        max_depth = max_depth,\r\n",
        "        learning_rate = learning_rate,\r\n",
        "        subsample = subsample,\r\n",
        "        colsample_bytree = colsample_bytree,\r\n",
        "        colsample_bylevel = colsample_bylevel,\r\n",
        "        min_child_weight = min_child_weight,\r\n",
        "        gamma = gamma,\r\n",
        "        reg_lambda = reg_lambda,\r\n",
        "         n_estimators = n_estimators)\r\n",
        "kfold = StratifiedKFold(n_splits=10, shuffle=True, random_state=7)"
      ],
      "execution_count": null,
      "outputs": []
    },
    {
      "cell_type": "code",
      "metadata": {
        "colab": {
          "base_uri": "https://localhost:8080/"
        },
        "id": "RQCpB7icDg5t",
        "outputId": "4f293c01-32dc-49c2-ba82-b765d103cccc"
      },
      "source": [
        "model.fit(tfidf_train, Y_train)"
      ],
      "execution_count": null,
      "outputs": [
        {
          "output_type": "execute_result",
          "data": {
            "text/plain": [
              "XGBClassifier(base_score=0.5, booster='gbtree', colsample_bylevel=1,\n",
              "              colsample_bynode=1, colsample_bytree=1, gamma=0,\n",
              "              learning_rate=0.1, max_delta_step=0, max_depth=3,\n",
              "              min_child_weight=1, missing=None, n_estimators=100, n_jobs=1,\n",
              "              nthread=None, objective='multi:softprob', random_state=0,\n",
              "              reg_alpha=0, reg_lambda=1, scale_pos_weight=1, seed=None,\n",
              "              silent=None, subsample=1, verbosity=1)"
            ]
          },
          "metadata": {
            "tags": []
          },
          "execution_count": 70
        }
      ]
    },
    {
      "cell_type": "code",
      "metadata": {
        "id": "EuQCUFB8Dvyu"
      },
      "source": [
        "pred = model.predict(tfidf_test)"
      ],
      "execution_count": null,
      "outputs": []
    },
    {
      "cell_type": "code",
      "metadata": {
        "id": "OsMzCXI4Dyej"
      },
      "source": [
        "pred_prob = model.predict_proba(tfidf_test)"
      ],
      "execution_count": null,
      "outputs": []
    },
    {
      "cell_type": "code",
      "metadata": {
        "colab": {
          "base_uri": "https://localhost:8080/"
        },
        "id": "qltsnX1rD2mY",
        "outputId": "7b348d9e-9438-4f90-c5b3-e319d7bc9e8f"
      },
      "source": [
        "performance(pred, Y_test)"
      ],
      "execution_count": null,
      "outputs": [
        {
          "output_type": "stream",
          "text": [
            "F1-score  : 0.3351578771521648\n",
            "Accuracy  : 0.3499210110584518\n",
            "Precision : 0.4031983584914157\n",
            "Recall    : 0.3349124104298045\n"
          ],
          "name": "stdout"
        }
      ]
    },
    {
      "cell_type": "code",
      "metadata": {
        "colab": {
          "base_uri": "https://localhost:8080/"
        },
        "id": "9segj3mYEE80",
        "outputId": "aab82378-3913-4707-a217-74ff940fa6a7"
      },
      "source": [
        "# Print the Confusion Matrix\r\n",
        "cm = confusion_matrix(Y_test, pred)\r\n",
        "print(\"Confusion Matrix\\n\")\r\n",
        "print(cm)\r\n",
        "# Print the Classification Report\r\n",
        "cr = classification_report(Y_test, pred)\r\n",
        "print(\"\\n\\nClassification Report\\n\")\r\n",
        "print(cr)"
      ],
      "execution_count": null,
      "outputs": [
        {
          "output_type": "stream",
          "text": [
            "Confusion Matrix\n",
            "\n",
            "[[156  12 131  59 234]\n",
            " [ 21 138  58  47 335]\n",
            " [122  29 230 149 511]\n",
            " [  8   7  71 196 337]\n",
            " [ 35  73 116 114 609]]\n",
            "\n",
            "\n",
            "Classification Report\n",
            "\n",
            "              precision    recall  f1-score   support\n",
            "\n",
            "           0       0.46      0.26      0.33       592\n",
            "           1       0.53      0.23      0.32       599\n",
            "           2       0.38      0.22      0.28      1041\n",
            "           3       0.35      0.32      0.33       619\n",
            "           4       0.30      0.64      0.41       947\n",
            "\n",
            "    accuracy                           0.35      3798\n",
            "   macro avg       0.40      0.33      0.34      3798\n",
            "weighted avg       0.39      0.35      0.34      3798\n",
            "\n"
          ],
          "name": "stdout"
        }
      ]
    },
    {
      "cell_type": "code",
      "metadata": {
        "id": "EDFJtO6ENH1O"
      },
      "source": [
        "def confusion_metrics (conf_matrix):\r\n",
        "# save confusion matrix and slice into four pieces\r\n",
        "    TP = conf_matrix[1][1]\r\n",
        "    TN = conf_matrix[0][0]\r\n",
        "    FP = conf_matrix[0][1]\r\n",
        "    FN = conf_matrix[1][0]\r\n",
        "    print('True Positives:', TP)\r\n",
        "    print('True Negatives:', TN)\r\n",
        "    print('False Positives:', FP)\r\n",
        "    print('False Negatives:', FN)\r\n",
        "    \r\n",
        "    # calculate the sensitivity\r\n",
        "    conf_sensitivity = (TP / float(TP + FN))\r\n",
        "    # calculate the specificity\r\n",
        "    conf_specificity = (TN / float(TN + FP))\r\n",
        "\r\n",
        "    print(f'Sensitivity: {round(conf_sensitivity,2)}') \r\n",
        "    print(f'Specificity: {round(conf_specificity,2)}') "
      ],
      "execution_count": null,
      "outputs": []
    },
    {
      "cell_type": "code",
      "metadata": {
        "colab": {
          "base_uri": "https://localhost:8080/"
        },
        "id": "u1zQXHOwNRoz",
        "outputId": "b3ab11fd-2a67-44de-d4fd-39281f4ba979"
      },
      "source": [
        "confusion_metrics(cm)"
      ],
      "execution_count": null,
      "outputs": [
        {
          "output_type": "stream",
          "text": [
            "True Positives: 138\n",
            "True Negatives: 156\n",
            "False Positives: 12\n",
            "False Negatives: 21\n",
            "Sensitivity: 0.87\n",
            "Specificity: 0.93\n"
          ],
          "name": "stdout"
        }
      ]
    },
    {
      "cell_type": "markdown",
      "metadata": {
        "id": "bXoQ60MD2jA2"
      },
      "source": [
        "**4. Carry out a ROC analysis to compare the performance of your model with the selected classifier. Plot the ROC graph of the models (10 points)**"
      ]
    },
    {
      "cell_type": "code",
      "metadata": {
        "id": "ryqJPtZhwxWV"
      },
      "source": [
        "rfc_pred_prob = rfc.predict_proba(tfidf_test)\r\n",
        "model_pred_prob2 = model.predict_proba(tfidf_test)"
      ],
      "execution_count": null,
      "outputs": []
    },
    {
      "cell_type": "code",
      "metadata": {
        "id": "HdXXQmJNw-IW"
      },
      "source": [
        "# roc curve for models\r\n",
        "fpr1, tpr1, thresh1 = roc_curve(Y_test, rfc_pred_prob[:,1], pos_label=1)\r\n",
        "fpr2, tpr2, thresh2 = roc_curve(Y_test, model_pred_prob2[:,1], pos_label=1)\r\n",
        "\r\n",
        "# roc curve for tpr = fpr \r\n",
        "random_probs = [0 for i in range(len(Y_test))]\r\n",
        "p_fpr, p_tpr, _ = roc_curve(Y_test, random_probs, pos_label=1)"
      ],
      "execution_count": null,
      "outputs": []
    },
    {
      "cell_type": "code",
      "metadata": {
        "colab": {
          "base_uri": "https://localhost:8080/",
          "height": 376
        },
        "id": "xJgkwqnTxGSf",
        "outputId": "75c3dde2-a74f-41f7-8c16-0a683f8596b9"
      },
      "source": [
        "plt.style.use('seaborn')\r\n",
        "\r\n",
        "# plot roc curves\r\n",
        "plt.plot(fpr1, tpr1, linestyle='--',color='darkorange', label='Random Forest')\r\n",
        "plt.plot(fpr2, tpr2, linestyle='--',color='green', label='XG Boost')\r\n",
        "plt.plot(p_fpr, p_tpr, linestyle='--', color='cornflowerblue')\r\n",
        "# title\r\n",
        "plt.title('ROC curve')\r\n",
        "# x label\r\n",
        "plt.xlabel('False Positive Rate')\r\n",
        "# y label\r\n",
        "plt.ylabel('True Positive rate')\r\n",
        "\r\n",
        "plt.legend(loc='best')\r\n",
        "plt.savefig('ROC',dpi=300)\r\n",
        "plt.show();"
      ],
      "execution_count": null,
      "outputs": [
        {
          "output_type": "display_data",
          "data": {
            "image/png": "[encoded data removed]",
            "text/plain": [
              "<Figure size 576x396 with 1 Axes>"
            ]
          },
          "metadata": {
            "tags": []
          }
        }
      ]
    },
    {
      "cell_type": "markdown",
      "metadata": {
        "id": "v18DLwcc2rsZ"
      },
      "source": [
        "**5. After tuning your final model, persist using Pickle or Joblib (10 points)**"
      ]
    },
    {
      "cell_type": "code",
      "metadata": {
        "id": "1tPyTW66x6bM"
      },
      "source": [
        "filename = 'Random Forest.sav'\r\n",
        "pickle.dump(rfc, open(filename, 'wb'))"
      ],
      "execution_count": null,
      "outputs": []
    },
    {
      "cell_type": "code",
      "metadata": {
        "id": "oM4NoLaAx_6m"
      },
      "source": [
        "filename = 'XGBoost.sav'\r\n",
        "pickle.dump(model, open(filename, 'wb'))"
      ],
      "execution_count": null,
      "outputs": []
    },
    {
      "cell_type": "markdown",
      "metadata": {
        "id": "3oTAnZK221oV"
      },
      "source": [
        "<H5 align=\"left\"><b> Thank you </b></H5>\r\n",
        "<H5 align=\"left\"><b> Assignment -3 Task - 2: 50 Points </b></H5>\r\n",
        "<H5 align=\"left\"><b> Prepared and Submitted By : Rahul Raj Sharma </b></H5>"
      ]
    }
  ]
}