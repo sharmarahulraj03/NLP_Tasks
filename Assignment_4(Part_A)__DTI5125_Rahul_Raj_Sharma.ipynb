{
  "nbformat": 4,
  "nbformat_minor": 0,
  "metadata": {
    "colab": {
      "name": "Assignment_4(Part A) _DTI5125_Rahul_Raj_Sharma.ipynb",
      "provenance": [],
      "authorship_tag": "ABX9TyN5f9yhmBU2LvnxixOzGvRe",
      "include_colab_link": true
    },
    "kernelspec": {
      "name": "python3",
      "display_name": "Python 3"
    },
    "language_info": {
      "name": "python"
    }
  },
  "cells": [
    {
      "cell_type": "markdown",
      "metadata": {
        "id": "view-in-github",
        "colab_type": "text"
      },
      "source": [
        "<a href=\"https://colab.research.google.com/github/sharmarahulraj03/NLP_Tasks/blob/main/Assignment_4(Part_A)__DTI5125_Rahul_Raj_Sharma.ipynb\" target=\"_parent\"><img src=\"https://colab.research.google.com/assets/colab-badge.svg\" alt=\"Open In Colab\"/></a>"
      ]
    },
    {
      "cell_type": "markdown",
      "metadata": {
        "id": "vJP4opXwK3-b"
      },
      "source": [
        "<H1 align=\"center\"><b>Data Science Applications</b></H1>\n",
        "<H3 align=\"center\"><b>Assignment 4</b></H3>\n",
        "<H3 align=\"center\"><b><u>Part : A</u></b></H3>\n",
        "<H5 align=\"left\"><b><u> Instruction:</u></b></H5>\n",
        "<p align=\"justify\">This assignment should be completed individually using either Python or R. Upon completion, present your result in \n",
        "one submission, including the report, answers generated and plots. Also, submit the source codes used to generate \n",
        "your results as a separate attachment.</p>\n",
        "<H5 align=\"left\"><b><u>Part A:  Topic Modeling & Sentiment Analysis (50 Points)</u></b></H5>\n",
        "<p align=\"justify\">Sentiment analysis is useful for identifying attitudes in text data about a subject of interest. It is scored using polarity \n",
        "values that range from 1 (i.e., more positivity) to -1 (i.e., more negativity). In this part, you will:\n",
        "<br>\n",
        "<b>A. Estimate the public's perception of natural hazards using tweets from the tornado dataset provided</b>\n",
        "<ol>\n",
        "<li>Using the textblob package in python, calculate a polarity value for each tweet (10 points)\n",
        "</li>\n",
        "<li> Plot the polarity values in a histogram to identify the overall sentiment (10 points)\n",
        "</li>\n",
        "<li> What does the histogram of polarity values tell you about sentiments in the tweets? Are they positive or \n",
        "negative? (5 points)</li>\n",
        "</ol></p>\n",
        "<p align=\"justify\">\n",
        "<b>B.  Develop a text summarizer</b>\n",
        "<ol>\n",
        "<li> Preprocess the tweets & compute frequency distribution for most common 10 words (10 points)\n",
        "</li>\n",
        "<li>  Create a topic model using the LDA approach & extract 10 meaningful topics (15 points)\n",
        "</li>\n",
        "</ol></p>"
      ]
    },
    {
      "cell_type": "markdown",
      "metadata": {
        "id": "Wj5-sTDlNZtj"
      },
      "source": [
        "**Importing required Libraries.**"
      ]
    },
    {
      "cell_type": "code",
      "metadata": {
        "colab": {
          "base_uri": "https://localhost:8080/"
        },
        "id": "LIacYJHy9i9n",
        "outputId": "f90d6834-e415-4e7d-ae1f-b772fb00e215"
      },
      "source": [
        "# Install Libraries\n",
        "!pip install textblob\n",
        "!pip install tweepy\n",
        "!pip install contractions"
      ],
      "execution_count": 1,
      "outputs": [
        {
          "output_type": "stream",
          "text": [
            "Requirement already satisfied: textblob in /usr/local/lib/python3.7/dist-packages (0.15.3)\n",
            "Requirement already satisfied: nltk>=3.1 in /usr/local/lib/python3.7/dist-packages (from textblob) (3.2.5)\n",
            "Requirement already satisfied: six in /usr/local/lib/python3.7/dist-packages (from nltk>=3.1->textblob) (1.15.0)\n",
            "Requirement already satisfied: tweepy in /usr/local/lib/python3.7/dist-packages (3.10.0)\n",
            "Requirement already satisfied: six>=1.10.0 in /usr/local/lib/python3.7/dist-packages (from tweepy) (1.15.0)\n",
            "Requirement already satisfied: requests-oauthlib>=0.7.0 in /usr/local/lib/python3.7/dist-packages (from tweepy) (1.3.0)\n",
            "Requirement already satisfied: requests[socks]>=2.11.1 in /usr/local/lib/python3.7/dist-packages (from tweepy) (2.23.0)\n",
            "Requirement already satisfied: oauthlib>=3.0.0 in /usr/local/lib/python3.7/dist-packages (from requests-oauthlib>=0.7.0->tweepy) (3.1.0)\n",
            "Requirement already satisfied: chardet<4,>=3.0.2 in /usr/local/lib/python3.7/dist-packages (from requests[socks]>=2.11.1->tweepy) (3.0.4)\n",
            "Requirement already satisfied: certifi>=2017.4.17 in /usr/local/lib/python3.7/dist-packages (from requests[socks]>=2.11.1->tweepy) (2020.12.5)\n",
            "Requirement already satisfied: idna<3,>=2.5 in /usr/local/lib/python3.7/dist-packages (from requests[socks]>=2.11.1->tweepy) (2.10)\n",
            "Requirement already satisfied: urllib3!=1.25.0,!=1.25.1,<1.26,>=1.21.1 in /usr/local/lib/python3.7/dist-packages (from requests[socks]>=2.11.1->tweepy) (1.24.3)\n",
            "Requirement already satisfied: PySocks!=1.5.7,>=1.5.6; extra == \"socks\" in /usr/local/lib/python3.7/dist-packages (from requests[socks]>=2.11.1->tweepy) (1.7.1)\n",
            "Requirement already satisfied: contractions in /usr/local/lib/python3.7/dist-packages (0.0.48)\n",
            "Requirement already satisfied: textsearch>=0.0.21 in /usr/local/lib/python3.7/dist-packages (from contractions) (0.0.21)\n",
            "Requirement already satisfied: anyascii in /usr/local/lib/python3.7/dist-packages (from textsearch>=0.0.21->contractions) (0.1.7)\n",
            "Requirement already satisfied: pyahocorasick in /usr/local/lib/python3.7/dist-packages (from textsearch>=0.0.21->contractions) (1.4.2)\n"
          ],
          "name": "stdout"
        }
      ]
    },
    {
      "cell_type": "code",
      "metadata": {
        "id": "rhvolHDR999L",
        "colab": {
          "base_uri": "https://localhost:8080/"
        },
        "outputId": "0a6d1842-e917-4296-e5ab-4f408f448592"
      },
      "source": [
        "#Import all the important required libraries \n",
        "import pandas as pd\n",
        "import numpy as np\n",
        "import spacy\n",
        "import matplotlib.pyplot as plt\n",
        "import warnings\n",
        "import os\n",
        "import re\n",
        "import contractions\n",
        "import nltk\n",
        "import gensim\n",
        "import seaborn as sns\n",
        "\n",
        "nltk.download('punkt')\n",
        "nltk.download('wordnet')\n",
        "nltk.download('stopwords')\n",
        "nltk.download('vader_lexicon')\n",
        "\n",
        "from spacy import displacy\n",
        "from textblob import TextBlob\n",
        "from nltk.sentiment.vader import SentimentIntensityAnalyzer\n",
        "from nltk.stem import PorterStemmer, WordNetLemmatizer\n",
        "from spacy.lang.en import English\n",
        "from collections import Counter \n",
        "from gensim import corpora\n",
        "from gensim.models import CoherenceModel\n",
        "from nltk.corpus import stopwords\n",
        "\n",
        "warnings.filterwarnings('ignore')\n",
        "%matplotlib inline\n"
      ],
      "execution_count": 2,
      "outputs": [
        {
          "output_type": "stream",
          "text": [
            "[nltk_data] Downloading package punkt to /root/nltk_data...\n",
            "[nltk_data]   Package punkt is already up-to-date!\n",
            "[nltk_data] Downloading package wordnet to /root/nltk_data...\n",
            "[nltk_data]   Package wordnet is already up-to-date!\n",
            "[nltk_data] Downloading package stopwords to /root/nltk_data...\n",
            "[nltk_data]   Package stopwords is already up-to-date!\n",
            "[nltk_data] Downloading package vader_lexicon to /root/nltk_data...\n",
            "[nltk_data]   Package vader_lexicon is already up-to-date!\n"
          ],
          "name": "stdout"
        },
        {
          "output_type": "stream",
          "text": [
            "/usr/local/lib/python3.7/dist-packages/nltk/twitter/__init__.py:20: UserWarning: The twython library has not been installed. Some functionality from the twitter package will not be available.\n",
            "  warnings.warn(\"The twython library has not been installed. \"\n"
          ],
          "name": "stderr"
        }
      ]
    },
    {
      "cell_type": "code",
      "metadata": {
        "colab": {
          "base_uri": "https://localhost:8080/"
        },
        "id": "1LAnMiXA-CYJ",
        "outputId": "4d97b04e-f93b-4589-eaec-e1530d288399"
      },
      "source": [
        "#Importing data \n",
        "df = pd.read_excel(\"Tornado.xlsx\", header=None)\n",
        "data_size = len(df)\n",
        "print(data_size)\n",
        "print(df.head())\n",
        "print(df.tail())"
      ],
      "execution_count": 3,
      "outputs": [
        {
          "output_type": "stream",
          "text": [
            "3631\n",
            "                                                  0    1    2   ...   8    9    10\n",
            "0  0\\tRT @uberdogfound: Please RT - Food needed f...  NaN  NaN  ...  NaN  NaN  NaN\n",
            "1  1\\tPlease RT - Food needed for shelter in NC i...  NaN  NaN  ...  NaN  NaN  NaN\n",
            "2  3\\t‚ô°its raining and tornado warnings....abou...  NaN  NaN  ...  NaN  NaN  NaN\n",
            "3  9\\tLmao #damn RT @LuCeCaNNoNn: If I don't get ...  NaN  NaN  ...  NaN  NaN  NaN\n",
            "4  10\\tSaved by the tornado warning....I'm just r...  NaN  NaN  ...  NaN  NaN  NaN\n",
            "\n",
            "[5 rows x 11 columns]\n",
            "                                                     0   ...   10\n",
            "3626  39\\tThanks to @BarackObama and @SethMeyers21 f...  ...  NaN\n",
            "3627  0\\tStamford-based AmeriCares is preparing to s...  ...  NaN\n",
            "3628  2\\t\"Semi-trailer parked at People's Church Spr...  ...  NaN\n",
            "3629  3\\tRT @TopNoTcH_B1tch: My mom is goin out of t...  ...  NaN\n",
            "3630  6\\t\"Volunteers Offer Support to Southern Torna...  ...  NaN\n",
            "\n",
            "[5 rows x 11 columns]\n"
          ],
          "name": "stdout"
        }
      ]
    },
    {
      "cell_type": "code",
      "metadata": {
        "colab": {
          "base_uri": "https://localhost:8080/",
          "height": 402
        },
        "id": "_KSLA8GH-E6W",
        "outputId": "77b403aa-eefa-4129-db55-94ec62139922"
      },
      "source": [
        "#Display imported data \n",
        "df"
      ],
      "execution_count": 4,
      "outputs": [
        {
          "output_type": "execute_result",
          "data": {
            "text/html": [
              "<div>\n",
              "<style scoped>\n",
              "    .dataframe tbody tr th:only-of-type {\n",
              "        vertical-align: middle;\n",
              "    }\n",
              "\n",
              "    .dataframe tbody tr th {\n",
              "        vertical-align: top;\n",
              "    }\n",
              "\n",
              "    .dataframe thead th {\n",
              "        text-align: right;\n",
              "    }\n",
              "</style>\n",
              "<table border=\"1\" class=\"dataframe\">\n",
              "  <thead>\n",
              "    <tr style=\"text-align: right;\">\n",
              "      <th></th>\n",
              "      <th>0</th>\n",
              "      <th>1</th>\n",
              "      <th>2</th>\n",
              "      <th>3</th>\n",
              "      <th>4</th>\n",
              "      <th>5</th>\n",
              "      <th>6</th>\n",
              "      <th>7</th>\n",
              "      <th>8</th>\n",
              "      <th>9</th>\n",
              "      <th>10</th>\n",
              "    </tr>\n",
              "  </thead>\n",
              "  <tbody>\n",
              "    <tr>\n",
              "      <th>0</th>\n",
              "      <td>0\\tRT @uberdogfound: Please RT - Food needed f...</td>\n",
              "      <td>NaN</td>\n",
              "      <td>NaN</td>\n",
              "      <td>NaN</td>\n",
              "      <td>NaN</td>\n",
              "      <td>NaN</td>\n",
              "      <td>NaN</td>\n",
              "      <td>NaN</td>\n",
              "      <td>NaN</td>\n",
              "      <td>NaN</td>\n",
              "      <td>NaN</td>\n",
              "    </tr>\n",
              "    <tr>\n",
              "      <th>1</th>\n",
              "      <td>1\\tPlease RT - Food needed for shelter in NC i...</td>\n",
              "      <td>NaN</td>\n",
              "      <td>NaN</td>\n",
              "      <td>NaN</td>\n",
              "      <td>NaN</td>\n",
              "      <td>NaN</td>\n",
              "      <td>NaN</td>\n",
              "      <td>NaN</td>\n",
              "      <td>NaN</td>\n",
              "      <td>NaN</td>\n",
              "      <td>NaN</td>\n",
              "    </tr>\n",
              "    <tr>\n",
              "      <th>2</th>\n",
              "      <td>3\\t‚ô°its raining and tornado warnings....abou...</td>\n",
              "      <td>NaN</td>\n",
              "      <td>NaN</td>\n",
              "      <td>NaN</td>\n",
              "      <td>NaN</td>\n",
              "      <td>NaN</td>\n",
              "      <td>NaN</td>\n",
              "      <td>NaN</td>\n",
              "      <td>NaN</td>\n",
              "      <td>NaN</td>\n",
              "      <td>NaN</td>\n",
              "    </tr>\n",
              "    <tr>\n",
              "      <th>3</th>\n",
              "      <td>9\\tLmao #damn RT @LuCeCaNNoNn: If I don't get ...</td>\n",
              "      <td>NaN</td>\n",
              "      <td>NaN</td>\n",
              "      <td>NaN</td>\n",
              "      <td>NaN</td>\n",
              "      <td>NaN</td>\n",
              "      <td>NaN</td>\n",
              "      <td>NaN</td>\n",
              "      <td>NaN</td>\n",
              "      <td>NaN</td>\n",
              "      <td>NaN</td>\n",
              "    </tr>\n",
              "    <tr>\n",
              "      <th>4</th>\n",
              "      <td>10\\tSaved by the tornado warning....I'm just r...</td>\n",
              "      <td>NaN</td>\n",
              "      <td>NaN</td>\n",
              "      <td>NaN</td>\n",
              "      <td>NaN</td>\n",
              "      <td>NaN</td>\n",
              "      <td>NaN</td>\n",
              "      <td>NaN</td>\n",
              "      <td>NaN</td>\n",
              "      <td>NaN</td>\n",
              "      <td>NaN</td>\n",
              "    </tr>\n",
              "    <tr>\n",
              "      <th>...</th>\n",
              "      <td>...</td>\n",
              "      <td>...</td>\n",
              "      <td>...</td>\n",
              "      <td>...</td>\n",
              "      <td>...</td>\n",
              "      <td>...</td>\n",
              "      <td>...</td>\n",
              "      <td>...</td>\n",
              "      <td>...</td>\n",
              "      <td>...</td>\n",
              "      <td>...</td>\n",
              "    </tr>\n",
              "    <tr>\n",
              "      <th>3626</th>\n",
              "      <td>39\\tThanks to @BarackObama and @SethMeyers21 f...</td>\n",
              "      <td>NaN</td>\n",
              "      <td>NaN</td>\n",
              "      <td>NaN</td>\n",
              "      <td>NaN</td>\n",
              "      <td>NaN</td>\n",
              "      <td>NaN</td>\n",
              "      <td>NaN</td>\n",
              "      <td>NaN</td>\n",
              "      <td>NaN</td>\n",
              "      <td>NaN</td>\n",
              "    </tr>\n",
              "    <tr>\n",
              "      <th>3627</th>\n",
              "      <td>0\\tStamford-based AmeriCares is preparing to s...</td>\n",
              "      <td>NaN</td>\n",
              "      <td>NaN</td>\n",
              "      <td>NaN</td>\n",
              "      <td>NaN</td>\n",
              "      <td>NaN</td>\n",
              "      <td>NaN</td>\n",
              "      <td>NaN</td>\n",
              "      <td>NaN</td>\n",
              "      <td>NaN</td>\n",
              "      <td>NaN</td>\n",
              "    </tr>\n",
              "    <tr>\n",
              "      <th>3628</th>\n",
              "      <td>2\\t\"Semi-trailer parked at People's Church Spr...</td>\n",
              "      <td>leaves 2pm Sun. Need water food batteries bla...</td>\n",
              "      <td>NaN</td>\n",
              "      <td>NaN</td>\n",
              "      <td>NaN</td>\n",
              "      <td>NaN</td>\n",
              "      <td>NaN</td>\n",
              "      <td>NaN</td>\n",
              "      <td>NaN</td>\n",
              "      <td>NaN</td>\n",
              "      <td>NaN</td>\n",
              "    </tr>\n",
              "    <tr>\n",
              "      <th>3629</th>\n",
              "      <td>3\\tRT @TopNoTcH_B1tch: My mom is goin out of t...</td>\n",
              "      <td>NaN</td>\n",
              "      <td>NaN</td>\n",
              "      <td>NaN</td>\n",
              "      <td>NaN</td>\n",
              "      <td>NaN</td>\n",
              "      <td>NaN</td>\n",
              "      <td>NaN</td>\n",
              "      <td>NaN</td>\n",
              "      <td>NaN</td>\n",
              "      <td>NaN</td>\n",
              "    </tr>\n",
              "    <tr>\n",
              "      <th>3630</th>\n",
              "      <td>6\\t\"Volunteers Offer Support to Southern Torna...</td>\n",
              "      <td>water and medical supplies after tor... http:...</td>\n",
              "      <td>NaN</td>\n",
              "      <td>NaN</td>\n",
              "      <td>NaN</td>\n",
              "      <td>NaN</td>\n",
              "      <td>NaN</td>\n",
              "      <td>NaN</td>\n",
              "      <td>NaN</td>\n",
              "      <td>NaN</td>\n",
              "      <td>NaN</td>\n",
              "    </tr>\n",
              "  </tbody>\n",
              "</table>\n",
              "<p>3631 rows × 11 columns</p>\n",
              "</div>"
            ],
            "text/plain": [
              "                                                     0   ...   10\n",
              "0     0\\tRT @uberdogfound: Please RT - Food needed f...  ...  NaN\n",
              "1     1\\tPlease RT - Food needed for shelter in NC i...  ...  NaN\n",
              "2     3\\t‚ô°its raining and tornado warnings....abou...  ...  NaN\n",
              "3     9\\tLmao #damn RT @LuCeCaNNoNn: If I don't get ...  ...  NaN\n",
              "4     10\\tSaved by the tornado warning....I'm just r...  ...  NaN\n",
              "...                                                 ...  ...  ...\n",
              "3626  39\\tThanks to @BarackObama and @SethMeyers21 f...  ...  NaN\n",
              "3627  0\\tStamford-based AmeriCares is preparing to s...  ...  NaN\n",
              "3628  2\\t\"Semi-trailer parked at People's Church Spr...  ...  NaN\n",
              "3629  3\\tRT @TopNoTcH_B1tch: My mom is goin out of t...  ...  NaN\n",
              "3630  6\\t\"Volunteers Offer Support to Southern Torna...  ...  NaN\n",
              "\n",
              "[3631 rows x 11 columns]"
            ]
          },
          "metadata": {
            "tags": []
          },
          "execution_count": 4
        }
      ]
    },
    {
      "cell_type": "code",
      "metadata": {
        "id": "K0CIlkgV-HS5"
      },
      "source": [
        "#Creating new column with combined data \n",
        "df['Text'] = df[df.columns[0:]].apply(\n",
        "    lambda x: ','.join(x.dropna().astype(str)),\n",
        "    axis=1\n",
        ")"
      ],
      "execution_count": 5,
      "outputs": []
    },
    {
      "cell_type": "code",
      "metadata": {
        "colab": {
          "base_uri": "https://localhost:8080/",
          "height": 704
        },
        "id": "kdxefbfz-Jv_",
        "outputId": "b6f090ea-57e0-4e30-9186-a737f5fef7bc"
      },
      "source": [
        "#Displaying Combined data \n",
        "df"
      ],
      "execution_count": 6,
      "outputs": [
        {
          "output_type": "execute_result",
          "data": {
            "text/html": [
              "<div>\n",
              "<style scoped>\n",
              "    .dataframe tbody tr th:only-of-type {\n",
              "        vertical-align: middle;\n",
              "    }\n",
              "\n",
              "    .dataframe tbody tr th {\n",
              "        vertical-align: top;\n",
              "    }\n",
              "\n",
              "    .dataframe thead th {\n",
              "        text-align: right;\n",
              "    }\n",
              "</style>\n",
              "<table border=\"1\" class=\"dataframe\">\n",
              "  <thead>\n",
              "    <tr style=\"text-align: right;\">\n",
              "      <th></th>\n",
              "      <th>0</th>\n",
              "      <th>1</th>\n",
              "      <th>2</th>\n",
              "      <th>3</th>\n",
              "      <th>4</th>\n",
              "      <th>5</th>\n",
              "      <th>6</th>\n",
              "      <th>7</th>\n",
              "      <th>8</th>\n",
              "      <th>9</th>\n",
              "      <th>10</th>\n",
              "      <th>Text</th>\n",
              "    </tr>\n",
              "  </thead>\n",
              "  <tbody>\n",
              "    <tr>\n",
              "      <th>0</th>\n",
              "      <td>0\\tRT @uberdogfound: Please RT - Food needed f...</td>\n",
              "      <td>NaN</td>\n",
              "      <td>NaN</td>\n",
              "      <td>NaN</td>\n",
              "      <td>NaN</td>\n",
              "      <td>NaN</td>\n",
              "      <td>NaN</td>\n",
              "      <td>NaN</td>\n",
              "      <td>NaN</td>\n",
              "      <td>NaN</td>\n",
              "      <td>NaN</td>\n",
              "      <td>0\\tRT @uberdogfound: Please RT - Food needed f...</td>\n",
              "    </tr>\n",
              "    <tr>\n",
              "      <th>1</th>\n",
              "      <td>1\\tPlease RT - Food needed for shelter in NC i...</td>\n",
              "      <td>NaN</td>\n",
              "      <td>NaN</td>\n",
              "      <td>NaN</td>\n",
              "      <td>NaN</td>\n",
              "      <td>NaN</td>\n",
              "      <td>NaN</td>\n",
              "      <td>NaN</td>\n",
              "      <td>NaN</td>\n",
              "      <td>NaN</td>\n",
              "      <td>NaN</td>\n",
              "      <td>1\\tPlease RT - Food needed for shelter in NC i...</td>\n",
              "    </tr>\n",
              "    <tr>\n",
              "      <th>2</th>\n",
              "      <td>3\\t‚ô°its raining and tornado warnings....abou...</td>\n",
              "      <td>NaN</td>\n",
              "      <td>NaN</td>\n",
              "      <td>NaN</td>\n",
              "      <td>NaN</td>\n",
              "      <td>NaN</td>\n",
              "      <td>NaN</td>\n",
              "      <td>NaN</td>\n",
              "      <td>NaN</td>\n",
              "      <td>NaN</td>\n",
              "      <td>NaN</td>\n",
              "      <td>3\\t‚ô°its raining and tornado warnings....abou...</td>\n",
              "    </tr>\n",
              "    <tr>\n",
              "      <th>3</th>\n",
              "      <td>9\\tLmao #damn RT @LuCeCaNNoNn: If I don't get ...</td>\n",
              "      <td>NaN</td>\n",
              "      <td>NaN</td>\n",
              "      <td>NaN</td>\n",
              "      <td>NaN</td>\n",
              "      <td>NaN</td>\n",
              "      <td>NaN</td>\n",
              "      <td>NaN</td>\n",
              "      <td>NaN</td>\n",
              "      <td>NaN</td>\n",
              "      <td>NaN</td>\n",
              "      <td>9\\tLmao #damn RT @LuCeCaNNoNn: If I don't get ...</td>\n",
              "    </tr>\n",
              "    <tr>\n",
              "      <th>4</th>\n",
              "      <td>10\\tSaved by the tornado warning....I'm just r...</td>\n",
              "      <td>NaN</td>\n",
              "      <td>NaN</td>\n",
              "      <td>NaN</td>\n",
              "      <td>NaN</td>\n",
              "      <td>NaN</td>\n",
              "      <td>NaN</td>\n",
              "      <td>NaN</td>\n",
              "      <td>NaN</td>\n",
              "      <td>NaN</td>\n",
              "      <td>NaN</td>\n",
              "      <td>10\\tSaved by the tornado warning....I'm just r...</td>\n",
              "    </tr>\n",
              "    <tr>\n",
              "      <th>...</th>\n",
              "      <td>...</td>\n",
              "      <td>...</td>\n",
              "      <td>...</td>\n",
              "      <td>...</td>\n",
              "      <td>...</td>\n",
              "      <td>...</td>\n",
              "      <td>...</td>\n",
              "      <td>...</td>\n",
              "      <td>...</td>\n",
              "      <td>...</td>\n",
              "      <td>...</td>\n",
              "      <td>...</td>\n",
              "    </tr>\n",
              "    <tr>\n",
              "      <th>3626</th>\n",
              "      <td>39\\tThanks to @BarackObama and @SethMeyers21 f...</td>\n",
              "      <td>NaN</td>\n",
              "      <td>NaN</td>\n",
              "      <td>NaN</td>\n",
              "      <td>NaN</td>\n",
              "      <td>NaN</td>\n",
              "      <td>NaN</td>\n",
              "      <td>NaN</td>\n",
              "      <td>NaN</td>\n",
              "      <td>NaN</td>\n",
              "      <td>NaN</td>\n",
              "      <td>39\\tThanks to @BarackObama and @SethMeyers21 f...</td>\n",
              "    </tr>\n",
              "    <tr>\n",
              "      <th>3627</th>\n",
              "      <td>0\\tStamford-based AmeriCares is preparing to s...</td>\n",
              "      <td>NaN</td>\n",
              "      <td>NaN</td>\n",
              "      <td>NaN</td>\n",
              "      <td>NaN</td>\n",
              "      <td>NaN</td>\n",
              "      <td>NaN</td>\n",
              "      <td>NaN</td>\n",
              "      <td>NaN</td>\n",
              "      <td>NaN</td>\n",
              "      <td>NaN</td>\n",
              "      <td>0\\tStamford-based AmeriCares is preparing to s...</td>\n",
              "    </tr>\n",
              "    <tr>\n",
              "      <th>3628</th>\n",
              "      <td>2\\t\"Semi-trailer parked at People's Church Spr...</td>\n",
              "      <td>leaves 2pm Sun. Need water food batteries bla...</td>\n",
              "      <td>NaN</td>\n",
              "      <td>NaN</td>\n",
              "      <td>NaN</td>\n",
              "      <td>NaN</td>\n",
              "      <td>NaN</td>\n",
              "      <td>NaN</td>\n",
              "      <td>NaN</td>\n",
              "      <td>NaN</td>\n",
              "      <td>NaN</td>\n",
              "      <td>2\\t\"Semi-trailer parked at People's Church Spr...</td>\n",
              "    </tr>\n",
              "    <tr>\n",
              "      <th>3629</th>\n",
              "      <td>3\\tRT @TopNoTcH_B1tch: My mom is goin out of t...</td>\n",
              "      <td>NaN</td>\n",
              "      <td>NaN</td>\n",
              "      <td>NaN</td>\n",
              "      <td>NaN</td>\n",
              "      <td>NaN</td>\n",
              "      <td>NaN</td>\n",
              "      <td>NaN</td>\n",
              "      <td>NaN</td>\n",
              "      <td>NaN</td>\n",
              "      <td>NaN</td>\n",
              "      <td>3\\tRT @TopNoTcH_B1tch: My mom is goin out of t...</td>\n",
              "    </tr>\n",
              "    <tr>\n",
              "      <th>3630</th>\n",
              "      <td>6\\t\"Volunteers Offer Support to Southern Torna...</td>\n",
              "      <td>water and medical supplies after tor... http:...</td>\n",
              "      <td>NaN</td>\n",
              "      <td>NaN</td>\n",
              "      <td>NaN</td>\n",
              "      <td>NaN</td>\n",
              "      <td>NaN</td>\n",
              "      <td>NaN</td>\n",
              "      <td>NaN</td>\n",
              "      <td>NaN</td>\n",
              "      <td>NaN</td>\n",
              "      <td>6\\t\"Volunteers Offer Support to Southern Torna...</td>\n",
              "    </tr>\n",
              "  </tbody>\n",
              "</table>\n",
              "<p>3631 rows × 12 columns</p>\n",
              "</div>"
            ],
            "text/plain": [
              "                                                      0  ...                                               Text\n",
              "0     0\\tRT @uberdogfound: Please RT - Food needed f...  ...  0\\tRT @uberdogfound: Please RT - Food needed f...\n",
              "1     1\\tPlease RT - Food needed for shelter in NC i...  ...  1\\tPlease RT - Food needed for shelter in NC i...\n",
              "2     3\\t‚ô°its raining and tornado warnings....abou...  ...  3\\t‚ô°its raining and tornado warnings....abou...\n",
              "3     9\\tLmao #damn RT @LuCeCaNNoNn: If I don't get ...  ...  9\\tLmao #damn RT @LuCeCaNNoNn: If I don't get ...\n",
              "4     10\\tSaved by the tornado warning....I'm just r...  ...  10\\tSaved by the tornado warning....I'm just r...\n",
              "...                                                 ...  ...                                                ...\n",
              "3626  39\\tThanks to @BarackObama and @SethMeyers21 f...  ...  39\\tThanks to @BarackObama and @SethMeyers21 f...\n",
              "3627  0\\tStamford-based AmeriCares is preparing to s...  ...  0\\tStamford-based AmeriCares is preparing to s...\n",
              "3628  2\\t\"Semi-trailer parked at People's Church Spr...  ...  2\\t\"Semi-trailer parked at People's Church Spr...\n",
              "3629  3\\tRT @TopNoTcH_B1tch: My mom is goin out of t...  ...  3\\tRT @TopNoTcH_B1tch: My mom is goin out of t...\n",
              "3630  6\\t\"Volunteers Offer Support to Southern Torna...  ...  6\\t\"Volunteers Offer Support to Southern Torna...\n",
              "\n",
              "[3631 rows x 12 columns]"
            ]
          },
          "metadata": {
            "tags": []
          },
          "execution_count": 6
        }
      ]
    },
    {
      "cell_type": "markdown",
      "metadata": {
        "id": "8Ae6UiuEQNP3"
      },
      "source": [
        "**1. Using the textblob package in python, calculate a polarity value for each tweet (10 points)**"
      ]
    },
    {
      "cell_type": "code",
      "metadata": {
        "id": "wc9OA8RD-Kot"
      },
      "source": [
        "sentiment_ob = [TextBlob(text) for text in df['Text']]"
      ],
      "execution_count": 7,
      "outputs": []
    },
    {
      "cell_type": "code",
      "metadata": {
        "id": "ldA4V9dS-OuV",
        "colab": {
          "base_uri": "https://localhost:8080/"
        },
        "outputId": "c98d9d5c-b72d-4e0a-ea94-0de28774a437"
      },
      "source": [
        "polarity = [sen.sentiment.polarity for sen in sentiment_ob]\n",
        "print(polarity)"
      ],
      "execution_count": 8,
      "outputs": [
        {
          "output_type": "stream",
          "text": [
            "[-0.2916666666666667, -0.36458333333333337, -0.1, 0.6, 0.44999999999999996, 0.16666666666666666, -0.5, -0.4, 0.2, 0.0, 0.0, 0.6, -0.15833333333333333, 0.625, -0.1375, 0.2125, 0.14166666666666666, -0.1, 0.25, -0.152587890625, -0.125, -0.125, 0.2, 0.625, 0.125, 0.4, 0.2, 0.3666666666666667, 0.6000000000000001, 0.2, -0.25, 0.38125, -0.125, -0.07500000000000001, -0.07500000000000001, 0.08333333333333333, -0.1, 0.2, 0.05000000000000002, 0.5, -0.5833333333333334, -0.05, 0.75, -0.30185185185185187, 0.8, -0.625, 1.0, 0.5, 0.25, 1.0, -0.25, 0.2869318181818182, 0.4, -0.25, -0.4, 0.1787878787878788, -0.1125, 0.5, 0.34285714285714286, 0.5083333333333333, -0.4, -0.5, -0.025000000000000022, 0.4, 0.0, 0.04999999999999999, 0.6825, 0.2, 0.375, -0.2, 0.5, 0.56875, 0.56875, 0.2869318181818182, 1.0, 1.0, 0.16818181818181818, 0.13636363636363635, 0.7, 0.13636363636363635, 0.4, 0.1, 0.13636363636363635, 0.13636363636363635, 0.25757575757575757, 0.1, 0.5, -0.1, -0.026767676767676756, 0.23333333333333336, 0.5, 0.10833333333333334, 0.04999999999999999, 0.2375, 1.0, 0.13636363636363635, 0.13636363636363635, 0.2, 1.0, 0.1, 0.78125, 0.5, 0.13636363636363635, 0.1875, 0.6, 0.390625, 0.390625, -0.037500000000000006, -0.0625, 0.875, 0.4666666666666666, 0.5, -0.4, -0.5, 0.5, 0.9, 0.8, -0.3, 0.05, -0.1875, -0.8, -0.625, 0.5, -0.4375, -0.21435185185185188, 0.6302083333333333, 0.5503472222222222, 0.475, 0.1953125, 0.016666666666666663, -0.1, 0.4464285714285714, -0.625, 0.0, 0.25, 0.640625, -0.375, 0.08249999999999999, 0.8, 0.2, 0.8, 0.8, 0.07500000000000001, 0.5, 0.4, 0.35, 0.45, 0.25, -0.3, -0.14444444444444446, 0.017142857142857137, -0.35833333333333334, -0.2, 0.4, 0.5, -0.07499999999999998, 0.65, 0.025, 0.36190476190476195, 0.3964285714285714, 0.5, 0.5, -0.75, -0.325, -0.4, 0.16444805194805195, 0.3125, 0.2, -0.4375, -0.3, 0.05, 0.34375, -0.05833333333333333, 0.625, 0.875, 0.02857142857142862, 0.625, 0.3666666666666667, -0.11071428571428571, 0.35, -0.45625, -0.5999999999999999, 0.03333333333333333, 0.25, -0.125, 0.8, 0.0, -0.15555555555555559, 0.30922619047619043, -0.15555555555555559, 0.8, 0.23333333333333336, 0.16, 0.4, -0.2916666666666667, 0.8, 0.3666666666666667, 0.3351851851851852, 0.4513888888888889, 0.022222222222222216, -0.056249999999999994, -0.2, 0.6, 0.375, -0.11666666666666665, 0.16, 0.13333333333333333, -0.6, -0.78125, -0.8, 0.8, 0.640625, 0.5, 0.29765625, 0.4, 0.875, 0.7, 0.32499999999999996, 0.86875, -0.75, 0.9, 0.0, 0.4, -0.025, 0.3, 0.35714285714285715, 0.2130681818181818, 0.2857142857142857, -0.3125, 0.25, -0.125, -0.125, 0.25, 0.1875, 0.78125, -0.75, 0.4000000000000001, 0.8, 0.5625, 0.25, 0.39285714285714285, 0.3666666666666667, -1.0, 0.4000000000000001, -0.15555555555555559, 0.1, 0.6250000000000001, 0.4, 0.5, 0.3666666666666667, -0.05, -0.03465909090909091, 0.35, 0.8, 0.25, 0.025, 0.5, 0.625, 0.625, 0.14375, 0.3, 0.5, 0.7, 0.041666666666666664, 0.35714285714285715, -0.09375, 0.55, 0.1, -0.2, 0.35714285714285715, 0.7, 0.4, -0.125, 0.15833333333333333, 0.30000000000000004, 0.5, 0.25, 0.2, 1.0, -0.2, 0.0666666666666667, 0.9, 0.5, 0.6499999999999999, -0.09583333333333333, 0.3416666666666666, -0.10833333333333334, 0.5, 0.30208333333333337, -0.2, 0.13500000000000006, -0.35, 0.34285714285714286, -0.19999999999999996, 0.0, 0.3666666666666667, 0.025, -0.244140625, 0.0625, -0.625, 0.78125, 0.2857142857142857, 0.03333333333333336, 0.8, -0.14074074074074075, -0.25, 0.033333333333333326, 0.5, 0.25, 0.3125, 0.4, 0.762939453125, -0.03809523809523809, 0.25, 0.06944444444444442, 0.2, -0.22916666666666666, 0.4, -0.13111111111111112, 1.0, 0.4, 0.4, 0.8, -0.6, 0.8, -0.2, 0.16666666666666666, -0.4527777777777778, -0.2, 0.06666666666666668, 0.25, 0.7333333333333334, 0.36190476190476195, -0.125, 0.07500000000000001, 0.46666666666666673, -0.35000000000000003, -0.4, 0.8, -0.1875, 0.78125, -0.1, 0.125, 0.1, 0.2, 0.3, 0.6, 0.6, -0.25, -0.75, 0.9, -0.225, 0.3, 0.25, 0.3125, 0.25, 0.16666666666666666, -0.2, -0.19444444444444448, 0.8, 0.5, 0.5, -0.15555555555555559, 0.25, 0.6, 0.4, 0.8, 1.0, -0.2, -0.2, -0.07777777777777779, 0.5, -0.30000000000000004, 0.3, 0.4, 0.4, 0.04999999999999999, 0.04999999999999999, 0.45, -0.07500000000000001, 1.0, -0.07500000000000001, 0.5, 0.6, 0.3, 0.13636363636363635, 0.6, 0.3, 0.43333333333333335, 0.8, 0.5, 1.0, 0.45, 0.43333333333333335, 0.8, 0.5, -0.25, 0.43333333333333335, -0.1875, 0.4, 0.43333333333333335, 1.0, 0.10648148148148147, 1.0, 0.30625, 0.45, 0.1, 0.125, 0.3666666666666667, -0.5, 0.48, 0.5, 0.6666666666666666, 0.5, -1.0, 0.6666666666666666, 0.45, 0.2, 0.5, 0.5, 0.2, 0.2, -0.13, -0.15555555555555559, 0.10833333333333334, -0.3333333333333333, 0.10000000000000003, 0.7, 0.45, 0.78125, 0.4, -0.4, 1.0, 0.2, 0.25, 0.25, 0.1, 0.8, -0.32, 0.1, -0.1, 0.4, 0.4, 0.1, 0.1, 0.525, 0.1, 0.1, 0.1, 0.1, 0.1, 0.1, 0.1, 0.1, 0.4, -0.175, -0.175, 0.4, -0.175, -0.3, 0.1, 0.15000000000000002, 0.1, 0.2333333333333333, -0.4, 0.3125, -0.4, -1.0, -0.4, 0.4, -0.21666666666666667, 0.25, -0.14479166666666668, 0.1, 0.5, 0.25, 0.5729166666666667, 0.7, -0.08333333333333333, 0.7666666666666666, 0.2, 0.8, 0.2, 0.11818181818181818, 0.11818181818181818, 0.11818181818181818, -1.0, 0.2, 0.1, 0.4, -0.2, 0.6666666666666666, 0.4, 0.1375, -0.1953125, 0.45, 0.08333333333333333, 0.4, 0.2, 0.4, -0.0625, 0.13636363636363635, 0.3, 0.4, 0.4, 0.2857142857142857, 0.5, 0.25, 0.3181818181818182, 0.25, -0.75, 0.04583333333333332, 0.5633333333333334, 0.52, 0.4333333333333333, 0.07878787878787878, 0.09015151515151515, 0.08333333333333334, 0.65, 0.875, 0.1, 0.3, 0.31785714285714284, -0.053571428571428575, 0.07465277777777779, 0.35, 1.0, -0.1953125, 0.0625, 0.30000000000000004, 0.4333333333333333, 1.0, -0.125, 0.5, 0.4333333333333333, 0.2857142857142857, 0.3, 0.0625, 0.0625, 0.1, 0.1, 0.15625, 0.15625, 0.5, 0.5, 0.390625, -0.08333333333333333, -0.5, 0.4666666666666667, 0.4666666666666667, 0.13522727272727272, 0.125, 0.12552083333333333, 0.2619047619047619, 0.125, -0.03333333333333333, -0.03333333333333333, -0.4, 0.13636363636363635, 0.4333333333333333, 0.4, -0.1, 0.3181818181818182, 0.3333333333333333, 0.5625, 0.4333333333333333, 0.4333333333333333, 0.3571428571428571, 0.17045454545454544, 0.17045454545454544, 0.20833333333333334, 0.4333333333333333, 0.4333333333333333, 0.05, 0.05, 0.3, 0.75, 0.05, 0.75, -0.9375, 0.18714285714285714, 0.18714285714285714, 0.4333333333333333, 0.13636363636363635, -0.11789143880208335, -0.3333333333333333, -0.46875, 0.3125, -0.05833333333333333, 0.15, 0.1, 0.16666666666666666, 1.0, 0.15079365079365079, 0.5, 0.16666666666666666, 0.16666666666666666, 0.1, 0.0, 0.375, 1.0, 0.5, 0.2, -0.125, -0.04999999999999999, 0.4333333333333333, 0.4333333333333333, 0.3181818181818182, 0.05, 0.05, 0.5, 0.4333333333333333, 0.4333333333333333, 0.35, 0.25, -0.024999999999999994, 0.25, 0.2, 0.4, 0.5, 0.35, -0.2, 0.5, -0.1, 0.7, -0.25, -0.25, 0.1, -1.0, 0.0, 0.0, -0.041666666666666664, -0.041666666666666664, -1.0, 0.0, 0.0, -1.0, 0.0, -1.0, -1.0, -1.0, 0.0, -1.0, 0.0, 0.8, -1.0, 0.0, 0.0, -0.011111111111111117, 0.16666666666666666, -0.18333333333333343, 0.14285714285714285, 0.06041666666666664, -0.25, -0.15277777777777776, 0.5, 0.25, 0.5, 0.8, -0.005, 0.3333333333333333, 0.07500000000000001, 0.35, 0.5, 0.125, 0.7, 0.07500000000000001, -0.07500000000000001, 0.39285714285714285, 0.5, 0.25, -0.1875, -0.5, 0.25, 0.24545454545454545, 0.5, 0.4, 0.125, -0.15555555555555559, 0.25, 0.35, 0.45, -0.75, 0.25, 1.0, 0.234375, 0.014814814814814836, -0.39, -0.125, -0.3333333333333333, 0.15625, -0.08181818181818182, -0.08181818181818182, 0.125, 0.2, 0.20238095238095236, 0.2, -0.15625, 0.08, -1.0, 0.5, 0.25, 0.05909090909090909, -0.35, 0.05909090909090909, -0.3333333333333333, 0.23611111111111113, -0.35000000000000003, 0.8, 0.25, -0.5, 0.21428571428571427, 0.09765625, 0.4333333333333333, 0.35, -0.018518518518518528, -0.07777777777777779, 0.5, 0.5428571428571429, -0.2, -0.09999999999999992, -0.375, 0.1625, 0.6, 0.4333333333333333, 0.4333333333333333, -0.3, 0.5633333333333334, 0.2857142857142857, 0.2857142857142857, 0.35, 0.7, 0.4333333333333333, 0.4333333333333333, -0.19375, 0.10000000000000002, 0.2, 0.26666666666666666, 0.5833333333333334, -0.06666666666666667, -0.4, 0.4333333333333333, 0.4333333333333333, 0.2, 0.4333333333333333, -0.13333333333333333, 0.3333333333333333, 0.2, 0.5533333333333333, 0.1, 0.22142857142857142, -0.025, 0.1, 0.5, 0.2333333333333333, 0.5, 0.03125, 0.10000000000000002, 0.25, 0.15, 0.2857142857142857, -0.5, 0.1953125, 0.1953125, 0.2, -0.15234375, 0.1953125, 0.1953125, 0.15625, 0.1953125, 0.1953125, 0.1953125, 0.7, 0.11666666666666665, 0.11666666666666665, 0.4333333333333333, 0.1, 0.4333333333333333, 0.4333333333333333, 0.1, 0.25, 1.0, 0.3125, 0.3, 0.0625, -0.2936507936507936, 0.2013888888888889, -0.09999999999999992, -0.3333333333333333, 0.25, 0.04999999999999999, -0.07500000000000001, 1.0, -0.5, -0.020000000000000004, 0.5, 0.3, 0.3, 0.7, -0.5, 0.4333333333333333, 0.1, 0.1, 0.2857142857142857, 0.1, 0.1, 0.7, 0.4333333333333333, 0.25, 0.25, 0.4166666666666667, 0.4333333333333333, 0.1565340909090909, 0.13636363636363635, 0.21428571428571427, 0.17102272727272727, 0.8000000000000002, 0.5, -0.2, 0.1, 0.8, 0.6975446428571428, 0.06818181818181818, 0.13636363636363635, 0.5, 0.2, 0.6, 0.4033333333333333, 0.4333333333333333, 1.0, 0.30833333333333335, 0.20833333333333334, -0.125, 0.4333333333333333, 0.2, 0.5, 0.5, 0.65, -0.175, 0.4, 0.4, 0.4, 0.05, 0.05, 0.05, 0.02857142857142862, 0.10972222222222221, 0.3181818181818182, 0.3181818181818182, 0.05, 0.4000000000000001, -0.75, 0.24642857142857144, -0.1, -0.4019097222222222, 0.04545454545454545, 0.04545454545454545, 0.05, 0.3261904761904762, -0.09999999999999999, -0.17152777777777778, 0.06666666666666667, 0.2857142857142857, -0.3038194444444445, 0.1, 0.5, 0.4375, 0.25, 0.125, 0.08035714285714285, -0.12142857142857144, 0.14285714285714285, 0.1, 0.5, -0.1, -0.1, -0.1875, 0.5625, 0.4166666666666667, 0.05, 0.08333333333333333, 0.2625, 0.7333333333333333, 0.25, 0.22045454545454546, 0.2625, 0.2625, 0.525, 0.5, 0.5, 0.4, 0.08750000000000002, 0.3181818181818182, 0.5, 0.61875, 0.14285714285714285, 0.4333333333333333, -0.2, -0.125, 0.4333333333333333, 0.4333333333333333, 0.4333333333333333, 0.11111111111111112, 0.3, 0.5, 0.3666666666666667, 0.5, 0.2333333333333333, 0.5, 0.3125, -0.125, 0.6770833333333333, -0.10416666666666667, 0.037500000000000006, 0.1, 0.4333333333333333, 0.037500000000000006, 0.22916666666666666, -0.025, 0.2857142857142857, -1.0, 0.3177083333333333, 0.225, 0.15, -0.390625, -0.009595959595959616, 0.08564814814814814, 0.08564814814814814, -0.20312499999999992, -0.10416666666666667, -0.10416666666666667, -0.1880952380952381, 0.3125, -0.3125, 0.013392857142857137, -0.1875, 0.5, 1.0, 0.05, -0.04523809523809522, -0.1875, -0.1875, -0.1875, -0.59375, 0.4375, -0.09375, -0.1875, -0.1875, 0.2916666666666667, -0.10416666666666667, 0.125, -0.1875, 0.3, -0.1875, -0.1875, -0.1875, -0.15, 0.4333333333333333, -0.125, -0.1875, 0.04910714285714285, 0.21875, -0.1875, 0.21428571428571427, 0.4333333333333333, -0.16422526041666666, -0.09375, -0.09375, -0.09375, -0.234375, -0.4166666666666667, 0.2857142857142857, 0.2857142857142857, 0.359375, 0.4, -0.3, 0.1, -0.018333333333333313, 0.016666666666666666, 0.078125, 0.625, 0.5, -0.10000000000000002, 0.20535714285714285, 0.5, 0.5, 0.1481818181818182, 0.3, 0.07857142857142856, 0.2, 0.30000000000000004, -0.16999999999999998, 0.5, 0.15, -0.125, -0.3, 0.19583333333333336, 0.5, 0.35, 0.18333333333333335, 0.25, -0.07777777777777779, 0.8, 0.16, 0.1, 0.15, -0.9765625, 0.2, -0.295, 0.12277777777777776, 0.1986111111111111, 0.35, 0.33, -0.0625, 0.25, 0.625, -0.5, -0.125, 0.25, 0.2, 0.15, 0.0625, 0.4, 0.625, -0.75, 0.5, 0.25, 0.5, -0.006249999999999999, -0.08333333333333333, 0.26666666666666666, 0.5, 0.175, 0.2, 0.6, 0.2, 0.22142857142857142, 0.22142857142857142, 0.0, 0.0, 1.0, 0.2791666666666667, -0.2, 0.30000000000000004, -0.05, 0.05833333333333333, 0.8, 0.024999999999999994, 0.4, 0.5208333333333333, 0.5, 0.4333333333333333, 0.3571428571428571, 0.8, 0.2, 0.5, 0.78125, 0.036250000000000004, 0.1, 0.17045454545454544, 0.4333333333333333, 0.25, 0.1, 0.65, 0.9765625, 0.5, -1.0, -0.6999999999999998, -0.13333333333333333, 0.7, -0.78125, 0.5, 0.20833333333333331, 0.40625, -0.6999999999999998, 0.125, 0.3125, 0.19999999999999998, -0.25, 0.39, -0.5, 0.5, -0.175, -0.4, 0.5078125, -0.2, -0.05, -0.2, 0.05, 0.31666666666666665, 0.3571428571428571, -0.2, -0.2, -0.15555555555555559, -0.175, -0.125, 0.3333333333333333, 0.44999999999999996, -0.125, -0.5, 0.65, 0.4333333333333333, 0.2, 0.4333333333333333, 0.27976190476190477, 0.11249999999999999, 0.16964285714285715, 0.3125, 0.16964285714285715, 0.20000000000000004, 0.16964285714285715, 0.16964285714285715, 0.4, 0.0, 0.4, -0.15, 1.0, -0.06875, 1.0, 0.4, 0.4, 0.20000000000000004, -0.3333333333333333, 0.8, -0.6999999999999998, -0.07777777777777779, -0.1875, -0.07037037037037039, 0.5, -0.25, 0.5, 0.13333333333333333, 0.03125, 0.25, 0.25, 0.25, 0.21212121212121213, -0.125, -0.25, 1.0, 1.0, 0.1, -0.625, -0.15555555555555559, 0.2, 0.06190476190476191, 0.6, 0.6, 0.25625, 0.78125, 0.2857142857142857, 0.8, 0.4041666666666667, 0.13636363636363635, 0.15, -0.125, -0.125, 0.13636363636363635, 0.5, -0.625, 0.6, 0.55, 0.5, 0.6, 0.1, 0.5, -0.6, -0.02777777777777779, 0.15625, 0.15625, -0.20833333333333334, 0.425, 0.125, 0.125, 0.06507936507936506, 0.15, 0.2041666666666667, 0.22083333333333333, -0.0625, -0.052083333333333336, 1.0, 1.0, 0.4333333333333333, -0.625, -0.23076923076923078, 0.16666666666666666, 0.4, 0.4, -0.5, 0.3125, 0.25, 0.2, 0.5, 0.13636363636363635, -0.16666666666666666, 0.5, 0.2, 0.2, 0.25, 0.2, 0.2857142857142857, 0.13636363636363635, 0.5, 1.0, 0.15340909090909088, 0.3181818181818182, 0.4333333333333333, 0.640625, 0.4333333333333333, 0.04999999999999999, 0.1, -0.4, 0.1, 0.3, 0.5, 0.3125, -0.0212121212121212, -0.75, -0.1125, 0.8375, 0.2482142857142857, 0.40234375, -0.1, 0.7500000000000001, -0.125, -0.3333333333333333, 0.25, -0.6999999999999998, 0.2857142857142857, -0.5166666666666666, 0.4787878787878788, -0.26666666666666655, -0.4, 0.5, 0.13, 0.125, 0.2857142857142857, 0.2857142857142857, 0.17045454545454544, 0.17045454545454544, -0.20833333333333334, 0.25, 0.06818181818181818, 0.2, 0.2, -0.007142857142857173, 0.5, -0.05833333333333333, 0.25, -0.41666666666666663, 0.4125, -0.15555555555555559, 0.625, 0.14285714285714285, 0.3, 0.5, -0.6, 0.05833333333333333, 0.5, -0.05833333333333333, -0.2318181818181818, 0.1, 0.1, 0.14722222222222223, 0.1, -0.1875, 0.25, 0.4583333333333333, 0.8, 0.8, 0.5, 1.0, 0.4, 0.4, 1.0, 0.1, 0.19523809523809524, 0.125, 0.4, -0.029166666666666674, 0.4464285714285714, -0.2318181818181818, 0.13636363636363635, 0.5, 0.3121212121212121, 0.55, -0.025, 0.0625, -0.15, 0.25, -0.2, 0.05000000000000001, -0.375, 0.07142857142857142, -0.13333333333333333, 0.45, 0.5, 0.5, -1.0, -0.32552083333333326, 0.5, -0.15555555555555559, -0.3333333333333333, 1.0, 0.4333333333333333, 0.5, -0.35, 0.05, 0.5, 0.1952380952380952, 0.05, -0.3333333333333333, 0.4, 0.12, 0.0953125, 0.2, -0.45, 0.1, 0.09999999999999998, -0.3333333333333333, 0.3125, 0.5, 0.4375, 0.3380952380952381, 0.3666666666666667, -0.1, -0.1, -0.16666666666666666, -0.45, -0.16666666666666666, 0.5, -0.15625, 0.42857142857142855, 0.24107142857142855, 0.018019480519480508, 0.8, 0.21212121212121213, 0.24107142857142855, -0.12857142857142856, 0.24107142857142855, 0.1, -0.07777777777777779, 0.24107142857142855, 0.16666666666666666, 0.24107142857142855, 0.5416666666666666, 0.24107142857142855, 0.1, 0.17222222222222222, 0.5, 0.1, -0.25, -0.4, 0.625, 0.625, 0.625, 0.13636363636363635, 0.625, 0.25, -0.11666666666666665, 0.5416666666666666, 0.24107142857142855, 0.24107142857142855, 0.25, 0.24107142857142855, 0.23333333333333336, 0.5416666666666666, 0.24545454545454545, 0.05, -0.125, 0.05, -0.125, 0.25, 0.7, -0.05, 0.41666666666666663, -0.6999999999999998, 0.125, 0.125, 0.125, 0.125, 0.125, 0.9765625, 0.14285714285714285, 0.4000000000000001, 0.125, 0.125, 0.125, 0.125, 0.3571428571428571, 0.125, 0.20000000000000004, 0.125, 0.3625, 0.125, 0.125, 0.125, 0.375, 0.125, 0.125, -0.175, 0.125, 0.125, 0.14285714285714285, 0.41614879261363635, 0.1, -0.8749999999999998, 0.0625, 0.35, -0.056249999999999994, -0.13181818181818183, 0.04722222222222221, -1.0, -0.25, 0.41666666666666663, 0.41666666666666663, 0.13636363636363635, 0.22125, -0.19444444444444448, -0.030208333333333323, 0.5, 0.1, -0.5, -0.23333333333333328, 0.625, 0.2222222222222222, 0.2222222222222222, 0.2, -0.3625, 0.25, -0.625, -0.3, -0.125, 0.16, 0.5, 0.16, -1.0, 0.16666666666666666, 0.5, 0.3, 0.0, 0.5, 0.08333333333333333, 0.05, 0.16666666666666666, 0.5, 0.5, 0.2222222222222222, 0.390625, 0.05, 0.5, 0.05, 0.1, 0.2222222222222222, 0.08333333333333333, 0.5, 0.8, 0.16666666666666666, 0.35, 0.16666666666666666, 0.16666666666666666, 0.5, 0.1, 0.16666666666666666, 0.5, 0.16666666666666666, 0.08333333333333333, 0.35, 0.16666666666666666, 0.2222222222222222, 0.16666666666666666, 0.16666666666666666, 0.08333333333333333, -0.4, 0.16818181818181818, -0.06666666666666667, 0.875, 0.08928571428571429, -0.625, 0.5, 0.22916666666666666, 0.1, 0.12500000000000003, -0.4, -0.05, -0.05, 0.3666666666666667, 0.4333333333333333, -0.25, 0.08928571428571429, 0.5, 0.875, 0.6208333333333333, -0.2, 0.15753968253968254, -0.5, 0.5, -0.2, 0.4333333333333333, 0.3625, 0.06666666666666667, 0.3625, 0.3625, -0.0851851851851852, -0.2, 0.5, 0.17045454545454544, 0.06666666666666667, 0.3571428571428571, 0.3, -0.2, -0.2, 0.06666666666666667, 0.2125, -0.03125, -0.2, -1.0, 0.325, -0.25, -0.8, -0.17500000000000004, 0.5, -0.0035714285714285865, 0.05, 0.35, -0.14999999999999994, 0.21666666666666665, 0.05, 0.06666666666666667, -0.5, 0.04999999999999999, -0.6500000000000001, -0.2, 0.7, 0.05000000000000001, 0.4, -0.1, -0.45, 0.5, 0.16818181818181818, 0.5, 0.23316761363636362, 0.5175, 0.18522727272727274, 0.0625, 0.14285714285714285, 1.0, 0.7, 0.5, 0.5, -0.2, -0.078125, -0.25, 0.5, 0.25, 0.0, 0.21666666666666665, 0.6, 0.1715277777777778, 0.0, 0.0625, 0.390625, 0.5, 0.6, 0.05, 0.0625, -0.04375, -0.2, 0.5625, -0.25, 0.5619047619047618, 0.13636363636363635, 0.0, 0.13636363636363635, -0.2, 0.35, 0.25, -0.125, -0.25, 0.30000000000000004, 0.17045454545454544, -0.25, -0.9750000000000001, 0.8, 0.17045454545454544, 0.4287878787878787, 0.21666666666666665, -0.9750000000000001, 0.02272727272727272, 0.2, -1.0, 0.5, 0.21666666666666665, -0.4, 0.13636363636363635, 0.2947916666666667, 0.21666666666666665, 0.2947916666666667, -0.09722222222222224, -0.475, 0.19652777777777777, 0.4000000000000001, 0.05, -0.13333333333333333, 0.2947916666666667, 0.0, 0.2947916666666667, 0.2857142857142857, -0.2, 0.4602380952380952, 0.2947916666666667, 0.46328125, -0.3125, 0.06349206349206347, 0.2947916666666667, 0.3839285714285714, 0.2947916666666667, 0.2947916666666667, -1.0, -1.0, -1.0, 0.2, 0.17532467532467533, 0.625, 0.4, 0.3125, 0.26785714285714285, -0.21875, 0.45, 0.08333333333333334, -0.3125, 0.14630681818181818, 0.4185267857142857, 0.19237012987012986, 0.2333333333333333, 0.2359307359307359, 0.43125, 0.07878787878787878, 0.25000000000000006, 0.0, 0.14285714285714285, 0.2359307359307359, 0.625, -0.8, -0.8, 0.5, -0.16666666666666657, 0.15714285714285714, 0.875, 0.03809523809523809, 0.5416666666666666, -1.0, 0.5, -0.8, 1.0, -0.8, 0.33291903409090906, 0.8, 0.5, 0.625, 0.125, 0.25, 0.8, 0.9166666666666666, -1.0, 0.9166666666666666, -0.8, 0.5, -1.0, -0.19523809523809524, -0.8, -0.8, -0.8, 1.0, -0.8, -0.8, -0.09999999999999992, -0.8, -0.8, -0.8, -0.8, -0.08750000000000002, 0.3181818181818182, -0.8, -0.3333333333333333, -0.5, 0.4000000000000001, 0.0625, -0.8, -1.0, -0.8, 0.75, -0.8, 1.0, -1.0, -0.2, -0.8, -0.8, 0.0, -0.4583333333333333, 0.2130681818181818, -0.8, -1.0, -0.8, -0.8, 0.13636363636363635, -0.8, -0.8, -0.8, -0.36160714285714285, -0.8, -0.125, -0.31428571428571433, -0.75, 0.13, 1.0, 0.4, 0.2130681818181818, 0.125, 0.2130681818181818, 0.78125, -1.0, -1.0, 0.6, 0.17532467532467533, -1.0, -1.0, 0.26785714285714285, -1.0, 0.9765625, 0.78125, 0.2, 0.5921875000000001, -1.0, 0.24166666666666667, -0.08888888888888889, -0.25, 0.6000000000000001, -0.65, -1.0, 0.13636363636363635, 0.625, 0.26785714285714285, -1.0, -0.06565656565656565, -0.375, -0.8, -1.0, -1.0, -1.0, 0.2, -0.19999999999999993, -0.25, 0.25, -1.0, -1.0, 0.5, 0.0, -1.0, -1.0, -1.0, -0.4, -1.0, -0.0351851851851852, -1.0, -0.5, -0.45, 0.1, 0.0, 0.0, -0.2, 0.2857142857142857, 0.0, -1.0, -1.0, 0.22499999999999998, -0.475, -1.0, -0.475, -1.0, -1.0, -1.0, -1.0, -0.875, -1.0, -1.0, -1.0, 0.6, -0.25, -1.0, -1.0, -0.578125, -1.0, 0.13636363636363635, -1.0, 0.2857142857142857, -1.0, -0.18749999999999994, -1.0, 0.1375, 0.03333333333333333, -1.0, -0.75, -0.6999999999999998, -1.0, -1.0, -1.0, -1.0, 0.4583333333333333, -1.0, -1.0, 0.35, -1.0, -1.0, -0.25, 0.1375, 0.1375, -1.0, 0.33482142857142855, -1.0, 0.1375, -0.4791666666666667, -0.8499999999999999, -1.0, -1.0, 0.1375, -1.0, -1.0, 0.3571428571428571, 0.2857142857142857, 0.17532467532467533, 0.2857142857142857, 0.13809523809523808, 0.2857142857142857, 0.34285714285714286, 0.17532467532467533, 0.875, 0.2857142857142857, 0.15714285714285714, 0.6000000000000001, 0.2333333333333333, 0.39285714285714285, 0.2857142857142857, -0.033333333333333326, 0.2857142857142857, 0.8, 0.17045454545454544, 0.0625, 0.3333333333333333, 0.1875, -0.4747178819444445, -1.0, 0.10000000000000002, -0.14999999999999997, 0.1, -0.0875, -0.4747178819444445, -0.75, -0.25, -0.05, 0.17045454545454544, 0.8, 0.10714285714285714, -0.25, 0.10714285714285714, -0.30000000000000004, 0.17045454545454544, 0.10714285714285714, -0.8928571428571429, 0.10714285714285714, -0.15, -0.16666666666666666, 0.2130681818181818, 0.5, 0.6, 0.625, 0.340625, 0.0, -0.43333333333333335, -1.0, 0.2921875, -0.1, 0.0, 0.7, -0.15555555555555559, 0.2, 0.0, 0.9765625, -0.05, -0.2, 0.4375, -0.05833333333333333, 0.20000000000000004, -0.19999999999999998, 0.7, 0.5, -0.8, 0.75, 1.0, -0.1, -0.1, 0.875, 0.1, 0.5, 0.6, 0.6, 0.6, 0.16964285714285715, 0.2, -0.5, 0.5, 0.3571428571428571, 0.04999999999999999, 0.2, 0.2, -0.1, -0.1, 0.4464285714285714, 0.5, 0.2416666666666667, 0.125, 0.25, 0.5, 0.05, 0.17045454545454544, 0.05, 0.244140625, 0.05, 0.13068181818181818, 0.6250000000000001, 0.19642857142857142, 0.07500000000000001, -0.2, 0.15625, 0.46875, -0.18042328042328046, 0.3666666666666667, 0.08333333333333333, 0.5, 0.21428571428571427, 0.5, 0.5, 0.20479910714285715, 0.5, -0.15, 0.35, 0.025, 0.5000000000000001, 0.5, 0.5, 0.16666666666666666, -0.2, 0.2, 0.9765625, 0.5416666666666666, 0.4, 0.5, 0.11818181818181818, 0.5416666666666666, -0.024999999999999994, 0.3, 0.05, 0.7, 0.17222222222222222, 0.4333333333333333, 0.4333333333333333, 0.4, -0.08333333333333333, 0.0333333333333334, 0.5, 0.15000000000000002, 0.25, -0.125, 0.5, -1.0, 0.2, 0.3571428571428571, -0.2, 1.0, 0.25, -0.5, 0.2, 0.43333333333333335, 0.625, -0.25, -0.25, -0.09999999999999998, -0.15625, 0.5, 0.043981481481481476, -0.30000000000000004, 0.45, 0.5, 0.5, 0.2, 0.05, 0.5, 0.2, 0.1, 0.3125, 0.1, -0.5, -0.8749999999999998, 0.5, 0.0, 0.25, 0.12499999999999999, -0.375, 0.8, 0.3371212121212121, 0.26666666666666666, 0.25, 0.4333333333333333, 0.2, 0.17222222222222222, 0.575, 1.0, 0.5, 0.4333333333333333, 0.875, 0.01875, 0.3333333333333333, -0.07777777777777779, -0.05, 6.938893903907228e-18, -0.2916666666666667, 0.13333333333333333, 0.5, -0.1, 0.5, 0.5, 0.24583333333333335, 0.4166666666666667, 0.1, 0.5, 0.1, 0.6666666666666666, 0.10000000000000002, 0.3125, 0.25, -0.3453125, 0.026936026936026924, 0.625, -0.07777777777777779, 0.5, -0.0625, 0.05, -1.0, -0.2, 0.125, 0.5, 0.125, 0.5, -0.0625, 0.5, 0.5, 1.0, -0.07083333333333335, 0.8, 0.1, -0.125, -0.03636363636363636, 0.1, -0.75, -0.1, 1.0, 0.5416666666666666, 0.5, 0.3571428571428571, 0.14583333333333334, -0.2, 0.8, 0.5, 0.3111111111111111, -0.06666666666666667, -0.016666666666666663, 0.64, -0.25, 0.5, 0.5, -0.07777777777777779, -0.6999999999999998, 0.5, 1.0, 0.3653846153846154, 0.5, 0.2875, -0.21805555555555556, -1.0, 0.375, 0.8802083333333334, 0.5, 0.225, 0.16, 0.13636363636363635, 0.5, 0.5, 0.5, 0.6, 0.5, 0.5, -0.25, 0.6975446428571428, 0.15000000000000002, 0.75, -1.0, -0.016666666666666663, 0.625, 0.4333333333333333, 0.4333333333333333, 0.5, 0.4333333333333333, 0.591796875, 0.16666666666666666, 0.5, 0.0, 0.0, 0.5, 0.5, 0.9, 0.5, 0.11818181818181818, 0.625, 0.40625, 0.375, 0.65, 0.5, -0.25, 0.5, 0.4, 0.4083333333333334, 0.25, 0.25, 1.0, 0.0, 0.25, -0.5, 0.6, 0.2380952380952381, 0.4, 0.17857142857142855, 0.06666666666666667, -0.9765625, 1.0, 0.125, 0.15000000000000008, 0.06666666666666667, 0.2857142857142857, 0.7, 0.2, 0.4174107142857143, 1.0, 0.45, -0.35714285714285715, 0.1, 0.8, 0.5, 0.07142857142857142, 0.4333333333333333, -0.125, 0.26805555555555555, 0.4333333333333333, -0.15, 0.2857142857142857, -0.09166666666666667, -0.5238095238095238, 0.46666666666666673, -0.04999999999999999, -0.03333333333333333, 0.17857142857142855, 0.5, 0.29, 0.24051339285714285, -0.5, -0.25, 0.0, -0.0880952380952381, 0.39166666666666666, 0.4, 0.35, -0.1, -0.16666666666666666, -0.15555555555555559, 0.2, -0.6999999999999998, 0.5, -1.0, -1.0, -0.4, 1.0, 0.5, 0.03333333333333333, 0.1, 0.24375000000000002, 0.1, 0.375, -0.6, -0.25, 0.13055555555555554, 0.2, 0.36714285714285716, 0.35, 0.1, 0.2681818181818182, 0.35714285714285715, 0.2, 0.525, 0.0, -0.0125, -0.07777777777777779, -0.6, 0.13636363636363635, 0.25, 0.35, 0.6, 0.5, -0.2625, 0.725, -0.20833333333333331, -0.525, 0.5, 0.125, 0.7, -0.04583333333333334, -0.25, 0.2375, -0.5, -0.7374999999999998, -0.15000000000000002, 0.5, 0.5, -0.08333333333333333, 0.4051136363636364, 0.30511363636363636, -0.04666666666666666, 0.1, -0.6, 0.09444444444444444, 0.5, 0.7, 0.65, 0.13636363636363635, 0.4375, -0.14583333333333331, -0.8749999999999998, 0.7333333333333333, 0.75, -0.025, 0.05, -0.5, 0.1, 0.2833333333333334, 0.3, 0.075, -0.20639730639730638, -0.5, -0.013860544217687074, 0.1875, -0.175, 0.5333333333333333, -0.375, -0.4, 0.8, -0.15555555555555559, 0.875, -0.47777777777777775, -0.215, 0.5, 0.26666666666666666, 0.8, 0.5, -0.5, 0.03409090909090906, 0.65, -0.15555555555555559, 0.5, -0.275, -0.2, -0.375, -0.375, 0.4166666666666667, 0.0, 0.6, 0.75, 0.75, 0.5, -0.30000000000000004, -0.025, 1.0, 0.30000000000000004, 0.42857142857142855, 1.0, 0.17499999999999996, 0.24285714285714285, 0.4, -0.4, 0.8, 0.5, 0.1, 0.1, -0.2, -0.05, 0.2, 0.1, -0.25, 0.125, -0.3, -0.6, 0.125, 0.875, 0.13636363636363635, -0.05, -0.3333333333333333, -0.375, 1.0, 0.21111111111111114, -0.5333333333333333, 0.4166666666666667, 1.0, -1.0, 0.8, 0.575, -0.30000000000000004, 0.25, -0.125, 0.125, -0.30000000000000004, -0.30000000000000004, 0.1, 0.3, 0.1, 0.1, -0.31666666666666665, -0.125, 0.26666666666666666, 0.25, 0.09999999999999998, -0.06666666666666665, 0.06190476190476191, 0.25, -0.35, 0.5, -0.19444444444444448, -0.2, -0.3, 0.3888888888888889, 0.6, 0.17222222222222222, 0.8, 0.25, 0.2333333333333333, 0.6, -0.4, -0.26, 0.5, 0.5125, 0.762939453125, -0.29464285714285704, -0.15, 0.6, 0.375, 0.5, -0.16249999999999992, 0.25, 0.2, 0.81875, 0.05000000000000002, -0.15555555555555559, -0.20555555555555555, 0.5729166666666667, 0.6833333333333332, 0.2, 0.0875, -0.75, 0.0003472222222222071, 0.21212121212121213, 0.8, 0.02500000000000001, 0.43333333333333335, 0.3, -0.4, -0.03125, -0.05, 0.4, 0.4, 0.4833333333333334, 0.4, 0.4, -0.04097222222222222, 0.35, 0.125, 0.8, -0.6, -0.13333333333333333, 0.5, 0.05000000000000002, 0.4, -0.2, 0.55, 0.55, -1.0, 1.0, 0.8, 0.4, 0.8, 0.41874999999999996, 0.6, -0.30000000000000004, -0.2, 0.1, 0.6, 0.1, 0.1, 0.1, 0.1, 0.1, -0.15, 0.3, 0.125, 0.35, 0.1, 0.022222222222222213, 0.225, 0.16761363636363635, 0.1875, 5.551115123125783e-17, -0.1, 0.05, -0.39999999999999997, -0.07500000000000001, -0.15555555555555559, 0.1, 0.08035714285714285, 1.0, 0.7, -0.06666666666666662, 0.32, 0.25, 0.6, 0.7125, 0.05, 0.6, 0.3, -0.07500000000000001, 0.5428571428571429, -0.25, -0.4125, 0.20000000000000004, 0.4, 0.1, 0.1, 0.4, 0.4, 0.1, 0.375, 0.5, 0.21428571428571427, 0.1090909090909091, 0.0, -0.07777777777777779, 0.21428571428571427, 0.3, 0.04999999999999999, 0.4, 0.20625, -0.11666666666666665, 0.8, 0.45, 0.5, 0.4375, 0.31666666666666665, -0.15555555555555559, 0.075, 0.45, 0.86875, -0.2, -0.13333333333333333, -0.125, 0.1, -0.15625, 0.8, 0.2, 0.4, 0.4, 0.2, 0.225, 0.2, 0.2333333333333333, 0.9, 0.9, -0.21875, 0.17500000000000002, 0.0625, 0.375, 0.625, 0.47500000000000003, 0.3125, 0.775, 0.4619047619047619, 0.05, 1.0, 0.0625, 0.56640625, 0.85, -0.075, 0.05, 0.3, -0.25, -0.02031250000000001, 0.8, 0.04999999999999999, 0.0, -0.3125, 0.0, 0.26666666666666666, -0.06666666666666667, -1.0, -0.5, 0.5, 0.3333333333333333, 0.5, 0.5, -0.5, 0.5, 0.25, -0.28541666666666665, 0.6, 0.30000000000000004, -0.0625, 0.4222222222222222, 0.6, 0.5, -0.6999999999999998, 0.3340909090909091, -0.6, -0.09999999999999992, 0.25, 0.1851851851851852, -0.09999999999999999, -0.33181818181818185, -0.4, 0.5, 0.3481481481481481, 0.13636363636363635, -0.58828125, -0.15625, -0.3374999999999999, 0.3194444444444444, 0.19999999999999998, -0.5859375, 0.1, 0.1, 0.1, 0.42857142857142855, 0.1, 0.5, 0.5, 0.5, 0.13636363636363635, 0.3333333333333333, 0.5, -0.45625, -0.1, 0.2857142857142857, 1.0, 0.16666666666666666, -0.2, 0.09999999999999999, 0.13636363636363635, -0.325, 0.2, 0.1, 0.1, 0.5, 0.8, 0.2083333333333333, 0.25416666666666665, 0.1, 0.05, -0.15, 0.11818181818181818, -0.15000000000000002, -0.2, 0.3416666666666667, 0.3625, 0.3125, 0.03333333333333333, 0.1, 0.27499999999999997, 0.3625, 0.13636363636363635, -0.3, 0.5, -0.20833333333333331, 0.3333333333333333, 0.2833333333333333, 0.1, 0.5, 0.42000000000000004, 0.13636363636363635, 0.228125, 0.5, -0.3833333333333333, 0.2083333333333333, 0.228125, 0.13636363636363635, 0.13636363636363635, 0.08829966329966328, 0.2, 1.0, 0.35714285714285715, 0.043181818181818175, -0.5, -0.15, 0.1, -0.1851851851851852, 0.54296875, 0.125, -0.125, -0.4761904761904762, 0.5, 0.35, 0.7, 0.6, 0.4666666666666666, -0.15555555555555559, 0.6, 0.75, 0.5, -0.5, 0.5, 0.15416666666666665, 0.06818181818181818, 0.4375, 0.1, 0.19166666666666665, -0.05, 0.050000000000000044, 0.2, -0.125, 0.35000000000000003, 0.14285714285714285, 0.2833333333333333, 0.175, -0.25, -0.325, 0.15833333333333335, 0.20500000000000002, 0.25, 0.3431818181818182, -0.5, 0.0, 0.35, -0.25, 0.5625, 0.2, -0.5, -0.25, -1.0, 0.024999999999999994, 0.6166666666666667, 0.04999999999999999, 0.1, 0.5, 0.85, 0.45, 0.5, 0.03125, 0.8, 0.35, 0.5, 0.6666666666666666, 0.5, -0.5, -1.0, -0.6, -0.390625, 0.5, 0.14999999999999997, 0.5, 0.3, 0.25, -0.3333333333333333, -0.30000000000000004, 0.125, 0.6, -0.48214285714285715, -0.7142857142857143, -0.4571428571428572, 0.3416666666666667, 0.06666666666666668, -0.08333333333333333, -0.78125, -0.15555555555555559, -0.3, -0.06666666666666665, 0.5, -0.2, -0.22685185185185186, 0.31785714285714284, -0.1, -0.3499999999999999, 0.3, 0.5, 0.55, 0.4, 0.4000000000000001, 0.024999999999999984, 0.4, -0.225, -0.15190972222222224, 0.15, 0.30000000000000004, -0.125, 0.375, 0.4333333333333333, 0.5, 0.1814814814814815, -0.4527777777777778, -0.4527777777777778, -0.4527777777777778, 0.03333333333333333, -0.6, 0.04999999999999999, -0.05476190476190479, 0.2, 0.16, 0.5, 0.0, 0.09226190476190477, 0.0, 1.0, 0.125, -0.028333333333333276, 1.0, 0.5, 0.5, -0.20714285714285707, -0.6, -0.2, -0.6, 0.5, -0.23703703703703707, 0.25, 0.1, 0.275, -0.15555555555555559, 0.39000000000000007, -0.3, 0.65, 0.8, 0.5, -0.1875, -0.8, 0.6, -0.1875, 0.25, 0.05625000000000002, -0.1875, 0.1, 0.2857142857142857, -0.7999999999999999, 0.3, -0.625, 0.0, 0.0, -0.2, 0.2857142857142857, -0.25, 0.15, 0.5, 0.1, 0.0, 0.8, 0.43333333333333335, -0.6, -1.0, 0.1, -0.022222222222222237, 0.01874999999999999, -0.6, 0.05, 0.15555555555555559, 0.2, 0.13636363636363635, -0.625, -0.04999999999999999, 0.6, 0.20999999999999996, 0.23333333333333336, -0.5333333333333333, -0.175, 0.25, 0.4666666666666666, 0.012499999999999997, 0.5, -0.5499999999999999, 0.5, 0.4, -0.11875, -0.2, 0.35, -0.008333333333333331, -0.6999999999999998, -0.1875, 0.16666666666666666, -0.1875, -0.1875, 0.75, 0.7, -0.5, 0.0, 0.25, 0.15714285714285714, 0.35, 0.15714285714285714, -0.6999999999999998, 0.2857142857142857, 0.2, 0.575, 0.26666666666666666, -0.2, -0.3, -0.4, -0.32777777777777783, 0.0, 0.5, 0.1375, -0.6, -0.1875, 0.5, -0.15555555555555559, -0.35, -0.1, 0.8, -0.2, 0.34545454545454546, -0.75, 0.1, 0.8, -0.2, -0.3, 0.12, 0.14375, 0.25, 0.3125, -0.05, -0.55, -0.5, -0.125, 0.13125, -0.1125, -0.3125, 0.1, -0.07777777777777779, 0.05, 0.275, 0.1875, 0.13636363636363635, 0.2564814814814815, 0.8, 0.8, -0.5, 0.13636363636363635, 0.1, 0.15, -0.15, 0.4166666666666667, -0.1777777777777778, -0.16666666666666666, -0.21458333333333335, 0.39204545454545453, -0.11666666666666665, -0.1125, -0.5, -0.4, -0.22499999999999992, 0.1625, -0.18333333333333335, 0.1387939453125, -0.1, 0.024999999999999994, 0.2757742745535714, 0.19642857142857142, 0.0722222222222222, 0.0, -0.13333333333333333, -0.1, -1.0, 0.35, -0.8, -1.0, 0.5, -1.0, -0.25, 0.5, 0.5, -0.037500000000000006, 0.07500000000000001, 0.5, 0.4583333333333333, 0.625, 0.5, -0.2518518518518518, 0.4375, -0.1625, -0.19375, 0.25, -0.075, -0.37777777777777777, -0.1625, 0.11666666666666664, 0.3333333333333333, -0.3038194444444445, 0.4222222222222222, -0.05, -0.15185185185185188, 0.35119047619047616, 0.18714285714285714, -0.22361111111111115, 0.1, 0.025000000000000022, -0.35, 0.2857142857142857, 0.5, 0.2857142857142857, -0.04464285714285715, -0.4666666666666667, -0.625, 0.2, 0.22727272727272727, 0.1, -0.09999999999999999, 0.1875, 0.09318181818181817, 0.4375, 0.14765625, -1.0, 0.4375, -0.09715909090909092, -0.35, -0.07499999999999998, -0.35, -0.26041666666666663, 0.17500000000000002, 0.8, -0.13333333333333333, 0.2857142857142857, -0.55, -0.390625, 0.29910714285714285, -0.4, -0.15555555555555559, 0.29910714285714285, 0.8, -0.275, 0.35, -0.2916666666666667, 0.5333333333333333, 0.16111111111111112, -0.33181818181818185, 0.19999999999999998, 0.6, -0.075, -0.13333333333333333, 0.125, -0.07777777777777779, -0.6999999999999998, 0.2232142857142857, -0.15, 0.0625, -0.16666666666666666, -0.325, -0.46875, -0.475, -0.04999999999999999, 0.5, -0.33181818181818185, -0.09375, 0.35520833333333335, 0.5, 0.625, 0.15, -0.4, 0.7, 0.59765625, 0.2, -0.1, -0.15555555555555559, 0.4, 0.25, -0.19675925925925927, 0.2857142857142857, 0.8, 0.8, 0.21428571428571427, 0.2875, -0.75, 0.04999999999999999, -0.21875, 0.1916666666666667, 0.5, 0.05, 0.5, -0.375, 0.20735930735930733, 0.4, -0.0029761904761904934, 0.05, 0.2333333333333333, -0.125, 0.19318181818181818, -0.2272727272727273, 0.26666666666666666, 0.25, -0.2333333333333333, -0.25, 0.0, 0.6, 0.4, -0.18888888888888888, -0.17142857142857146, 0.25, 0.26249999999999996, -0.4, -0.7999999999999999, -0.07142857142857145, -0.75, 0.2, -0.5, 0.8, 0.0, 0.0, -0.2, 0.03125, 0.8, 0.28611111111111115, 0.21666666666666665, -0.5, 0.5, 0.33125, 0.7, -0.2916666666666667, 0.55, 0.25, 0.8, 0.3125, 0.1, 0.26212121212121214, 0.2222222222222222, -0.625, 0.30952380952380953, 0.26666666666666666, -0.2, 0.04999999999999999, 0.4, 0.2, -0.3499999999999999, 0.08690476190476189, 0.0642857142857143, 0.75, 0.55, 0.75, 0.35, -0.6166666666666667, -0.5, 0.1, -0.125, 0.2, 0.5, -0.4, 0.03091517857142855, -0.15, 0.4444444444444445, 0.25, 0.2857142857142857, 0.15, -0.1671875, 0.04214285714285715, -0.2630952380952381, 0.35, -0.25, 0.08148148148148149, 0.5, -0.25, 0.4, -0.4, 0.2, -0.042460317460317476, 0.5, 0.28541666666666665, 0.390625, -0.05, -0.3, 0.625, -0.24375, -0.25, -0.3249999999999999, 0.2, 0.1452380952380952, -0.225, 0.6, 0.8, -0.3, 0.1714285714285714, 0.7, -0.15, -0.2777777777777778, -1.0, -0.11499999999999999, 0.2602272727272727, 0.8, 0.2, 0.05, -0.2, 0.13636363636363635, 0.1, -0.35, -0.16666666666666666, 0.1, -0.3187499999999999, -0.26785714285714285, -0.0390625, -0.06666666666666665, -0.5374999999999999, -0.421875, -0.15625, 0.375, 0.05, 0.3333333333333333, -0.13181818181818183, 0.5, -0.006349206349206368, -0.6, 1.0, 0.3875, 0.1, 0.06818181818181818, -0.8749999999999998, -0.6999999999999998, -0.6, 0.13636363636363635, -0.30000000000000004, 0.3666666666666667, 0.4, 0.625, 0.13636363636363635, 0.1340909090909091, 0.04999999999999999, 0.1, 0.25, 0.25, -0.35, -0.41666666666666663, 0.21666666666666665, 0.5857142857142857, -0.4, 0.09999999999999999, -0.2625, -0.23214285714285715, -0.25, 0.2, -0.025, -0.21875, 0.148046875, -0.4, 0.9, 0.13636363636363635, -0.19073486328125, 0.8, -0.4166666666666667, -0.2, -0.2, 0.13636363636363635, -0.19444444444444448, 0.1, 0.1, 0.2, -0.15555555555555559, -0.16666666666666666, -0.37777777777777777, -0.04702380952380952, -0.3333333333333333, -0.15555555555555559, 0.19999999999999998, -0.16666666666666666, 0.13522727272727272, 0.225, -0.2, -0.3, 0.3125, 0.8, 0.25, -0.225, 0.8, 0.03333333333333333, -0.2, 0.2, 0.51875, 0.6, -0.0625, 0.27499999999999997, -0.08333333333333333, 0.5, 0.4000000000000001, 0.75, 0.40625, 0.5, 0.43333333333333335, -1.0, -0.07777777777777779, 0.37083333333333335, -0.2, 0.25, 0.8, -0.8, 0.10555555555555556, 0.2090909090909091, 0.12999999999999998, 0.0, -0.038888888888888896, 1.0, -0.061388888888888896, 0.13636363636363635, 0.14285714285714285, 0.2833333333333333, -0.051851851851851864, 0.25, 0.4, 0.5416666666666667, -0.4, -0.10555555555555557, 0.09444444444444444, 0.05, 0.4625, -0.4, 0.175, 0.05, -0.2916666666666667, -0.375, 0.4464285714285714, 0.03333333333333333, 0.8, 0.13636363636363635, 0.5, 0.525, 0.4, 0.8, 0.25, 0.8, -0.075, 0.3, 0.5, 0.4, 0.025, 0.2, 0.25, -0.2, -0.125, 1.0, 0.0, -1.0, 0.6000000000000001, 0.8, -0.15, -0.15555555555555559, -0.6999999999999998, 0.875, 0.5, 0.25, 0.6, -0.15555555555555559, 0.16818181818181818, 0.5444444444444445, 0.20833333333333334, -0.125, -0.125, 0.46666666666666673, 0.65, 0.425, -0.07500000000000001, -0.1875, 0.4, 0.1, 0.32222222222222224, 0.5, -0.4, -0.55, 0.5, -1.0, -0.375, 0.14166666666666666, 1.0, 0.75, -0.2749999999999999, -1.0, -0.1, -0.8, 0.25, 0.07500000000000001, -0.75, 0.9, -0.41666666666666663, 0.42500000000000004, 0.9, -0.75, 0.9, -0.20639730639730638, -0.125, 0.6, 0.07500000000000001, 0.375, 0.625, 0.4, -0.1875, 0.3333333333333333, 0.375, -0.25, -0.25, -0.625, -0.25, 0.6, 0.22499999999999998, -0.75, -0.09375, -0.5, -0.25, -0.07500000000000001, 0.4, 0.5, 0.15000000000000002, -0.0625, 0.5, -0.44999999999999996, -0.19999999999999996, 0.25, 0.05357142857142855, 0.106031746031746, 0.22232142857142856, 0.5, 0.07500000000000001, 0.525, -0.25, -0.05879629629629631, 0.2857142857142857, -0.07777777777777779, 0.20833333333333334, 0.20833333333333331, 0.2857142857142857, 0.0, 0.625, 0.8, 0.2857142857142857, 0.65, 0.2857142857142857, -0.20833333333333331, 0.2333333333333333, 0.2857142857142857, 0.2857142857142857, 0.2857142857142857, 0.8, 0.9, 0.1, 0.2857142857142857, -0.2916666666666667, 0.17857142857142855, 0.2857142857142857, 0.7, 0.2857142857142857, 0.2857142857142857, 0.2857142857142857, -0.14027777777777778, 0.78125, 0.4, -0.0833333333333333, 0.125, -0.1, 0.5, 0.2857142857142857, -0.20833333333333331, 0.8250000000000001, 0.057142857142857134, 0.48333333333333334, 0.35, 0.5, -0.13333333333333333, -0.5, 0.15, 0.2857142857142857, -0.390625, -0.27499999999999997, 0.0, -0.24375, 0.75, 0.8, 0.6, 0.39999999999999997, 0.0125, 0.1375, -0.25, -0.6, 0.3, 0.25, 0.16666666666666666, 0.2, 0.04166666666666674, 0.25, 0.225, 1.0, 0.07388888888888889, -0.07777777777777779, -0.25, -0.15555555555555559, -0.25, -0.15555555555555559, 0.8, -0.6, 0.10000000000000002, -0.625, 0.6, -0.07777777777777779, 0.6103515625, 0.1, -0.11919642857142854, 0.125, 0.5, 0.5, 0.08723958333333333, -0.07777777777777779, 1.0, 0.1625, 0.5208333333333334, 0.15625, -0.9765625, 0.06818181818181818, -0.4, -0.20833333333333331, 0.125, 0.35833333333333334, 0.2857142857142857, 0.2, -0.5, 0.1, 0.4, 0.125, 0.1, 0.1, 0.49765625, 0.1, 0.05, 0.1, -0.02777777777777779, 0.45, -0.07777777777777779, 0.13068181818181818, -0.024999999999999998, -0.3333333333333333, -0.08333333333333333, -0.15555555555555559, -0.5, 0.8, 0.05, -0.19999999999999996, 0.1, 1.0, 0.8, 0.5, -0.07500000000000001, -0.3, -0.6, -0.08333333333333333, 0.9765625, -0.75, -0.625, -0.2, 0.41818181818181815, -0.4, 0.3666666666666667, -0.25, 0.2, 0.05000000000000001, 0.04375000000000001, -0.75, 0.8, 0.2, 0.25, 0.11666666666666668, 0.1589285714285715, 0.19999999999999998, -0.3125, 0.5, 0.1284722222222222, 0.1, 1.0, 0.08333333333333333, -0.4333333333333333, 0.10000000000000003, -0.2, 0.7, 0.07142857142857142, 0.5, 0.4, 0.8, 0.7, 0.8, -0.625, 0.21103896103896103, 0.22976190476190478, -0.053571428571428575, 0.07777777777777779, 0.3814697265625, -0.15555555555555559, 0.5, 0.3, -0.1, 0.36, -0.4627604166666666, 0.1, 0.1, 0.5, 0.1, 0.41666666666666663, 0.2791666666666667, -0.25, -0.75, 0.060937500000000006, 0.20535714285714285, -0.25, -0.15555555555555559, 0.2791666666666667, -0.05, -0.16666666666666669, -0.2, 0.5, -0.175, -0.053571428571428534, -0.5, 0.4166666666666667, 0.1, 0.625, 0.17857142857142855, 0.1375, 1.0, 0.3666666666666667, 0.8, -1.0, 0.5666666666666667, 0.08333333333333334, 0.2, 0.25, -0.6000000000000001, -0.2, 0.13636363636363635, 0.3333333333333333, -0.6, 0.1, 0.1, -0.15555555555555559, 0.1, 0.3181818181818182, 0.05000000000000001, 0.8, -1.0, 1.0, -0.1, 0.2814814814814815, -0.1777777777777778, -0.7999999999999999, -0.7999999999999999, 0.13636363636363635, -0.325, 0.5, 0.78125, 0.13636363636363635, -0.1, -0.20833333333333334, -0.20833333333333334, 0.6, 0.21666666666666665, -0.15, 0.25, 0.5, 0.1, 0.21666666666666665, 0.06666666666666668, 0.20833333333333331, 0.5, 0.049999999999999996, -0.2, 0.0, 0.0, -0.75, 0.2811688311688311, 0.79296875, 0.3125, 0.08125, 0.86875, -0.7, -0.4, 0.25, 0.19999999999999998, 0.8, 0.07499999999999998, 0.0, 0.0, -0.3249999999999999, -0.4, -0.30000000000000004, 0.0, -0.15555555555555559, 0.0, 0.48333333333333334, 0.48333333333333334, 0.32222222222222224, 0.32222222222222224, 0.0, 0.0, 0.0, 0.5, -0.5, 0.0, 0.28055555555555556, -0.0625, 0.28055555555555556, 0.28055555555555556, 0.0, 0.23166666666666663, 0.0, 0.0, 0.0, 0.0]\n"
          ],
          "name": "stdout"
        }
      ]
    },
    {
      "cell_type": "markdown",
      "metadata": {
        "id": "g6A40fPyQZ69"
      },
      "source": [
        "**2. Plot the polarity values in a histogram to identify the overall sentiment (10 points)**"
      ]
    },
    {
      "cell_type": "code",
      "metadata": {
        "colab": {
          "base_uri": "https://localhost:8080/",
          "height": 265
        },
        "id": "T30PoEHu-RL-",
        "outputId": "3336eeb7-7b79-4dd8-b700-a8d50a6c60a7"
      },
      "source": [
        "#Plotting graph for Polarity without preprocessing the data\n",
        "plt.hist(polarity, bins=15)\n",
        "plt.show()"
      ],
      "execution_count": 9,
      "outputs": [
        {
          "output_type": "display_data",
          "data": {
            "image/png": "[encoded data removed]",
            "text/plain": [
              "<Figure size 432x288 with 1 Axes>"
            ]
          },
          "metadata": {
            "tags": [],
            "needs_background": "light"
          }
        }
      ]
    },
    {
      "cell_type": "markdown",
      "metadata": {
        "id": "Aq57wYEKQo8x"
      },
      "source": [
        "**3. What does the histogram of polarity values tell you about sentiments in the tweets? Are they positive or negative? (5 points)**"
      ]
    },
    {
      "cell_type": "markdown",
      "metadata": {
        "id": "HOLLplpeQv3q"
      },
      "source": [
        "**Ans :** The polarity histogram is plotted from -1 to 1, with a plot from -1 to 0 representing negative sentiment tweets and a plot from 0 to +1 representing positive sentiment tweets. Tweets with a sentiment of 0 are considered neutral. If we carefully observe the histogram map, we can see that the mean of the bell curve varies from 0 to 0.15 polarity magnitude, implying that the majority of tweets have a positive feeling.\n",
        "\n",
        "The histogram of polarity values is tilted to the left and fits the Gaussian distribution/Normal distribution, suggesting that the bulk of total tweets are optimistic in nature. The second metric compares the cumulative number of tweets for positive and negative polarity/sentiment. The overall number of positive sentiments outnumbers the total number of negative sentiments."
      ]
    },
    {
      "cell_type": "markdown",
      "metadata": {
        "id": "Ay96vG7LQvoP"
      },
      "source": [
        "**B. Develop a text summarizer**"
      ]
    },
    {
      "cell_type": "markdown",
      "metadata": {
        "id": "6jaLqvgGQ7Iy"
      },
      "source": [
        "**Preprocessing the data**"
      ]
    },
    {
      "cell_type": "code",
      "metadata": {
        "id": "Hc_iKcww-Ueq"
      },
      "source": [
        "df['Text'] = [re.sub(r'@\\w+|http\\S+|www\\S+|#\\S+',\"\",line.lower()) for line in df['Text']]"
      ],
      "execution_count": 10,
      "outputs": []
    },
    {
      "cell_type": "code",
      "metadata": {
        "id": "s1hNINRX-XQQ"
      },
      "source": [
        "punc = set([word for line in df['Text'] for word in line if not word.isalnum()])\n",
        "punc.remove(' ')\n",
        "punc.remove(\"'\")\n",
        "remove = '|'.join('\\\\'+i for i in punc)"
      ],
      "execution_count": 11,
      "outputs": []
    },
    {
      "cell_type": "code",
      "metadata": {
        "id": "Md9llBM4-ZjO"
      },
      "source": [
        "df['Text'] = df['Text'].apply(lambda x: re.sub(remove, ' ', x))"
      ],
      "execution_count": 12,
      "outputs": []
    },
    {
      "cell_type": "code",
      "metadata": {
        "colab": {
          "base_uri": "https://localhost:8080/"
        },
        "id": "-D4LlnaM-cDk",
        "outputId": "5bb1f456-e5fa-450a-e936-7f6b9bc61939"
      },
      "source": [
        "def remove_numbers_punctuation(text):\n",
        "    return re.sub('[^a-zA-Z,,.!:;]' , ' ', text)\n",
        "\n",
        "def remove_brackets(text):\n",
        "    return re.sub('\\[[^]]*\\]', \"\", text)\n",
        "\n",
        "def remove_num_brac_punct(text):\n",
        "    text = remove_numbers_punctuation(text)\n",
        "    text = remove_brackets(text)\n",
        "    return text\n",
        "\n",
        "df['Text'] = df['Text'].apply(remove_num_brac_punct)\n",
        "df['Text']"
      ],
      "execution_count": 13,
      "outputs": [
        {
          "output_type": "execute_result",
          "data": {
            "text/plain": [
              "0         rt   please rt   food needed for shelter in ...\n",
              "1         please rt   food needed for shelter in nc in...\n",
              "2            its raining and tornado warnings    about...\n",
              "3         lmao  rt   if i don t get any food i hope th...\n",
              "4          saved by the tornado warning    i m just re...\n",
              "                              ...                        \n",
              "3626       thanks to  and  for making me laugh so hard...\n",
              "3627      stamford based americares is preparing to se...\n",
              "3628       semi trailer parked at people s church spri...\n",
              "3629      rt   my mom is goin out of town today to hel...\n",
              "3630       volunteers offer support to southern tornad...\n",
              "Name: Text, Length: 3631, dtype: object"
            ]
          },
          "metadata": {
            "tags": []
          },
          "execution_count": 13
        }
      ]
    },
    {
      "cell_type": "code",
      "metadata": {
        "colab": {
          "base_uri": "https://localhost:8080/"
        },
        "id": "cs1KGaSw-evq",
        "outputId": "9178709b-1d90-414a-c5e7-9690be60ef77"
      },
      "source": [
        "for text in df['Text'].head():\n",
        "    print(text)"
      ],
      "execution_count": 14,
      "outputs": [
        {
          "output_type": "stream",
          "text": [
            "  rt   please rt   food needed for shelter in nc in area that was hit hard by tornado  please contact us at           \n",
            "  please rt   food needed for shelter in nc in area that was hit hard by tornado   please contact us at info org to help           \n",
            "     its raining and tornado warnings    about to be in a coma from eating all this food in a few                     \n",
            "  lmao  rt   if i don t get any food i hope the tornado blow all yall food out yall mouth             \n",
            "   saved by the tornado warning    i m just ready to eat this good food            \n"
          ],
          "name": "stdout"
        }
      ]
    },
    {
      "cell_type": "code",
      "metadata": {
        "id": "x3KL3N-mFL0l"
      },
      "source": [
        "sentiment_ob_after_clean = [TextBlob(text) for text in df['Text']]"
      ],
      "execution_count": 15,
      "outputs": []
    },
    {
      "cell_type": "code",
      "metadata": {
        "id": "SNZfwPadFTlW"
      },
      "source": [
        "polarity_after_clean = [sen.sentiment.polarity for sen in sentiment_ob_after_clean]"
      ],
      "execution_count": 16,
      "outputs": []
    },
    {
      "cell_type": "markdown",
      "metadata": {
        "id": "a2V-QQ9ZRB11"
      },
      "source": [
        "**Plotting graph of polarity after preprocessing the data**"
      ]
    },
    {
      "cell_type": "code",
      "metadata": {
        "colab": {
          "base_uri": "https://localhost:8080/",
          "height": 265
        },
        "id": "XIYHZeW8Ffcl",
        "outputId": "6ee3d852-f10f-4524-ac17-0fa55626fcab"
      },
      "source": [
        "plt.hist(polarity_after_clean, bins=15)\n",
        "plt.show()"
      ],
      "execution_count": 17,
      "outputs": [
        {
          "output_type": "display_data",
          "data": {
            "image/png": "[encoded data removed]",
            "text/plain": [
              "<Figure size 432x288 with 1 Axes>"
            ]
          },
          "metadata": {
            "tags": [],
            "needs_background": "light"
          }
        }
      ]
    },
    {
      "cell_type": "code",
      "metadata": {
        "id": "Ly7BKoRE-oGM"
      },
      "source": [
        "d = contractions.contractions_dict"
      ],
      "execution_count": 18,
      "outputs": []
    },
    {
      "cell_type": "code",
      "metadata": {
        "id": "cQ-659K0-qL5"
      },
      "source": [
        "df['Text'] = df['Text'].apply(lambda x: ' '.join([d[wor] if wor in d.keys() else wor for wor in x.split()]))"
      ],
      "execution_count": 19,
      "outputs": []
    },
    {
      "cell_type": "code",
      "metadata": {
        "colab": {
          "base_uri": "https://localhost:8080/"
        },
        "id": "R0W8sGTT-seu",
        "outputId": "42f518b3-1b07-4642-d248-ba68c414b580"
      },
      "source": [
        "for text in df['Text'].head():\n",
        "    print(text)"
      ],
      "execution_count": 20,
      "outputs": [
        {
          "output_type": "stream",
          "text": [
            "rt please rt food needed for shelter in nc in area that was hit hard by tornado please contact us at\n",
            "please rt food needed for shelter in nc in area that was hit hard by tornado please contact us at info org to help\n",
            "its raining and tornado warnings about to be in a coma from eating all this food in a few\n",
            "lmao rt if i don t get any food i hope the tornado blow all yall food out yall mouth\n",
            "saved by the tornado warning i m just ready to eat this good food\n"
          ],
          "name": "stdout"
        }
      ]
    },
    {
      "cell_type": "code",
      "metadata": {
        "id": "TqjfooVi-9m5"
      },
      "source": [
        "st_words = set(stopwords.words('english'))"
      ],
      "execution_count": 21,
      "outputs": []
    },
    {
      "cell_type": "code",
      "metadata": {
        "id": "W_9azOal_AFb"
      },
      "source": [
        "df['Text'] = df['Text'].apply(lambda x: [word for word in x.split() if word not in st_words])"
      ],
      "execution_count": 22,
      "outputs": []
    },
    {
      "cell_type": "code",
      "metadata": {
        "colab": {
          "base_uri": "https://localhost:8080/"
        },
        "id": "q7kiedjA_CaL",
        "outputId": "2147f531-bd03-4330-8c49-ab046c6b047c"
      },
      "source": [
        "for text in df['Text'].head():\n",
        "    print(text)"
      ],
      "execution_count": 23,
      "outputs": [
        {
          "output_type": "stream",
          "text": [
            "['rt', 'please', 'rt', 'food', 'needed', 'shelter', 'nc', 'area', 'hit', 'hard', 'tornado', 'please', 'contact', 'us']\n",
            "['please', 'rt', 'food', 'needed', 'shelter', 'nc', 'area', 'hit', 'hard', 'tornado', 'please', 'contact', 'us', 'info', 'org', 'help']\n",
            "['raining', 'tornado', 'warnings', 'coma', 'eating', 'food']\n",
            "['lmao', 'rt', 'get', 'food', 'hope', 'tornado', 'blow', 'yall', 'food', 'yall', 'mouth']\n",
            "['saved', 'tornado', 'warning', 'ready', 'eat', 'good', 'food']\n"
          ],
          "name": "stdout"
        }
      ]
    },
    {
      "cell_type": "code",
      "metadata": {
        "id": "YzU4jZFU_HYx"
      },
      "source": [
        "wnl = WordNetLemmatizer()"
      ],
      "execution_count": 24,
      "outputs": []
    },
    {
      "cell_type": "code",
      "metadata": {
        "id": "x4UG_dyU_Jhn"
      },
      "source": [
        "df['Text'] = df['Text'].apply(lambda x: [wnl.lemmatize(word) for word in x])"
      ],
      "execution_count": 25,
      "outputs": []
    },
    {
      "cell_type": "code",
      "metadata": {
        "colab": {
          "base_uri": "https://localhost:8080/"
        },
        "id": "93TBVmXZ_Lg0",
        "outputId": "efa742f0-78e7-4831-e9e6-476626f459fc"
      },
      "source": [
        "for text in df['Text'].head():\n",
        "    print(text)"
      ],
      "execution_count": 26,
      "outputs": [
        {
          "output_type": "stream",
          "text": [
            "['rt', 'please', 'rt', 'food', 'needed', 'shelter', 'nc', 'area', 'hit', 'hard', 'tornado', 'please', 'contact', 'u']\n",
            "['please', 'rt', 'food', 'needed', 'shelter', 'nc', 'area', 'hit', 'hard', 'tornado', 'please', 'contact', 'u', 'info', 'org', 'help']\n",
            "['raining', 'tornado', 'warning', 'coma', 'eating', 'food']\n",
            "['lmao', 'rt', 'get', 'food', 'hope', 'tornado', 'blow', 'yall', 'food', 'yall', 'mouth']\n",
            "['saved', 'tornado', 'warning', 'ready', 'eat', 'good', 'food']\n"
          ],
          "name": "stdout"
        }
      ]
    },
    {
      "cell_type": "markdown",
      "metadata": {
        "id": "bKayb96ARRe9"
      },
      "source": [
        "**1. Preprocess the tweets & compute frequency distribution for most common 10 words (10 points)**"
      ]
    },
    {
      "cell_type": "code",
      "metadata": {
        "id": "Qk1RrGz4_Qxc"
      },
      "source": [
        "#convert lemmatized tokens into sentences \n",
        "df_lemmatize_data = ','.join([item for sub_list in df['Text'] for item in sub_list])\n",
        "nlp = English()"
      ],
      "execution_count": 27,
      "outputs": []
    },
    {
      "cell_type": "code",
      "metadata": {
        "id": "81udDnPk_Soe"
      },
      "source": [
        "#to increase length \n",
        "nlp.max_length = 40000000"
      ],
      "execution_count": 28,
      "outputs": []
    },
    {
      "cell_type": "code",
      "metadata": {
        "colab": {
          "base_uri": "https://localhost:8080/"
        },
        "id": "du_dm89j_VQ8",
        "outputId": "dc1cdb94-42c1-406c-a4aa-1d7a8ae0f946"
      },
      "source": [
        "df_lemmatize_inter = nlp(df_lemmatize_data)\n",
        "# get all tokens that aren't punctuation\n",
        "df_lemmatize_inter1 = [token.text for token in df_lemmatize_inter if token.is_punct != True]\n",
        "# get the frequency of each word (token) in the  string\n",
        "all_word_freq = Counter(df_lemmatize_inter1)\n",
        "all_word_freq"
      ],
      "execution_count": 29,
      "outputs": [
        {
          "output_type": "execute_result",
          "data": {
            "text/plain": [
              "Counter({'rt': 721,\n",
              "         'please': 120,\n",
              "         'food': 530,\n",
              "         'needed': 13,\n",
              "         'shelter': 1673,\n",
              "         'nc': 19,\n",
              "         'area': 100,\n",
              "         'hit': 136,\n",
              "         'hard': 18,\n",
              "         'tornado': 3465,\n",
              "         'contact': 4,\n",
              "         'u': 240,\n",
              "         'info': 12,\n",
              "         'org': 3,\n",
              "         'help': 71,\n",
              "         'raining': 12,\n",
              "         'warning': 536,\n",
              "         'coma': 2,\n",
              "         'eating': 5,\n",
              "         'lmao': 42,\n",
              "         'get': 281,\n",
              "         'hope': 97,\n",
              "         'blow': 15,\n",
              "         'yall': 19,\n",
              "         'mouth': 2,\n",
              "         'saved': 2,\n",
              "         'ready': 46,\n",
              "         'eat': 20,\n",
              "         'good': 126,\n",
              "         'uh': 9,\n",
              "         'mr': 7,\n",
              "         'tummy': 3,\n",
              "         'already': 23,\n",
              "         'hurt': 9,\n",
              "         'much': 32,\n",
              "         'candy': 2,\n",
              "         'face': 7,\n",
              "         'bit': 10,\n",
              "         'green': 16,\n",
              "         'accepting': 5,\n",
              "         'donation': 35,\n",
              "         'distributed': 2,\n",
              "         'victim': 167,\n",
              "         'eastern': 11,\n",
              "         'part': 77,\n",
              "         'state': 17,\n",
              "         'today': 55,\n",
              "         'game': 29,\n",
              "         'go': 219,\n",
              "         'see': 79,\n",
              "         'lowes': 7,\n",
              "         'steal': 4,\n",
              "         'fast': 32,\n",
              "         'took': 35,\n",
              "         'burger': 12,\n",
              "         'fry': 10,\n",
              "         'drink': 16,\n",
              "         'oh': 57,\n",
              "         'tag': 1,\n",
              "         'raleigh': 8,\n",
              "         'neighbor': 16,\n",
              "         'reach': 5,\n",
              "         'neighborhood': 8,\n",
              "         'put': 20,\n",
              "         'together': 5,\n",
              "         'spontaneous': 1,\n",
              "         'cloth': 1,\n",
              "         'wow': 54,\n",
              "         'crazy': 46,\n",
              "         'day': 87,\n",
              "         'getting': 48,\n",
              "         'week': 22,\n",
              "         'taking': 92,\n",
              "         'back': 58,\n",
              "         'store': 18,\n",
              "         'others': 3,\n",
              "         'stl': 25,\n",
              "         'call': 30,\n",
              "         'united': 8,\n",
              "         'way': 88,\n",
              "         'many': 47,\n",
              "         'lost': 26,\n",
              "         'everything': 20,\n",
              "         'need': 110,\n",
              "         'water': 47,\n",
              "         'clothes': 22,\n",
              "         'car': 1144,\n",
              "         'mess': 7,\n",
              "         'room': 48,\n",
              "         'zone': 7,\n",
              "         'gone': 22,\n",
              "         'bank': 10,\n",
              "         'account': 1,\n",
              "         'empty': 5,\n",
              "         'quadfest': 1,\n",
              "         'cont': 27,\n",
              "         'band': 4,\n",
              "         'tirnanog': 1,\n",
              "         'benefit': 21,\n",
              "         'think': 50,\n",
              "         'better': 54,\n",
              "         'spend': 6,\n",
              "         'tomorrow': 26,\n",
              "         'night': 47,\n",
              "         'local': 25,\n",
              "         'tir': 2,\n",
              "         'na': 3,\n",
              "         'nog': 2,\n",
              "         'want': 81,\n",
              "         'sleep': 16,\n",
              "         'dude': 21,\n",
              "         'first': 46,\n",
              "         'period': 2,\n",
              "         'talking': 13,\n",
              "         'brother': 13,\n",
              "         'robbing': 1,\n",
              "         'lion': 7,\n",
              "         'power': 40,\n",
              "         'went': 58,\n",
              "         'long': 24,\n",
              "         'test': 4,\n",
              "         'stuck': 30,\n",
              "         'building': 32,\n",
              "         'cuz': 23,\n",
              "         'also': 21,\n",
              "         'mean': 24,\n",
              "         'aunt': 11,\n",
              "         'like': 174,\n",
              "         'yesterday': 19,\n",
              "         'fuckn': 1,\n",
              "         'unt': 2,\n",
              "         'basement': 49,\n",
              "         'chilton': 2,\n",
              "         'hall': 11,\n",
              "         'due': 42,\n",
              "         'siren': 135,\n",
              "         'lot': 36,\n",
              "         'people': 83,\n",
              "         'tv': 27,\n",
              "         'news': 50,\n",
              "         'jail': 1,\n",
              "         'hoped': 1,\n",
              "         'fill': 4,\n",
              "         'tractor': 5,\n",
              "         'trailer': 15,\n",
              "         'survivor': 20,\n",
              "         'filled': 3,\n",
              "         'supply': 23,\n",
              "         'pls': 12,\n",
              "         'everthing': 1,\n",
              "         'clothing': 16,\n",
              "         'forget': 7,\n",
              "         'pet': 15,\n",
              "         'end': 12,\n",
              "         'storm': 245,\n",
              "         'thx': 3,\n",
              "         'everyone': 62,\n",
              "         'given': 3,\n",
              "         'far': 18,\n",
              "         'video': 69,\n",
              "         'aftermath': 10,\n",
              "         'st': 59,\n",
              "         'louis': 44,\n",
              "         'blessed': 7,\n",
              "         'baptist': 4,\n",
              "         'men': 3,\n",
              "         'continuing': 2,\n",
              "         'serve': 4,\n",
              "         'community': 14,\n",
              "         'clean': 29,\n",
              "         'debris': 14,\n",
              "         'even': 17,\n",
              "         'easter': 7,\n",
              "         'sunday': 7,\n",
              "         'idk': 4,\n",
              "         'watch': 161,\n",
              "         'lol': 224,\n",
              "         'kardashians': 1,\n",
              "         'ummm': 3,\n",
              "         'travel': 3,\n",
              "         'channel': 19,\n",
              "         'bizarre': 1,\n",
              "         'andrew': 1,\n",
              "         'zimmern': 1,\n",
              "         'etc': 19,\n",
              "         'lolz': 1,\n",
              "         'try': 17,\n",
              "         'know': 82,\n",
              "         'looking': 23,\n",
              "         'floor': 11,\n",
              "         'p': 23,\n",
              "         'last': 53,\n",
              "         'nite': 11,\n",
              "         'scary': 44,\n",
              "         'hell': 24,\n",
              "         'adt': 1,\n",
              "         'home': 141,\n",
              "         'lites': 1,\n",
              "         'praying': 28,\n",
              "         'running': 9,\n",
              "         'b': 36,\n",
              "         'spoil': 1,\n",
              "         'sadface': 1,\n",
              "         'weekend': 8,\n",
              "         'egg': 1,\n",
              "         'dyeing': 1,\n",
              "         'apparently': 20,\n",
              "         'tsa': 1,\n",
              "         'attention': 4,\n",
              "         'plz': 12,\n",
              "         'w': 50,\n",
              "         'resident': 47,\n",
              "         'berkeley': 1,\n",
              "         'drive': 48,\n",
              "         'waterbaby': 1,\n",
              "         'red': 31,\n",
              "         'cross': 33,\n",
              "         'disaster': 13,\n",
              "         'relief': 63,\n",
              "         'truck': 31,\n",
              "         'came': 26,\n",
              "         'hot': 16,\n",
              "         'meal': 2,\n",
              "         'cleaning': 3,\n",
              "         'tear': 3,\n",
              "         'flowed': 1,\n",
              "         'seeing': 7,\n",
              "         'kid': 31,\n",
              "         'breaking': 10,\n",
              "         'airport': 49,\n",
              "         'damaged': 41,\n",
              "         'closed': 10,\n",
              "         'filed': 3,\n",
              "         'business': 9,\n",
              "         'north': 48,\n",
              "         'america': 2,\n",
              "         'morning': 15,\n",
              "         'helen': 2,\n",
              "         'thanks': 41,\n",
              "         'spreading': 1,\n",
              "         'word': 10,\n",
              "         'providing': 7,\n",
              "         'four': 4,\n",
              "         'oak': 2,\n",
              "         'dollar': 3,\n",
              "         'general': 1,\n",
              "         'wellons': 1,\n",
              "         'start': 27,\n",
              "         'pm': 66,\n",
              "         'n': 74,\n",
              "         'touchdown': 4,\n",
              "         'co': 30,\n",
              "         'tonight': 56,\n",
              "         'r': 23,\n",
              "         'family': 50,\n",
              "         'without': 10,\n",
              "         'buying': 4,\n",
              "         'basket': 2,\n",
              "         'going': 126,\n",
              "         'drunk': 5,\n",
              "         'order': 4,\n",
              "         'h': 7,\n",
              "         'wtf': 16,\n",
              "         'wrong': 5,\n",
              "         'ppl': 30,\n",
              "         'leaving': 6,\n",
              "         'tower': 2,\n",
              "         'ugh': 17,\n",
              "         'wet': 8,\n",
              "         'outside': 64,\n",
              "         'cape': 2,\n",
              "         'ah': 2,\n",
              "         'pop': 5,\n",
              "         'outta': 8,\n",
              "         'nowhere': 4,\n",
              "         'take': 540,\n",
              "         'cry': 10,\n",
              "         'unless': 4,\n",
              "         'tempura': 1,\n",
              "         'sushi': 1,\n",
              "         'teriyaki': 1,\n",
              "         'wing': 3,\n",
              "         'got': 168,\n",
              "         'locked': 2,\n",
              "         'stockroom': 1,\n",
              "         'target': 1,\n",
              "         'emergency': 21,\n",
              "         'mall': 16,\n",
              "         'nsted': 1,\n",
              "         'cover': 18,\n",
              "         'foodcourt': 1,\n",
              "         'sittin': 4,\n",
              "         'porch': 6,\n",
              "         'jennings': 1,\n",
              "         'mad': 14,\n",
              "         'hungry': 12,\n",
              "         'fuck': 62,\n",
              "         'messin': 1,\n",
              "         'wit': 22,\n",
              "         'grinding': 1,\n",
              "         'court': 5,\n",
              "         'best': 27,\n",
              "         'time': 94,\n",
              "         'life': 38,\n",
              "         'love': 38,\n",
              "         'evacuated': 3,\n",
              "         'cause': 31,\n",
              "         'chinese': 16,\n",
              "         'bacon': 1,\n",
              "         'pancake': 1,\n",
              "         'ever': 36,\n",
              "         'house': 124,\n",
              "         'usual': 3,\n",
              "         'thunderstorm': 18,\n",
              "         'fml': 2,\n",
              "         'full': 19,\n",
              "         'swing': 2,\n",
              "         'new': 82,\n",
              "         'garden': 8,\n",
              "         'road': 40,\n",
              "         'gso': 2,\n",
              "         'bitch': 14,\n",
              "         'thinking': 14,\n",
              "         'smh': 27,\n",
              "         'bro': 12,\n",
              "         'church': 17,\n",
              "         'available': 29,\n",
              "         'bern': 1,\n",
              "         'aplenty': 1,\n",
              "         'pound': 2,\n",
              "         'another': 49,\n",
              "         'ol': 1,\n",
              "         'town': 28,\n",
              "         'ima': 11,\n",
              "         'befre': 1,\n",
              "         'right': 185,\n",
              "         'free': 55,\n",
              "         'music': 11,\n",
              "         'harmony': 2,\n",
              "         'harmonious': 1,\n",
              "         'law': 8,\n",
              "         'note': 3,\n",
              "         'body': 1,\n",
              "         'movement': 1,\n",
              "         'wine': 3,\n",
              "         'sex': 1,\n",
              "         'head': 29,\n",
              "         'spinnin': 1,\n",
              "         'gourmet': 1,\n",
              "         'ur': 31,\n",
              "         'window': 59,\n",
              "         'would': 75,\n",
              "         'since': 20,\n",
              "         'coming': 58,\n",
              "         'stocking': 1,\n",
              "         'fault': 2,\n",
              "         'follow': 14,\n",
              "         'feed': 11,\n",
              "         'poor': 10,\n",
              "         'thrown': 6,\n",
              "         'campus': 43,\n",
              "         'dining': 1,\n",
              "         'c': 15,\n",
              "         'guess': 25,\n",
              "         'dinner': 6,\n",
              "         'stale': 1,\n",
              "         'poptarts': 1,\n",
              "         'whoooo': 1,\n",
              "         'im': 67,\n",
              "         'tent': 1,\n",
              "         'listening': 9,\n",
              "         'radio': 20,\n",
              "         'man': 51,\n",
              "         'naht': 1,\n",
              "         'sure': 37,\n",
              "         'really': 83,\n",
              "         'worth': 7,\n",
              "         'school': 47,\n",
              "         'deli': 3,\n",
              "         'text': 24,\n",
              "         'thing': 40,\n",
              "         'warm': 2,\n",
              "         'charge': 9,\n",
              "         'phone': 20,\n",
              "         'case': 26,\n",
              "         'lose': 2,\n",
              "         'filling': 5,\n",
              "         'furniture': 6,\n",
              "         'omg': 23,\n",
              "         'either': 8,\n",
              "         'wind': 55,\n",
              "         'pant': 4,\n",
              "         'harper': 1,\n",
              "         'spicy': 2,\n",
              "         'latter': 1,\n",
              "         'anybody': 4,\n",
              "         'shit': 72,\n",
              "         'dis': 9,\n",
              "         'nigga': 15,\n",
              "         'famous': 1,\n",
              "         'da': 47,\n",
              "         'damn': 65,\n",
              "         'place': 94,\n",
              "         'downtown': 47,\n",
              "         'location': 9,\n",
              "         'donating': 6,\n",
              "         'keep': 26,\n",
              "         'momentum': 2,\n",
              "         'thank': 26,\n",
              "         'let': 45,\n",
              "         'rd': 10,\n",
              "         'munch': 1,\n",
              "         'potato': 2,\n",
              "         'chip': 1,\n",
              "         'sooo': 4,\n",
              "         'm': 14,\n",
              "         'collecting': 11,\n",
              "         'fri': 4,\n",
              "         'sat': 10,\n",
              "         'freebiequeen': 1,\n",
              "         'update': 15,\n",
              "         'stop': 53,\n",
              "         'example': 2,\n",
              "         'non': 9,\n",
              "         'perishable': 8,\n",
              "         'natural': 3,\n",
              "         'live': 95,\n",
              "         'strickland': 2,\n",
              "         'donate': 28,\n",
              "         'item': 28,\n",
              "         'toiletry': 4,\n",
              "         'cash': 3,\n",
              "         'sandra': 1,\n",
              "         'hughes': 1,\n",
              "         'helping': 11,\n",
              "         'collect': 5,\n",
              "         'mph': 13,\n",
              "         'come': 69,\n",
              "         'carbondale': 2,\n",
              "         'university': 8,\n",
              "         'simulator': 1,\n",
              "         'near': 196,\n",
              "         'okay': 39,\n",
              "         'lighting': 2,\n",
              "         'magic': 7,\n",
              "         'wore': 1,\n",
              "         'saturday': 6,\n",
              "         'chatham': 2,\n",
              "         'john': 6,\n",
              "         'crane': 1,\n",
              "         'center': 26,\n",
              "         'teaming': 1,\n",
              "         'girl': 21,\n",
              "         'cheryl': 1,\n",
              "         'whole': 16,\n",
              "         'donated': 8,\n",
              "         'serious': 19,\n",
              "         'deliciousness': 1,\n",
              "         'huge': 32,\n",
              "         'loaded': 2,\n",
              "         'capacity': 1,\n",
              "         'serving': 5,\n",
              "         'unexpected': 1,\n",
              "         'moved': 14,\n",
              "         'riding': 6,\n",
              "         'glad': 39,\n",
              "         'amazed': 1,\n",
              "         'boy': 11,\n",
              "         'sweep': 11,\n",
              "         'thru': 38,\n",
              "         'god': 30,\n",
              "         'bigger': 2,\n",
              "         'comin': 14,\n",
              "         'soon': 17,\n",
              "         'loving': 1,\n",
              "         'story': 12,\n",
              "         'james': 3,\n",
              "         'weird': 3,\n",
              "         'award': 1,\n",
              "         'goldfish': 1,\n",
              "         'racing': 6,\n",
              "         'bungled': 1,\n",
              "         'burglar': 1,\n",
              "         'snatching': 1,\n",
              "         'born': 2,\n",
              "         'sound': 64,\n",
              "         'sum': 6,\n",
              "         'song': 5,\n",
              "         'made': 19,\n",
              "         'said': 63,\n",
              "         'nice': 29,\n",
              "         'feel': 21,\n",
              "         'every': 14,\n",
              "         'one': 99,\n",
              "         'give': 20,\n",
              "         'money': 9,\n",
              "         'raised': 3,\n",
              "         'thousand': 12,\n",
              "         'fred': 1,\n",
              "         'club': 6,\n",
              "         'world': 7,\n",
              "         'calmest': 4,\n",
              "         'v': 9,\n",
              "         'joined': 2,\n",
              "         'idol': 1,\n",
              "         'party': 11,\n",
              "         'auditorium': 1,\n",
              "         'rec': 6,\n",
              "         'bring': 36,\n",
              "         'canned': 9,\n",
              "         'giggle': 2,\n",
              "         'cupcake': 1,\n",
              "         'land': 3,\n",
              "         'rain': 47,\n",
              "         'awesome': 22,\n",
              "         'hey': 10,\n",
              "         'raleighwood': 1,\n",
              "         'anyone': 31,\n",
              "         'proper': 2,\n",
              "         'fund': 3,\n",
              "         'bar': 6,\n",
              "         'avenue': 2,\n",
              "         'loading': 1,\n",
              "         'ice': 6,\n",
              "         'friend': 48,\n",
              "         'wset': 1,\n",
              "         'westover': 1,\n",
              "         'dr': 4,\n",
              "         'join': 1,\n",
              "         'city': 50,\n",
              "         'bringing': 1,\n",
              "         'april': 2,\n",
              "         'nawl': 2,\n",
              "         'considered': 2,\n",
              "         'tehehe': 1,\n",
              "         'needing': 3,\n",
              "         'rob': 1,\n",
              "         'rent': 3,\n",
              "         'central': 7,\n",
              "         'carolina': 9,\n",
              "         'wish': 14,\n",
              "         'still': 59,\n",
              "         'dealing': 2,\n",
              "         'cleanup': 3,\n",
              "         'xtra': 1,\n",
              "         'expo': 1,\n",
              "         'heart': 5,\n",
              "         'stealing': 2,\n",
              "         'cheeseburger': 2,\n",
              "         'wat': 3,\n",
              "         'nxt': 2,\n",
              "         'funniest': 3,\n",
              "         'angry': 4,\n",
              "         'guy': 38,\n",
              "         'stole': 3,\n",
              "         'robbed': 2,\n",
              "         'hamburger': 4,\n",
              "         'sc': 4,\n",
              "         'morbidly': 1,\n",
              "         'obese': 1,\n",
              "         'least': 23,\n",
              "         'month': 7,\n",
              "         'ordering': 2,\n",
              "         'headed': 35,\n",
              "         'frozen': 1,\n",
              "         'nd': 12,\n",
              "         'nt': 5,\n",
              "         'bout': 32,\n",
              "         'standing': 4,\n",
              "         'stove': 1,\n",
              "         'passing': 5,\n",
              "         'blithering': 1,\n",
              "         'idiot': 6,\n",
              "         'driving': 41,\n",
              "         'woulda': 2,\n",
              "         'hella': 5,\n",
              "         'snatched': 3,\n",
              "         'hand': 14,\n",
              "         'lmaoo': 2,\n",
              "         'bullshitting': 1,\n",
              "         'line': 19,\n",
              "         'done': 9,\n",
              "         'paid': 3,\n",
              "         'imagine': 7,\n",
              "         'dat': 19,\n",
              "         'blowin': 1,\n",
              "         'yo': 18,\n",
              "         'blunt': 1,\n",
              "         'surge': 2,\n",
              "         'light': 10,\n",
              "         'candle': 29,\n",
              "         'fan': 8,\n",
              "         'cool': 19,\n",
              "         'puppy': 3,\n",
              "         'bed': 21,\n",
              "         'service': 26,\n",
              "         'hong': 2,\n",
              "         'kong': 2,\n",
              "         'delivered': 3,\n",
              "         'honey': 2,\n",
              "         'nut': 1,\n",
              "         'cheerio': 1,\n",
              "         'make': 56,\n",
              "         'pretty': 22,\n",
              "         'shitt': 1,\n",
              "         'look': 35,\n",
              "         'buffalo': 6,\n",
              "         'wild': 22,\n",
              "         'picking': 2,\n",
              "         'til': 8,\n",
              "         'luckily': 2,\n",
              "         'brought': 7,\n",
              "         'bunch': 2,\n",
              "         'suck': 17,\n",
              "         'say': 65,\n",
              "         'bish': 1,\n",
              "         'risked': 1,\n",
              "         'gon': 5,\n",
              "         'dilemma': 1,\n",
              "         'indy': 1,\n",
              "         'starving': 1,\n",
              "         'crib': 6,\n",
              "         'whatsoever': 1,\n",
              "         'worst': 13,\n",
              "         'past': 8,\n",
              "         'fat': 2,\n",
              "         'as': 34,\n",
              "         'der': 1,\n",
              "         'cook': 2,\n",
              "         'haha': 31,\n",
              "         'consider': 2,\n",
              "         'heard': 22,\n",
              "         'terre': 1,\n",
              "         'haute': 1,\n",
              "         'grab': 9,\n",
              "         'hide': 10,\n",
              "         'naw': 2,\n",
              "         'safe': 238,\n",
              "         'holy': 16,\n",
              "         'moly': 1,\n",
              "         'hail': 59,\n",
              "         'downpour': 3,\n",
              "         'possible': 66,\n",
              "         'summit': 1,\n",
              "         'stayed': 4,\n",
              "         'dear': 7,\n",
              "         'busy': 3,\n",
              "         'trying': 15,\n",
              "         'sincerely': 2,\n",
              "         'little': 76,\n",
              "         'fool': 7,\n",
              "         'graham': 2,\n",
              "         'alert': 26,\n",
              "         'paused': 2,\n",
              "         'around': 43,\n",
              "         'bag': 4,\n",
              "         'stopped': 8,\n",
              "         'milk': 2,\n",
              "         'happy': 11,\n",
              "         'wipe': 3,\n",
              "         'away': 84,\n",
              "         'buffet': 1,\n",
              "         'warnin': 3,\n",
              "         'eiu': 1,\n",
              "         'top': 27,\n",
              "         'tht': 8,\n",
              "         'plate': 1,\n",
              "         'loved': 5,\n",
              "         'roomy': 2,\n",
              "         'patrol': 2,\n",
              "         'bobos': 1,\n",
              "         'tho': 13,\n",
              "         'dang': 9,\n",
              "         'ordered': 2,\n",
              "         'weather': 104,\n",
              "         'often': 2,\n",
              "         'headin': 1,\n",
              "         'outback': 1,\n",
              "         'bk': 1,\n",
              "         'talk': 8,\n",
              "         'balt': 1,\n",
              "         'active': 5,\n",
              "         'um': 8,\n",
              "         'soooo': 6,\n",
              "         'severe': 22,\n",
              "         'gettin': 7,\n",
              "         'real': 25,\n",
              "         'radar': 37,\n",
              "         'boutta': 1,\n",
              "         'cu': 3,\n",
              "         'imma': 7,\n",
              "         'system': 4,\n",
              "         'wonder': 13,\n",
              "         'could': 30,\n",
              "         'someone': 18,\n",
              "         'brave': 5,\n",
              "         'freaking': 10,\n",
              "         'etowah': 2,\n",
              "         'sonic': 1,\n",
              "         'stay': 64,\n",
              "         'open': 19,\n",
              "         'actually': 11,\n",
              "         'fucking': 14,\n",
              "         'stupid': 10,\n",
              "         'cake': 1,\n",
              "         'lemme': 4,\n",
              "         'ahead': 8,\n",
              "         'deliver': 2,\n",
              "         'mom': 35,\n",
              "         'told': 21,\n",
              "         'waste': 4,\n",
              "         'chick': 3,\n",
              "         'fil': 2,\n",
              "         'si': 3,\n",
              "         'comfort': 4,\n",
              "         'joseph': 1,\n",
              "         'gonnahh': 1,\n",
              "         'fix': 3,\n",
              "         'mehh': 1,\n",
              "         'there': 8,\n",
              "         'hold': 3,\n",
              "         'committing': 1,\n",
              "         'stadium': 14,\n",
              "         'yet': 16,\n",
              "         'manee': 1,\n",
              "         'thiss': 3,\n",
              "         'niggahss': 1,\n",
              "         'hungryy': 1,\n",
              "         'boudda': 1,\n",
              "         'somee': 1,\n",
              "         'saying': 39,\n",
              "         'tight': 2,\n",
              "         'pic': 11,\n",
              "         'yikes': 3,\n",
              "         'disrupting': 1,\n",
              "         'schedule': 2,\n",
              "         'formed': 2,\n",
              "         'prolly': 1,\n",
              "         'gicing': 1,\n",
              "         'tip': 6,\n",
              "         'survive': 23,\n",
              "         'cable': 2,\n",
              "         'chatt': 1,\n",
              "         'takingg': 1,\n",
              "         'doe': 3,\n",
              "         'round': 14,\n",
              "         'wondering': 2,\n",
              "         'closing': 2,\n",
              "         'cafe': 1,\n",
              "         'makinnn': 1,\n",
              "         'taco': 2,\n",
              "         'perfect': 8,\n",
              "         'ate': 4,\n",
              "         'bad': 61,\n",
              "         'concerned': 5,\n",
              "         'pie': 1,\n",
              "         'plight': 1,\n",
              "         'stylist': 1,\n",
              "         'senior': 2,\n",
              "         'picnic': 1,\n",
              "         'tshirt': 1,\n",
              "         'awww': 3,\n",
              "         'poppin': 1,\n",
              "         'hate': 13,\n",
              "         'walmart': 7,\n",
              "         'section': 1,\n",
              "         'kind': 19,\n",
              "         'die': 18,\n",
              "         'omfg': 3,\n",
              "         'lunch': 6,\n",
              "         'hour': 23,\n",
              "         'cold': 5,\n",
              "         'dad': 15,\n",
              "         'felt': 6,\n",
              "         'sorry': 12,\n",
              "         'substantial': 3,\n",
              "         'katrina': 2,\n",
              "         'southern': 16,\n",
              "         'miss': 9,\n",
              "         'student': 14,\n",
              "         'stamp': 6,\n",
              "         'card': 6,\n",
              "         'olemiss': 1,\n",
              "         'betta': 3,\n",
              "         'leaave': 1,\n",
              "         'heed': 3,\n",
              "         'situation': 11,\n",
              "         'whenever': 4,\n",
              "         'ion': 4,\n",
              "         'nun': 4,\n",
              "         'tryin': 8,\n",
              "         'shut': 6,\n",
              "         'bruh': 1,\n",
              "         'befo': 1,\n",
              "         'everythin': 1,\n",
              "         'ok': 88,\n",
              "         'enough': 16,\n",
              "         'main': 24,\n",
              "         'mind': 7,\n",
              "         'huuuuuuungry': 1,\n",
              "         'aahhhhhhaa': 1,\n",
              "         'shutup': 1,\n",
              "         'cant': 7,\n",
              "         'thanx': 2,\n",
              "         'vilonia': 14,\n",
              "         'high': 29,\n",
              "         'lake': 7,\n",
              "         'scared': 32,\n",
              "         'goin': 14,\n",
              "         'working': 5,\n",
              "         'hunger': 2,\n",
              "         'hotline': 2,\n",
              "         'knew': 3,\n",
              "         'eastside': 1,\n",
              "         'sharing': 1,\n",
              "         'ish': 1,\n",
              "         'effort': 3,\n",
              "         'snack': 6,\n",
              "         'crew': 2,\n",
              "         'apt': 10,\n",
              "         'amenity': 2,\n",
              "         'whose': 3,\n",
              "         'liquor': 3,\n",
              "         'chicken': 5,\n",
              "         'saw': 23,\n",
              "         'seriously': 16,\n",
              "         'finish': 2,\n",
              "         'ran': 11,\n",
              "         'thats': 14,\n",
              "         'ron': 3,\n",
              "         'swanson': 1,\n",
              "         'approves': 1,\n",
              "         'close': 40,\n",
              "         'lasagna': 1,\n",
              "         'berry': 3,\n",
              "         'so': 1,\n",
              "         'send': 14,\n",
              "         'trapped': 18,\n",
              "         'dana': 1,\n",
              "         'art': 1,\n",
              "         'sychophants': 1,\n",
              "         'sticking': 1,\n",
              "         'joint': 1,\n",
              "         'turn': 12,\n",
              "         'booty': 1,\n",
              "         'worker': 6,\n",
              "         'gesture': 2,\n",
              "         'among': 1,\n",
              "         'tore': 6,\n",
              "         'courthouse': 2,\n",
              "         'wrecked': 3,\n",
              "         'killed': 11,\n",
              "         'starting': 3,\n",
              "         'boxing': 1,\n",
              "         'gathering': 2,\n",
              "         'interrupting': 2,\n",
              "         'rained': 2,\n",
              "         'stopping': 1,\n",
              "         'temple': 1,\n",
              "         'hang': 2,\n",
              "         'kinney': 1,\n",
              "         'leonhardt': 1,\n",
              "         'crap': 10,\n",
              "         'started': 8,\n",
              "         'hmmmm': 1,\n",
              "         'mmmmm': 1,\n",
              "         'plenty': 1,\n",
              "         'informed': 1,\n",
              "         'hi': 4,\n",
              "         'de': 1,\n",
              "         'havin': 2,\n",
              "         'fun': 33,\n",
              "         'didnt': 4,\n",
              "         'mile': 33,\n",
              "         'plan': 6,\n",
              "         'though': 15,\n",
              "         'wrapped': 3,\n",
              "         'maybe': 20,\n",
              "         'island': 3,\n",
              "         'idea': 14,\n",
              "         'using': 2,\n",
              "         'brokhaven': 1,\n",
              "         'beer': 4,\n",
              "         'check': 23,\n",
              "         'set': 7,\n",
              "         'parent': 7,\n",
              "         'dont': 22,\n",
              "         'caught': 24,\n",
              "         'flood': 15,\n",
              "         'rum': 1,\n",
              "         'tryna': 12,\n",
              "         'uc': 1,\n",
              "         'cooking': 3,\n",
              "         'clement': 1,\n",
              "         'combination': 1,\n",
              "         'la': 9,\n",
              "         'di': 1,\n",
              "         'dash': 1,\n",
              "         'post': 13,\n",
              "         'piggly': 6,\n",
              "         'wiggly': 6,\n",
              "         'owner': 11,\n",
              "         'eatocracy': 1,\n",
              "         'cnn': 5,\n",
              "         'com': 24,\n",
              "         'blog': 6,\n",
              "         'al': 172,\n",
              "         'ga': 38,\n",
              "         'flashlight': 4,\n",
              "         'battery': 4,\n",
              "         'baby': 12,\n",
              "         'gtrbc': 1,\n",
              "         'flat': 8,\n",
              "         'shoal': 2,\n",
              "         'pkwy': 1,\n",
              "         'dec': 1,\n",
              "         'monday': 3,\n",
              "         'doctor': 5,\n",
              "         'muzzle': 1,\n",
              "         'equestria': 1,\n",
              "         'rare': 2,\n",
              "         'devours': 1,\n",
              "         'front': 16,\n",
              "         'whats': 6,\n",
              "         'special': 4,\n",
              "         'element': 1,\n",
              "         'anyways': 2,\n",
              "         'mmm': 1,\n",
              "         'cart': 1,\n",
              "         'library': 5,\n",
              "         'yummmm': 1,\n",
              "         'slept': 3,\n",
              "         'never': 24,\n",
              "         'bjc': 1,\n",
              "         'animal': 14,\n",
              "         'control': 3,\n",
              "         'caring': 2,\n",
              "         'dog': 50,\n",
              "         'displaced': 3,\n",
              "         'igloo': 1,\n",
              "         'small': 11,\n",
              "         'msg': 5,\n",
              "         'madison': 14,\n",
              "         'mission': 4,\n",
              "         'shelton': 1,\n",
              "         'till': 15,\n",
              "         'studdedlove': 1,\n",
              "         'project': 2,\n",
              "         'support': 7,\n",
              "         'necessity': 2,\n",
              "         'driver': 13,\n",
              "         'planning': 2,\n",
              "         'delivery': 1,\n",
              "         'hipster': 1,\n",
              "         'olive': 1,\n",
              "         'dark': 9,\n",
              "         'chocolate': 1,\n",
              "         'anything': 8,\n",
              "         'organic': 1,\n",
              "         'greater': 1,\n",
              "         'birmingham': 80,\n",
              "         'humane': 2,\n",
              "         'society': 2,\n",
              "         'care': 9,\n",
              "         'brand': 4,\n",
              "         'cat': 11,\n",
              "         'collar': 1,\n",
              "         'spca': 1,\n",
              "         'housing': 1,\n",
              "         'emerg': 1,\n",
              "         'ravished': 1,\n",
              "         'christmas': 1,\n",
              "         'toy': 6,\n",
              "         'campbell': 2,\n",
              "         'chunky': 1,\n",
              "         'soup': 1,\n",
              "         'hows': 1,\n",
              "         'alley': 24,\n",
              "         'diaper': 5,\n",
              "         'sock': 1,\n",
              "         'underwear': 3,\n",
              "         'hygiene': 4,\n",
              "         'product': 1,\n",
              "         'pl': 2,\n",
              "         'across': 26,\n",
              "         'suffering': 2,\n",
              "         'plse': 1,\n",
              "         'homeless': 9,\n",
              "         'survived': 13,\n",
              "         'bathtub': 7,\n",
              "         'wear': 3,\n",
              "         'raise': 3,\n",
              "         'awareness': 1,\n",
              "         'desperate': 1,\n",
              "         'helped': 6,\n",
              "         'pick': 15,\n",
              "         'wednesday': 3,\n",
              "         'grocery': 4,\n",
              "         'farmer': 1,\n",
              "         'market': 5,\n",
              "         ...})"
            ]
          },
          "metadata": {
            "tags": []
          },
          "execution_count": 29
        }
      ]
    },
    {
      "cell_type": "code",
      "metadata": {
        "colab": {
          "base_uri": "https://localhost:8080/"
        },
        "id": "2HlKoRBD_auE",
        "outputId": "f969dab7-d6ca-4fe2-9495-083ed9b53678"
      },
      "source": [
        "# get the 10 most frequent words\n",
        "top_ten_words = all_word_freq.most_common(10)\n",
        "# view the 10 most common words\n",
        "top_ten_words"
      ],
      "execution_count": 30,
      "outputs": [
        {
          "output_type": "execute_result",
          "data": {
            "text/plain": [
              "[('tornado', 3465),\n",
              " ('shelter', 1673),\n",
              " ('car', 1144),\n",
              " ('rt', 721),\n",
              " ('take', 540),\n",
              " ('warning', 536),\n",
              " ('food', 530),\n",
              " ('seek', 423),\n",
              " ('ride', 293),\n",
              " ('get', 281)]"
            ]
          },
          "metadata": {
            "tags": []
          },
          "execution_count": 30
        }
      ]
    },
    {
      "cell_type": "code",
      "metadata": {
        "colab": {
          "base_uri": "https://localhost:8080/",
          "height": 404
        },
        "id": "84MZIiTCGPdt",
        "outputId": "4a6a4a4e-1651-4e7d-93eb-fa9db198fb22"
      },
      "source": [
        "#Converting word frequency into dataframes\n",
        "frequency_df = pd.DataFrame.from_dict(all_word_freq, orient='index').reset_index()\n",
        "# rename the columns to \"word\" and \"freq\"\n",
        "frequency_df.columns=[\"word\", \"freq\"]\n",
        "#Plotting Graph for top 20 words\n",
        "fig, ax = plt.subplots(figsize=(12,6))\n",
        "sns.barplot(data=frequency_df.sort_values(by=\"freq\", ascending=False).head(10), \n",
        "            y=\"freq\", \n",
        "            x=\"word\", \n",
        "            color='#7bbcd5')\n",
        "plt.ylabel(\"Frequency\")\n",
        "plt.xlabel(\"Word\")\n",
        "plt.title(\"Top 10 Most Frequent Words\")\n",
        "sns.despine();"
      ],
      "execution_count": 31,
      "outputs": [
        {
          "output_type": "display_data",
          "data": {
            "image/png": "[encoded data removed]",
            "text/plain": [
              "<Figure size 864x432 with 1 Axes>"
            ]
          },
          "metadata": {
            "tags": [],
            "needs_background": "light"
          }
        }
      ]
    },
    {
      "cell_type": "markdown",
      "metadata": {
        "id": "8pfBsVxoRfRW"
      },
      "source": [
        "**2. Create a topic model using the LDA approach & extract 10 meaningful topics (15 points)**"
      ]
    },
    {
      "cell_type": "code",
      "metadata": {
        "id": "oVaGT6eI_dfF"
      },
      "source": [
        "dictionary = corpora.Dictionary(df[\"Text\"].tolist())"
      ],
      "execution_count": 32,
      "outputs": []
    },
    {
      "cell_type": "code",
      "metadata": {
        "id": "-9sppL_4_fx-"
      },
      "source": [
        "doc_term_matrix = [dictionary.doc2bow(doc) for doc in df[\"Text\"]]"
      ],
      "execution_count": 33,
      "outputs": []
    },
    {
      "cell_type": "code",
      "metadata": {
        "id": "ALrqdj8K_h1T"
      },
      "source": [
        "lda = gensim.models.ldamodel.LdaModel"
      ],
      "execution_count": 34,
      "outputs": []
    },
    {
      "cell_type": "code",
      "metadata": {
        "id": "4_kxhe0__j8t"
      },
      "source": [
        "lda_model = lda(doc_term_matrix, num_topics=10, id2word=dictionary, passes=20)"
      ],
      "execution_count": 35,
      "outputs": []
    },
    {
      "cell_type": "code",
      "metadata": {
        "colab": {
          "base_uri": "https://localhost:8080/"
        },
        "id": "2rqaUnI2_mH9",
        "outputId": "69ffa477-75fd-4c37-a045-1bc7fcabd092"
      },
      "source": [
        "print(lda_model.print_topics())"
      ],
      "execution_count": 36,
      "outputs": [
        {
          "output_type": "stream",
          "text": [
            "[(0, '0.076*\"tornado\" + 0.073*\"shelter\" + 0.044*\"take\" + 0.042*\"rt\" + 0.029*\"al\" + 0.026*\"tuscaloosa\" + 0.015*\"destructive\" + 0.015*\"ripping\" + 0.013*\"ground\" + 0.012*\"near\"'), (1, '0.066*\"tornado\" + 0.059*\"shelter\" + 0.031*\"safe\" + 0.026*\"place\" + 0.020*\"stop\" + 0.020*\"go\" + 0.019*\"sound\" + 0.019*\"like\" + 0.019*\"rt\" + 0.018*\"take\"'), (2, '0.087*\"ride\" + 0.081*\"tornado\" + 0.016*\"shelter\" + 0.015*\"like\" + 0.015*\"siren\" + 0.012*\"warning\" + 0.010*\"good\" + 0.010*\"home\" + 0.009*\"going\" + 0.009*\"go\"'), (3, '0.122*\"car\" + 0.065*\"tornado\" + 0.013*\"get\" + 0.009*\"weather\" + 0.009*\"vehicle\" + 0.009*\"two\" + 0.008*\"ok\" + 0.008*\"lot\" + 0.007*\"better\" + 0.007*\"run\"'), (4, '0.067*\"tornado\" + 0.057*\"car\" + 0.027*\"food\" + 0.025*\"victim\" + 0.017*\"help\" + 0.011*\"road\" + 0.010*\"hail\" + 0.008*\"one\" + 0.008*\"park\" + 0.008*\"across\"'), (5, '0.040*\"tornado\" + 0.028*\"food\" + 0.026*\"rt\" + 0.015*\"away\" + 0.012*\"water\" + 0.012*\"clean\" + 0.011*\"day\" + 0.011*\"bring\" + 0.011*\"caught\" + 0.010*\"relief\"'), (6, '0.038*\"tornado\" + 0.016*\"cell\" + 0.016*\"video\" + 0.014*\"shelter\" + 0.011*\"cool\" + 0.010*\"rt\" + 0.010*\"ball\" + 0.009*\"ga\" + 0.008*\"seen\" + 0.007*\"food\"'), (7, '0.082*\"tornado\" + 0.073*\"car\" + 0.035*\"lol\" + 0.032*\"food\" + 0.019*\"get\" + 0.015*\"got\" + 0.013*\"shit\" + 0.013*\"n\" + 0.013*\"fuck\" + 0.013*\"rt\"'), (8, '0.085*\"tornado\" + 0.054*\"shelter\" + 0.032*\"rt\" + 0.026*\"warning\" + 0.025*\"seek\" + 0.017*\"take\" + 0.014*\"u\" + 0.012*\"strong\" + 0.011*\"part\" + 0.010*\"safe\"'), (9, '0.096*\"tornado\" + 0.046*\"shelter\" + 0.038*\"car\" + 0.022*\"warning\" + 0.014*\"storm\" + 0.013*\"seek\" + 0.010*\"take\" + 0.010*\"right\" + 0.009*\"rt\" + 0.008*\"county\"')]\n"
          ],
          "name": "stdout"
        }
      ]
    },
    {
      "cell_type": "code",
      "metadata": {
        "colab": {
          "base_uri": "https://localhost:8080/"
        },
        "id": "rM5lTbqAJfqj",
        "outputId": "2a81b207-18e7-4f8d-862a-690a2142ce1a"
      },
      "source": [
        "topics = lda_model.print_topics(num_words=10)\n",
        "for topic in topics:\n",
        "    print(topic)"
      ],
      "execution_count": 37,
      "outputs": [
        {
          "output_type": "stream",
          "text": [
            "(0, '0.076*\"tornado\" + 0.073*\"shelter\" + 0.044*\"take\" + 0.042*\"rt\" + 0.029*\"al\" + 0.026*\"tuscaloosa\" + 0.015*\"destructive\" + 0.015*\"ripping\" + 0.013*\"ground\" + 0.012*\"near\"')\n",
            "(1, '0.066*\"tornado\" + 0.059*\"shelter\" + 0.031*\"safe\" + 0.026*\"place\" + 0.020*\"stop\" + 0.020*\"go\" + 0.019*\"sound\" + 0.019*\"like\" + 0.019*\"rt\" + 0.018*\"take\"')\n",
            "(2, '0.087*\"ride\" + 0.081*\"tornado\" + 0.016*\"shelter\" + 0.015*\"like\" + 0.015*\"siren\" + 0.012*\"warning\" + 0.010*\"good\" + 0.010*\"home\" + 0.009*\"going\" + 0.009*\"go\"')\n",
            "(3, '0.122*\"car\" + 0.065*\"tornado\" + 0.013*\"get\" + 0.009*\"weather\" + 0.009*\"vehicle\" + 0.009*\"two\" + 0.008*\"ok\" + 0.008*\"lot\" + 0.007*\"better\" + 0.007*\"run\"')\n",
            "(4, '0.067*\"tornado\" + 0.057*\"car\" + 0.027*\"food\" + 0.025*\"victim\" + 0.017*\"help\" + 0.011*\"road\" + 0.010*\"hail\" + 0.008*\"one\" + 0.008*\"park\" + 0.008*\"across\"')\n",
            "(5, '0.040*\"tornado\" + 0.028*\"food\" + 0.026*\"rt\" + 0.015*\"away\" + 0.012*\"water\" + 0.012*\"clean\" + 0.011*\"day\" + 0.011*\"bring\" + 0.011*\"caught\" + 0.010*\"relief\"')\n",
            "(6, '0.038*\"tornado\" + 0.016*\"cell\" + 0.016*\"video\" + 0.014*\"shelter\" + 0.011*\"cool\" + 0.010*\"rt\" + 0.010*\"ball\" + 0.009*\"ga\" + 0.008*\"seen\" + 0.007*\"food\"')\n",
            "(7, '0.082*\"tornado\" + 0.073*\"car\" + 0.035*\"lol\" + 0.032*\"food\" + 0.019*\"get\" + 0.015*\"got\" + 0.013*\"shit\" + 0.013*\"n\" + 0.013*\"fuck\" + 0.013*\"rt\"')\n",
            "(8, '0.085*\"tornado\" + 0.054*\"shelter\" + 0.032*\"rt\" + 0.026*\"warning\" + 0.025*\"seek\" + 0.017*\"take\" + 0.014*\"u\" + 0.012*\"strong\" + 0.011*\"part\" + 0.010*\"safe\"')\n",
            "(9, '0.096*\"tornado\" + 0.046*\"shelter\" + 0.038*\"car\" + 0.022*\"warning\" + 0.014*\"storm\" + 0.013*\"seek\" + 0.010*\"take\" + 0.010*\"right\" + 0.009*\"rt\" + 0.008*\"county\"')\n"
          ],
          "name": "stdout"
        }
      ]
    },
    {
      "cell_type": "code",
      "metadata": {
        "colab": {
          "base_uri": "https://localhost:8080/"
        },
        "id": "-YZG9mK3JPq4",
        "outputId": "37880f41-9344-4a88-b8e3-1fd278e2bbfb"
      },
      "source": [
        "print('\\nPerplexity:', lda_model.log_perplexity(doc_term_matrix))\n",
        "\n",
        "coherence_score_lda = CoherenceModel(model=lda_model, texts=df['Text'], dictionary=dictionary, coherence='c_v')\n",
        "coherence_score = coherence_score_lda.get_coherence()\n",
        "\n",
        "print('\\nCoherence Score:', coherence_score)"
      ],
      "execution_count": 38,
      "outputs": [
        {
          "output_type": "stream",
          "text": [
            "\n",
            "Perplexity: -7.1002333525111325\n",
            "\n",
            "Coherence Score: 0.3017943511450268\n"
          ],
          "name": "stdout"
        }
      ]
    },
    {
      "cell_type": "markdown",
      "metadata": {
        "id": "ZRj5deTjRlrU"
      },
      "source": [
        "<H5 align=\"left\"><b> Thank you </b></H5>\n",
        "<H5 align=\"left\"><b> Assignment -4 Part A: Topic Modeling & Sentiment Analysis </b></H5>\n",
        "<H5 align=\"left\"><b> Prepared and Submitted By : Rahul Raj Sharma </b></H5>"
      ]
    }
  ]
}